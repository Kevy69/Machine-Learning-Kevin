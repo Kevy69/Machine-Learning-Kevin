{
 "cells": [
  {
   "cell_type": "code",
   "execution_count": 1,
   "metadata": {},
   "outputs": [],
   "source": [
    "import numpy as np\n",
    "import pandas as pd\n",
    "import matplotlib.pyplot as plt\n",
    "import seaborn as sns\n",
    "\n",
    "from sklearn.model_selection import train_test_split\n",
    "from sklearn.preprocessing import StandardScaler, MinMaxScaler\n",
    "\n",
    "from sklearn.linear_model import LogisticRegression\n",
    "from sklearn.model_selection import GridSearchCV\n",
    "\n",
    "sns.set_theme()\n",
    "\n",
    "from lab2 import Helper"
   ]
  },
  {
   "cell_type": "code",
   "execution_count": 2,
   "metadata": {},
   "outputs": [
    {
     "data": {
      "text/html": [
       "<div>\n",
       "<style scoped>\n",
       "    .dataframe tbody tr th:only-of-type {\n",
       "        vertical-align: middle;\n",
       "    }\n",
       "\n",
       "    .dataframe tbody tr th {\n",
       "        vertical-align: top;\n",
       "    }\n",
       "\n",
       "    .dataframe thead th {\n",
       "        text-align: right;\n",
       "    }\n",
       "</style>\n",
       "<table border=\"1\" class=\"dataframe\">\n",
       "  <thead>\n",
       "    <tr style=\"text-align: right;\">\n",
       "      <th></th>\n",
       "      <th>id</th>\n",
       "      <th>age</th>\n",
       "      <th>cholesterol</th>\n",
       "      <th>gluc</th>\n",
       "      <th>smoke</th>\n",
       "      <th>alco</th>\n",
       "      <th>active</th>\n",
       "      <th>cardio</th>\n",
       "      <th>gender_2</th>\n",
       "      <th>bmi-feature_obese (class I)</th>\n",
       "      <th>bmi-feature_obese (class II)</th>\n",
       "      <th>bmi-feature_obese (class III)</th>\n",
       "      <th>bmi-feature_overweight</th>\n",
       "      <th>bp-feature_healthy</th>\n",
       "      <th>bp-feature_hypertension crises</th>\n",
       "      <th>bp-feature_stage 1 hypertension</th>\n",
       "      <th>bp-feature_stage 2 hypertension</th>\n",
       "    </tr>\n",
       "  </thead>\n",
       "  <tbody>\n",
       "    <tr>\n",
       "      <th>0</th>\n",
       "      <td>0</td>\n",
       "      <td>18393</td>\n",
       "      <td>1</td>\n",
       "      <td>1</td>\n",
       "      <td>0</td>\n",
       "      <td>0</td>\n",
       "      <td>1</td>\n",
       "      <td>0</td>\n",
       "      <td>1</td>\n",
       "      <td>0</td>\n",
       "      <td>0</td>\n",
       "      <td>0</td>\n",
       "      <td>0</td>\n",
       "      <td>0</td>\n",
       "      <td>0</td>\n",
       "      <td>1</td>\n",
       "      <td>0</td>\n",
       "    </tr>\n",
       "    <tr>\n",
       "      <th>1</th>\n",
       "      <td>1</td>\n",
       "      <td>20228</td>\n",
       "      <td>3</td>\n",
       "      <td>1</td>\n",
       "      <td>0</td>\n",
       "      <td>0</td>\n",
       "      <td>1</td>\n",
       "      <td>1</td>\n",
       "      <td>0</td>\n",
       "      <td>1</td>\n",
       "      <td>0</td>\n",
       "      <td>0</td>\n",
       "      <td>0</td>\n",
       "      <td>0</td>\n",
       "      <td>0</td>\n",
       "      <td>0</td>\n",
       "      <td>1</td>\n",
       "    </tr>\n",
       "    <tr>\n",
       "      <th>2</th>\n",
       "      <td>2</td>\n",
       "      <td>18857</td>\n",
       "      <td>3</td>\n",
       "      <td>1</td>\n",
       "      <td>0</td>\n",
       "      <td>0</td>\n",
       "      <td>0</td>\n",
       "      <td>1</td>\n",
       "      <td>0</td>\n",
       "      <td>0</td>\n",
       "      <td>0</td>\n",
       "      <td>0</td>\n",
       "      <td>0</td>\n",
       "      <td>0</td>\n",
       "      <td>0</td>\n",
       "      <td>1</td>\n",
       "      <td>0</td>\n",
       "    </tr>\n",
       "  </tbody>\n",
       "</table>\n",
       "</div>"
      ],
      "text/plain": [
       "   id    age  cholesterol  gluc  smoke  alco  active  cardio  gender_2  \\\n",
       "0   0  18393            1     1      0     0       1       0         1   \n",
       "1   1  20228            3     1      0     0       1       1         0   \n",
       "2   2  18857            3     1      0     0       0       1         0   \n",
       "\n",
       "   bmi-feature_obese (class I)  bmi-feature_obese (class II)  \\\n",
       "0                            0                             0   \n",
       "1                            1                             0   \n",
       "2                            0                             0   \n",
       "\n",
       "   bmi-feature_obese (class III)  bmi-feature_overweight  bp-feature_healthy  \\\n",
       "0                              0                       0                   0   \n",
       "1                              0                       0                   0   \n",
       "2                              0                       0                   0   \n",
       "\n",
       "   bp-feature_hypertension crises  bp-feature_stage 1 hypertension  \\\n",
       "0                               0                                1   \n",
       "1                               0                                0   \n",
       "2                               0                                1   \n",
       "\n",
       "   bp-feature_stage 2 hypertension  \n",
       "0                                0  \n",
       "1                                1  \n",
       "2                                0  "
      ]
     },
     "metadata": {},
     "output_type": "display_data"
    },
    {
     "data": {
      "text/html": [
       "<div>\n",
       "<style scoped>\n",
       "    .dataframe tbody tr th:only-of-type {\n",
       "        vertical-align: middle;\n",
       "    }\n",
       "\n",
       "    .dataframe tbody tr th {\n",
       "        vertical-align: top;\n",
       "    }\n",
       "\n",
       "    .dataframe thead th {\n",
       "        text-align: right;\n",
       "    }\n",
       "</style>\n",
       "<table border=\"1\" class=\"dataframe\">\n",
       "  <thead>\n",
       "    <tr style=\"text-align: right;\">\n",
       "      <th></th>\n",
       "      <th>id</th>\n",
       "      <th>age</th>\n",
       "      <th>bmi</th>\n",
       "      <th>ap_hi</th>\n",
       "      <th>ap_lo</th>\n",
       "      <th>cholesterol</th>\n",
       "      <th>gluc</th>\n",
       "      <th>smoke</th>\n",
       "      <th>alco</th>\n",
       "      <th>active</th>\n",
       "      <th>cardio</th>\n",
       "      <th>gender_2</th>\n",
       "    </tr>\n",
       "  </thead>\n",
       "  <tbody>\n",
       "    <tr>\n",
       "      <th>0</th>\n",
       "      <td>0</td>\n",
       "      <td>18393</td>\n",
       "      <td>21</td>\n",
       "      <td>110</td>\n",
       "      <td>80</td>\n",
       "      <td>1</td>\n",
       "      <td>1</td>\n",
       "      <td>0</td>\n",
       "      <td>0</td>\n",
       "      <td>1</td>\n",
       "      <td>0</td>\n",
       "      <td>1</td>\n",
       "    </tr>\n",
       "    <tr>\n",
       "      <th>1</th>\n",
       "      <td>1</td>\n",
       "      <td>20228</td>\n",
       "      <td>34</td>\n",
       "      <td>140</td>\n",
       "      <td>90</td>\n",
       "      <td>3</td>\n",
       "      <td>1</td>\n",
       "      <td>0</td>\n",
       "      <td>0</td>\n",
       "      <td>1</td>\n",
       "      <td>1</td>\n",
       "      <td>0</td>\n",
       "    </tr>\n",
       "    <tr>\n",
       "      <th>2</th>\n",
       "      <td>2</td>\n",
       "      <td>18857</td>\n",
       "      <td>23</td>\n",
       "      <td>130</td>\n",
       "      <td>70</td>\n",
       "      <td>3</td>\n",
       "      <td>1</td>\n",
       "      <td>0</td>\n",
       "      <td>0</td>\n",
       "      <td>0</td>\n",
       "      <td>1</td>\n",
       "      <td>0</td>\n",
       "    </tr>\n",
       "  </tbody>\n",
       "</table>\n",
       "</div>"
      ],
      "text/plain": [
       "   id    age  bmi  ap_hi  ap_lo  cholesterol  gluc  smoke  alco  active  \\\n",
       "0   0  18393   21    110     80            1     1      0     0       1   \n",
       "1   1  20228   34    140     90            3     1      0     0       1   \n",
       "2   2  18857   23    130     70            3     1      0     0       0   \n",
       "\n",
       "   cardio  gender_2  \n",
       "0       0         1  \n",
       "1       1         0  \n",
       "2       1         0  "
      ]
     },
     "metadata": {},
     "output_type": "display_data"
    }
   ],
   "source": [
    "df1 = pd.read_csv('Data/df1.csv')\n",
    "df2 = pd.read_csv('Data/df2.csv')\n",
    "\n",
    "display(df1.head(3), df2.head(3))"
   ]
  },
  {
   "cell_type": "code",
   "execution_count": 3,
   "metadata": {},
   "outputs": [],
   "source": [
    "# Drop id as its not useful\n",
    "df1 = df1.drop('id', axis=1)\n",
    "df2 = df2.drop('id', axis=1)"
   ]
  },
  {
   "attachments": {},
   "cell_type": "markdown",
   "metadata": {},
   "source": [
    "### 2.4 - Välja modell"
   ]
  },
  {
   "attachments": {},
   "cell_type": "markdown",
   "metadata": {},
   "source": [
    "Chosen models:\n",
    "* Logistic regression\n",
    "* decision tree\n",
    "* random forest"
   ]
  },
  {
   "attachments": {},
   "cell_type": "markdown",
   "metadata": {},
   "source": [
    "##### train|validation|test split"
   ]
  },
  {
   "cell_type": "code",
   "execution_count": 4,
   "metadata": {},
   "outputs": [
    {
     "data": {
      "text/html": [
       "<div>\n",
       "<style scoped>\n",
       "    .dataframe tbody tr th:only-of-type {\n",
       "        vertical-align: middle;\n",
       "    }\n",
       "\n",
       "    .dataframe tbody tr th {\n",
       "        vertical-align: top;\n",
       "    }\n",
       "\n",
       "    .dataframe thead th {\n",
       "        text-align: right;\n",
       "    }\n",
       "</style>\n",
       "<table border=\"1\" class=\"dataframe\">\n",
       "  <thead>\n",
       "    <tr style=\"text-align: right;\">\n",
       "      <th></th>\n",
       "      <th>age</th>\n",
       "      <th>cholesterol</th>\n",
       "      <th>gluc</th>\n",
       "      <th>smoke</th>\n",
       "      <th>alco</th>\n",
       "      <th>active</th>\n",
       "      <th>gender_2</th>\n",
       "      <th>bmi-feature_obese (class I)</th>\n",
       "      <th>bmi-feature_obese (class II)</th>\n",
       "      <th>bmi-feature_obese (class III)</th>\n",
       "      <th>bmi-feature_overweight</th>\n",
       "      <th>bp-feature_healthy</th>\n",
       "      <th>bp-feature_hypertension crises</th>\n",
       "      <th>bp-feature_stage 1 hypertension</th>\n",
       "      <th>bp-feature_stage 2 hypertension</th>\n",
       "    </tr>\n",
       "  </thead>\n",
       "  <tbody>\n",
       "    <tr>\n",
       "      <th>0</th>\n",
       "      <td>18393</td>\n",
       "      <td>1</td>\n",
       "      <td>1</td>\n",
       "      <td>0</td>\n",
       "      <td>0</td>\n",
       "      <td>1</td>\n",
       "      <td>1</td>\n",
       "      <td>0</td>\n",
       "      <td>0</td>\n",
       "      <td>0</td>\n",
       "      <td>0</td>\n",
       "      <td>0</td>\n",
       "      <td>0</td>\n",
       "      <td>1</td>\n",
       "      <td>0</td>\n",
       "    </tr>\n",
       "  </tbody>\n",
       "</table>\n",
       "</div>"
      ],
      "text/plain": [
       "     age  cholesterol  gluc  smoke  alco  active  gender_2  \\\n",
       "0  18393            1     1      0     0       1         1   \n",
       "\n",
       "   bmi-feature_obese (class I)  bmi-feature_obese (class II)  \\\n",
       "0                            0                             0   \n",
       "\n",
       "   bmi-feature_obese (class III)  bmi-feature_overweight  bp-feature_healthy  \\\n",
       "0                              0                       0                   0   \n",
       "\n",
       "   bp-feature_hypertension crises  bp-feature_stage 1 hypertension  \\\n",
       "0                               0                                1   \n",
       "\n",
       "   bp-feature_stage 2 hypertension  \n",
       "0                                0  "
      ]
     },
     "metadata": {},
     "output_type": "display_data"
    },
    {
     "data": {
      "text/html": [
       "<div>\n",
       "<style scoped>\n",
       "    .dataframe tbody tr th:only-of-type {\n",
       "        vertical-align: middle;\n",
       "    }\n",
       "\n",
       "    .dataframe tbody tr th {\n",
       "        vertical-align: top;\n",
       "    }\n",
       "\n",
       "    .dataframe thead th {\n",
       "        text-align: right;\n",
       "    }\n",
       "</style>\n",
       "<table border=\"1\" class=\"dataframe\">\n",
       "  <thead>\n",
       "    <tr style=\"text-align: right;\">\n",
       "      <th></th>\n",
       "      <th>age</th>\n",
       "      <th>bmi</th>\n",
       "      <th>ap_hi</th>\n",
       "      <th>ap_lo</th>\n",
       "      <th>cholesterol</th>\n",
       "      <th>gluc</th>\n",
       "      <th>smoke</th>\n",
       "      <th>alco</th>\n",
       "      <th>active</th>\n",
       "      <th>gender_2</th>\n",
       "    </tr>\n",
       "  </thead>\n",
       "  <tbody>\n",
       "    <tr>\n",
       "      <th>0</th>\n",
       "      <td>18393</td>\n",
       "      <td>21</td>\n",
       "      <td>110</td>\n",
       "      <td>80</td>\n",
       "      <td>1</td>\n",
       "      <td>1</td>\n",
       "      <td>0</td>\n",
       "      <td>0</td>\n",
       "      <td>1</td>\n",
       "      <td>1</td>\n",
       "    </tr>\n",
       "  </tbody>\n",
       "</table>\n",
       "</div>"
      ],
      "text/plain": [
       "     age  bmi  ap_hi  ap_lo  cholesterol  gluc  smoke  alco  active  gender_2\n",
       "0  18393   21    110     80            1     1      0     0       1         1"
      ]
     },
     "metadata": {},
     "output_type": "display_data"
    }
   ],
   "source": [
    "df1_x, df1_y = df1.drop('cardio', axis=1), df1['cardio']\n",
    "df2_x, df2_y = df2.drop('cardio', axis=1), df2['cardio']\n",
    "\n",
    "display(\n",
    "    df1_x.head(1),\n",
    "    df2_x.head(1)\n",
    ")"
   ]
  },
  {
   "cell_type": "code",
   "execution_count": 5,
   "metadata": {},
   "outputs": [
    {
     "data": {
      "text/plain": [
       "((40918, 15), (40918,), (13640, 15), (13640,), (13640, 15), (13640,))"
      ]
     },
     "metadata": {},
     "output_type": "display_data"
    },
    {
     "data": {
      "text/plain": [
       "((40918, 10), (40918,), (13640, 10), (13640,), (13640, 10), (13640,))"
      ]
     },
     "metadata": {},
     "output_type": "display_data"
    }
   ],
   "source": [
    "df1_x_train, df1_x_val, df1_x_test, df1_y_train, df1_y_val, df1_y_test = Helper.train_val_test_split(df1_x, df1_y, split_size=0.2, rand_state=42)\n",
    "df2_x_train, df2_x_val, df2_x_test, df2_y_train, df2_y_val, df2_y_test = Helper.train_val_test_split(df2_x, df2_y, split_size=0.2, rand_state=42)\n",
    "\n",
    "display(\n",
    "    (df1_x_train.shape, df1_y_train.shape, df1_x_val.shape, df1_y_val.shape, df1_x_test.shape, df1_y_test.shape),\n",
    "    (df2_x_train.shape, df2_y_train.shape, df2_x_val.shape, df2_y_val.shape, df2_x_test.shape, df2_y_test.shape),\n",
    ")"
   ]
  },
  {
   "cell_type": "code",
   "execution_count": 6,
   "metadata": {},
   "outputs": [
    {
     "data": {
      "text/plain": [
       "(0.24469073517266024,\n",
       " 0.4111901139656925,\n",
       " 0.24653791612942894,\n",
       " 0.4122246262036306)"
      ]
     },
     "execution_count": 6,
     "metadata": {},
     "output_type": "execute_result"
    }
   ],
   "source": [
    "df1_x_train, df1_x_val = Helper.scaler('minmax', df1_x_train, df1_x_val)\n",
    "df1_x_train.mean(), df1_x_train.std(), df1_x_val.mean(), df1_x_val.std()"
   ]
  },
  {
   "cell_type": "code",
   "execution_count": null,
   "metadata": {},
   "outputs": [],
   "source": [
    "\"\"\"\n",
    "Logistic regression\n",
    "    Parameters\n",
    "        penalty: elasticnet\n",
    "        solver: saga\n",
    "\n",
    "    Hyperparamters\n",
    "        max_iter\n",
    "        l1_ratio\n",
    "    \n",
    "\n",
    "Grid Search parameters\n",
    "    scoring\n",
    "    refit\n",
    "    cv\n",
    "\"\"\""
   ]
  },
  {
   "cell_type": "code",
   "execution_count": null,
   "metadata": {},
   "outputs": [],
   "source": [
    "model_data = {\n",
    "    'logistic_regression': {\n",
    "        'model': LogisticRegression(),\n",
    "        'search space': {\n",
    "            # Parameters\n",
    "            'penalty': ['elasticnet'],\n",
    "            'solver': ['saga'],\n",
    "            \n",
    "            # Hyperparamaters\n",
    "            \"max_iter\" : [10, 100],\n",
    "            \"l1_ratio\" : [0.1, 0.3]\n",
    "        }\n",
    "    }\n",
    "}"
   ]
  },
  {
   "cell_type": "code",
   "execution_count": 28,
   "metadata": {},
   "outputs": [
    {
     "data": {
      "text/plain": [
       "dict_keys(['explained_variance', 'r2', 'max_error', 'matthews_corrcoef', 'neg_median_absolute_error', 'neg_mean_absolute_error', 'neg_mean_absolute_percentage_error', 'neg_mean_squared_error', 'neg_mean_squared_log_error', 'neg_root_mean_squared_error', 'neg_mean_poisson_deviance', 'neg_mean_gamma_deviance', 'accuracy', 'top_k_accuracy', 'roc_auc', 'roc_auc_ovr', 'roc_auc_ovo', 'roc_auc_ovr_weighted', 'roc_auc_ovo_weighted', 'balanced_accuracy', 'average_precision', 'neg_log_loss', 'neg_brier_score', 'positive_likelihood_ratio', 'neg_negative_likelihood_ratio', 'adjusted_rand_score', 'rand_score', 'homogeneity_score', 'completeness_score', 'v_measure_score', 'mutual_info_score', 'adjusted_mutual_info_score', 'normalized_mutual_info_score', 'fowlkes_mallows_score', 'precision', 'precision_macro', 'precision_micro', 'precision_samples', 'precision_weighted', 'recall', 'recall_macro', 'recall_micro', 'recall_samples', 'recall_weighted', 'f1', 'f1_macro', 'f1_micro', 'f1_samples', 'f1_weighted', 'jaccard', 'jaccard_macro', 'jaccard_micro', 'jaccard_samples', 'jaccard_weighted'])"
      ]
     },
     "execution_count": 28,
     "metadata": {},
     "output_type": "execute_result"
    }
   ],
   "source": [
    "# dict_keys(['explained_variance', 'r2', 'max_error', 'matthews_corrcoef', 'neg_median_absolute_error', 'neg_mean_absolute_error', 'neg_mean_absolute_percentage_error', 'neg_mean_squared_error', 'neg_mean_squared_log_error', 'neg_root_mean_squared_error', 'neg_mean_poisson_deviance', 'neg_mean_gamma_deviance', 'accuracy', 'top_k_accuracy', 'roc_auc', 'roc_auc_ovr', 'roc_auc_ovo', 'roc_auc_ovr_weighted', 'roc_auc_ovo_weighted', 'balanced_accuracy', 'average_precision', 'neg_log_loss', 'neg_brier_score', 'positive_likelihood_ratio', 'neg_negative_likelihood_ratio', 'adjusted_rand_score', 'rand_score', 'homogeneity_score', 'completeness_score', 'v_measure_score', 'mutual_info_score', 'adjusted_mutual_info_score', 'normalized_mutual_info_score', 'fowlkes_mallows_score', 'precision', 'precision_macro', 'precision_micro', 'precision_samples', 'precision_weighted', 'recall', 'recall_macro', 'recall_micro', 'recall_samples', 'recall_weighted', 'f1', 'f1_macro', 'f1_micro', 'f1_samples', 'f1_weighted', 'jaccard', 'jaccard_macro', 'jaccard_micro', 'jaccard_samples', 'jaccard_weighted'])"
   ]
  },
  {
   "cell_type": "code",
   "execution_count": 26,
   "metadata": {},
   "outputs": [
    {
     "name": "stderr",
     "output_type": "stream",
     "text": [
      "c:\\Users\\Kevin\\.virtualenvs\\Code-CYgrxAwh\\lib\\site-packages\\sklearn\\linear_model\\_sag.py:350: ConvergenceWarning: The max_iter was reached which means the coef_ did not converge\n",
      "  warnings.warn(\n"
     ]
    },
    {
     "name": "stdout",
     "output_type": "stream",
     "text": [
      "LogisticRegression(l1_ratio=0.3, max_iter=10, penalty='elasticnet',\n",
      "                   solver='saga')\n",
      "LogisticRegression(l1_ratio=0.1, penalty='elasticnet', solver='saga')\n"
     ]
    },
    {
     "data": {
      "text/html": [
       "<div>\n",
       "<style scoped>\n",
       "    .dataframe tbody tr th:only-of-type {\n",
       "        vertical-align: middle;\n",
       "    }\n",
       "\n",
       "    .dataframe tbody tr th {\n",
       "        vertical-align: top;\n",
       "    }\n",
       "\n",
       "    .dataframe thead th {\n",
       "        text-align: right;\n",
       "    }\n",
       "</style>\n",
       "<table border=\"1\" class=\"dataframe\">\n",
       "  <thead>\n",
       "    <tr style=\"text-align: right;\">\n",
       "      <th></th>\n",
       "      <th>mean_fit_time</th>\n",
       "      <th>std_fit_time</th>\n",
       "      <th>mean_score_time</th>\n",
       "      <th>std_score_time</th>\n",
       "      <th>param_l1_ratio</th>\n",
       "      <th>param_max_iter</th>\n",
       "      <th>param_penalty</th>\n",
       "      <th>param_solver</th>\n",
       "      <th>params</th>\n",
       "      <th>split0_test_r2</th>\n",
       "      <th>...</th>\n",
       "      <th>std_test_r2</th>\n",
       "      <th>rank_test_r2</th>\n",
       "      <th>split0_test_neg_root_mean_squared_error</th>\n",
       "      <th>split1_test_neg_root_mean_squared_error</th>\n",
       "      <th>split2_test_neg_root_mean_squared_error</th>\n",
       "      <th>split3_test_neg_root_mean_squared_error</th>\n",
       "      <th>split4_test_neg_root_mean_squared_error</th>\n",
       "      <th>mean_test_neg_root_mean_squared_error</th>\n",
       "      <th>std_test_neg_root_mean_squared_error</th>\n",
       "      <th>rank_test_neg_root_mean_squared_error</th>\n",
       "    </tr>\n",
       "  </thead>\n",
       "  <tbody>\n",
       "    <tr>\n",
       "      <th>0</th>\n",
       "      <td>0.427915</td>\n",
       "      <td>0.027508</td>\n",
       "      <td>0.007198</td>\n",
       "      <td>0.006550</td>\n",
       "      <td>0.1</td>\n",
       "      <td>10</td>\n",
       "      <td>elasticnet</td>\n",
       "      <td>saga</td>\n",
       "      <td>{'l1_ratio': 0.1, 'max_iter': 10, 'penalty': '...</td>\n",
       "      <td>-0.218056</td>\n",
       "      <td>...</td>\n",
       "      <td>0.027573</td>\n",
       "      <td>4</td>\n",
       "      <td>-0.551812</td>\n",
       "      <td>-0.554683</td>\n",
       "      <td>-0.554903</td>\n",
       "      <td>-0.547511</td>\n",
       "      <td>-0.537941</td>\n",
       "      <td>-0.549370</td>\n",
       "      <td>0.006307</td>\n",
       "      <td>4</td>\n",
       "    </tr>\n",
       "    <tr>\n",
       "      <th>1</th>\n",
       "      <td>0.523862</td>\n",
       "      <td>0.075146</td>\n",
       "      <td>0.001799</td>\n",
       "      <td>0.000747</td>\n",
       "      <td>0.1</td>\n",
       "      <td>100</td>\n",
       "      <td>elasticnet</td>\n",
       "      <td>saga</td>\n",
       "      <td>{'l1_ratio': 0.1, 'max_iter': 100, 'penalty': ...</td>\n",
       "      <td>-0.214146</td>\n",
       "      <td>...</td>\n",
       "      <td>0.026647</td>\n",
       "      <td>1</td>\n",
       "      <td>-0.550926</td>\n",
       "      <td>-0.554243</td>\n",
       "      <td>-0.554683</td>\n",
       "      <td>-0.547399</td>\n",
       "      <td>-0.538054</td>\n",
       "      <td>-0.549061</td>\n",
       "      <td>0.006097</td>\n",
       "      <td>1</td>\n",
       "    </tr>\n",
       "    <tr>\n",
       "      <th>2</th>\n",
       "      <td>0.271159</td>\n",
       "      <td>0.015539</td>\n",
       "      <td>0.001801</td>\n",
       "      <td>0.000401</td>\n",
       "      <td>0.3</td>\n",
       "      <td>10</td>\n",
       "      <td>elasticnet</td>\n",
       "      <td>saga</td>\n",
       "      <td>{'l1_ratio': 0.3, 'max_iter': 10, 'penalty': '...</td>\n",
       "      <td>-0.215124</td>\n",
       "      <td>...</td>\n",
       "      <td>0.026859</td>\n",
       "      <td>3</td>\n",
       "      <td>-0.551147</td>\n",
       "      <td>-0.554463</td>\n",
       "      <td>-0.555014</td>\n",
       "      <td>-0.547176</td>\n",
       "      <td>-0.538282</td>\n",
       "      <td>-0.549216</td>\n",
       "      <td>0.006142</td>\n",
       "      <td>3</td>\n",
       "    </tr>\n",
       "    <tr>\n",
       "      <th>3</th>\n",
       "      <td>0.489393</td>\n",
       "      <td>0.042469</td>\n",
       "      <td>0.002001</td>\n",
       "      <td>0.000632</td>\n",
       "      <td>0.3</td>\n",
       "      <td>100</td>\n",
       "      <td>elasticnet</td>\n",
       "      <td>saga</td>\n",
       "      <td>{'l1_ratio': 0.3, 'max_iter': 100, 'penalty': ...</td>\n",
       "      <td>-0.214146</td>\n",
       "      <td>...</td>\n",
       "      <td>0.026381</td>\n",
       "      <td>2</td>\n",
       "      <td>-0.550926</td>\n",
       "      <td>-0.554243</td>\n",
       "      <td>-0.554573</td>\n",
       "      <td>-0.547399</td>\n",
       "      <td>-0.538168</td>\n",
       "      <td>-0.549062</td>\n",
       "      <td>0.006035</td>\n",
       "      <td>2</td>\n",
       "    </tr>\n",
       "  </tbody>\n",
       "</table>\n",
       "<p>4 rows × 25 columns</p>\n",
       "</div>"
      ],
      "text/plain": [
       "   mean_fit_time  std_fit_time  mean_score_time  std_score_time  \\\n",
       "0       0.427915      0.027508         0.007198        0.006550   \n",
       "1       0.523862      0.075146         0.001799        0.000747   \n",
       "2       0.271159      0.015539         0.001801        0.000401   \n",
       "3       0.489393      0.042469         0.002001        0.000632   \n",
       "\n",
       "  param_l1_ratio param_max_iter param_penalty param_solver  \\\n",
       "0            0.1             10    elasticnet         saga   \n",
       "1            0.1            100    elasticnet         saga   \n",
       "2            0.3             10    elasticnet         saga   \n",
       "3            0.3            100    elasticnet         saga   \n",
       "\n",
       "                                              params  split0_test_r2  ...  \\\n",
       "0  {'l1_ratio': 0.1, 'max_iter': 10, 'penalty': '...       -0.218056  ...   \n",
       "1  {'l1_ratio': 0.1, 'max_iter': 100, 'penalty': ...       -0.214146  ...   \n",
       "2  {'l1_ratio': 0.3, 'max_iter': 10, 'penalty': '...       -0.215124  ...   \n",
       "3  {'l1_ratio': 0.3, 'max_iter': 100, 'penalty': ...       -0.214146  ...   \n",
       "\n",
       "   std_test_r2  rank_test_r2  split0_test_neg_root_mean_squared_error  \\\n",
       "0     0.027573             4                                -0.551812   \n",
       "1     0.026647             1                                -0.550926   \n",
       "2     0.026859             3                                -0.551147   \n",
       "3     0.026381             2                                -0.550926   \n",
       "\n",
       "   split1_test_neg_root_mean_squared_error  \\\n",
       "0                                -0.554683   \n",
       "1                                -0.554243   \n",
       "2                                -0.554463   \n",
       "3                                -0.554243   \n",
       "\n",
       "   split2_test_neg_root_mean_squared_error  \\\n",
       "0                                -0.554903   \n",
       "1                                -0.554683   \n",
       "2                                -0.555014   \n",
       "3                                -0.554573   \n",
       "\n",
       "   split3_test_neg_root_mean_squared_error  \\\n",
       "0                                -0.547511   \n",
       "1                                -0.547399   \n",
       "2                                -0.547176   \n",
       "3                                -0.547399   \n",
       "\n",
       "   split4_test_neg_root_mean_squared_error  \\\n",
       "0                                -0.537941   \n",
       "1                                -0.538054   \n",
       "2                                -0.538282   \n",
       "3                                -0.538168   \n",
       "\n",
       "   mean_test_neg_root_mean_squared_error  \\\n",
       "0                              -0.549370   \n",
       "1                              -0.549061   \n",
       "2                              -0.549216   \n",
       "3                              -0.549062   \n",
       "\n",
       "   std_test_neg_root_mean_squared_error  rank_test_neg_root_mean_squared_error  \n",
       "0                              0.006307                                      4  \n",
       "1                              0.006097                                      1  \n",
       "2                              0.006142                                      3  \n",
       "3                              0.006035                                      2  \n",
       "\n",
       "[4 rows x 25 columns]"
      ]
     },
     "execution_count": 26,
     "metadata": {},
     "output_type": "execute_result"
    }
   ],
   "source": [
    "# The holy grail. behold! the loop of all loops\n",
    "for scaler_name in ['standard', 'minmax']:\n",
    "    \n",
    "    df1_x_train_scaled, df1_x_val_scaled = Helper.scaler(scaler_name, df1_x_train, df1_x_val)\n",
    "\n",
    "    for model_name, data in model_data.items():\n",
    "        \n",
    "        GS = GridSearchCV(\n",
    "            estimator = data['model'],\n",
    "            param_grid = data['search space'],\n",
    "            n_jobs=2,\n",
    "            scoring = [\"r2\", \"neg_root_mean_squared_error\"],\n",
    "            refit = \"r2\",\n",
    "            cv = 5,\n",
    "            verbose = 0,\n",
    "        )\n",
    "        \n",
    "        GS.fit(df1_x_train_scaled,  df1_y_train)\n",
    "\n",
    "fff = pd.DataFrame(GS.cv_results_)\n",
    "\n",
    "fff"
   ]
  },
  {
   "cell_type": "code",
   "execution_count": 9,
   "metadata": {},
   "outputs": [
    {
     "name": "stdout",
     "output_type": "stream",
     "text": [
      "Fitting 5 folds for each of 4 candidates, totalling 20 fits\n"
     ]
    },
    {
     "name": "stderr",
     "output_type": "stream",
     "text": [
      "c:\\Users\\Kevin\\.virtualenvs\\Code-CYgrxAwh\\lib\\site-packages\\sklearn\\linear_model\\_sag.py:350: ConvergenceWarning: The max_iter was reached which means the coef_ did not converge\n",
      "  warnings.warn(\n"
     ]
    },
    {
     "name": "stdout",
     "output_type": "stream",
     "text": [
      "[CV 1/5] END l1_ratio=0.1, max_iter=10, penalty=elasticnet, solver=saga; neg_root_mean_squared_error: (test=-0.551) r2: (test=-0.213) total time=   0.1s\n"
     ]
    },
    {
     "name": "stderr",
     "output_type": "stream",
     "text": [
      "c:\\Users\\Kevin\\.virtualenvs\\Code-CYgrxAwh\\lib\\site-packages\\sklearn\\linear_model\\_sag.py:350: ConvergenceWarning: The max_iter was reached which means the coef_ did not converge\n",
      "  warnings.warn(\n"
     ]
    },
    {
     "name": "stdout",
     "output_type": "stream",
     "text": [
      "[CV 2/5] END l1_ratio=0.1, max_iter=10, penalty=elasticnet, solver=saga; neg_root_mean_squared_error: (test=-0.554) r2: (test=-0.229) total time=   0.1s\n"
     ]
    },
    {
     "name": "stderr",
     "output_type": "stream",
     "text": [
      "c:\\Users\\Kevin\\.virtualenvs\\Code-CYgrxAwh\\lib\\site-packages\\sklearn\\linear_model\\_sag.py:350: ConvergenceWarning: The max_iter was reached which means the coef_ did not converge\n",
      "  warnings.warn(\n",
      "c:\\Users\\Kevin\\.virtualenvs\\Code-CYgrxAwh\\lib\\site-packages\\sklearn\\linear_model\\_sag.py:350: ConvergenceWarning: The max_iter was reached which means the coef_ did not converge\n",
      "  warnings.warn(\n"
     ]
    },
    {
     "name": "stdout",
     "output_type": "stream",
     "text": [
      "[CV 3/5] END l1_ratio=0.1, max_iter=10, penalty=elasticnet, solver=saga; neg_root_mean_squared_error: (test=-0.555) r2: (test=-0.231) total time=   0.1s\n",
      "[CV 4/5] END l1_ratio=0.1, max_iter=10, penalty=elasticnet, solver=saga; neg_root_mean_squared_error: (test=-0.547) r2: (test=-0.197) total time=   0.1s\n"
     ]
    },
    {
     "name": "stderr",
     "output_type": "stream",
     "text": [
      "c:\\Users\\Kevin\\.virtualenvs\\Code-CYgrxAwh\\lib\\site-packages\\sklearn\\linear_model\\_sag.py:350: ConvergenceWarning: The max_iter was reached which means the coef_ did not converge\n",
      "  warnings.warn(\n"
     ]
    },
    {
     "name": "stdout",
     "output_type": "stream",
     "text": [
      "[CV 5/5] END l1_ratio=0.1, max_iter=10, penalty=elasticnet, solver=saga; neg_root_mean_squared_error: (test=-0.538) r2: (test=-0.158) total time=   0.1s\n",
      "[CV 1/5] END l1_ratio=0.1, max_iter=100, penalty=elasticnet, solver=saga; neg_root_mean_squared_error: (test=-0.551) r2: (test=-0.215) total time=   0.2s\n",
      "[CV 2/5] END l1_ratio=0.1, max_iter=100, penalty=elasticnet, solver=saga; neg_root_mean_squared_error: (test=-0.554) r2: (test=-0.229) total time=   0.2s\n",
      "[CV 3/5] END l1_ratio=0.1, max_iter=100, penalty=elasticnet, solver=saga; neg_root_mean_squared_error: (test=-0.555) r2: (test=-0.231) total time=   0.3s\n",
      "[CV 4/5] END l1_ratio=0.1, max_iter=100, penalty=elasticnet, solver=saga; neg_root_mean_squared_error: (test=-0.548) r2: (test=-0.199) total time=   0.3s\n",
      "[CV 5/5] END l1_ratio=0.1, max_iter=100, penalty=elasticnet, solver=saga; neg_root_mean_squared_error: (test=-0.538) r2: (test=-0.158) total time=   0.3s\n"
     ]
    },
    {
     "name": "stderr",
     "output_type": "stream",
     "text": [
      "c:\\Users\\Kevin\\.virtualenvs\\Code-CYgrxAwh\\lib\\site-packages\\sklearn\\linear_model\\_sag.py:350: ConvergenceWarning: The max_iter was reached which means the coef_ did not converge\n",
      "  warnings.warn(\n"
     ]
    },
    {
     "name": "stdout",
     "output_type": "stream",
     "text": [
      "[CV 1/5] END l1_ratio=0.3, max_iter=10, penalty=elasticnet, solver=saga; neg_root_mean_squared_error: (test=-0.551) r2: (test=-0.215) total time=   0.1s\n"
     ]
    },
    {
     "name": "stderr",
     "output_type": "stream",
     "text": [
      "c:\\Users\\Kevin\\.virtualenvs\\Code-CYgrxAwh\\lib\\site-packages\\sklearn\\linear_model\\_sag.py:350: ConvergenceWarning: The max_iter was reached which means the coef_ did not converge\n",
      "  warnings.warn(\n"
     ]
    },
    {
     "name": "stdout",
     "output_type": "stream",
     "text": [
      "[CV 2/5] END l1_ratio=0.3, max_iter=10, penalty=elasticnet, solver=saga; neg_root_mean_squared_error: (test=-0.554) r2: (test=-0.229) total time=   0.2s\n"
     ]
    },
    {
     "name": "stderr",
     "output_type": "stream",
     "text": [
      "c:\\Users\\Kevin\\.virtualenvs\\Code-CYgrxAwh\\lib\\site-packages\\sklearn\\linear_model\\_sag.py:350: ConvergenceWarning: The max_iter was reached which means the coef_ did not converge\n",
      "  warnings.warn(\n"
     ]
    },
    {
     "name": "stdout",
     "output_type": "stream",
     "text": [
      "[CV 3/5] END l1_ratio=0.3, max_iter=10, penalty=elasticnet, solver=saga; neg_root_mean_squared_error: (test=-0.555) r2: (test=-0.230) total time=   0.1s\n"
     ]
    },
    {
     "name": "stderr",
     "output_type": "stream",
     "text": [
      "c:\\Users\\Kevin\\.virtualenvs\\Code-CYgrxAwh\\lib\\site-packages\\sklearn\\linear_model\\_sag.py:350: ConvergenceWarning: The max_iter was reached which means the coef_ did not converge\n",
      "  warnings.warn(\n"
     ]
    },
    {
     "name": "stdout",
     "output_type": "stream",
     "text": [
      "[CV 4/5] END l1_ratio=0.3, max_iter=10, penalty=elasticnet, solver=saga; neg_root_mean_squared_error: (test=-0.547) r2: (test=-0.198) total time=   0.2s\n"
     ]
    },
    {
     "name": "stderr",
     "output_type": "stream",
     "text": [
      "c:\\Users\\Kevin\\.virtualenvs\\Code-CYgrxAwh\\lib\\site-packages\\sklearn\\linear_model\\_sag.py:350: ConvergenceWarning: The max_iter was reached which means the coef_ did not converge\n",
      "  warnings.warn(\n"
     ]
    },
    {
     "name": "stdout",
     "output_type": "stream",
     "text": [
      "[CV 5/5] END l1_ratio=0.3, max_iter=10, penalty=elasticnet, solver=saga; neg_root_mean_squared_error: (test=-0.538) r2: (test=-0.159) total time=   0.1s\n",
      "[CV 1/5] END l1_ratio=0.3, max_iter=100, penalty=elasticnet, solver=saga; neg_root_mean_squared_error: (test=-0.551) r2: (test=-0.214) total time=   0.3s\n",
      "[CV 2/5] END l1_ratio=0.3, max_iter=100, penalty=elasticnet, solver=saga; neg_root_mean_squared_error: (test=-0.554) r2: (test=-0.229) total time=   0.3s\n",
      "[CV 3/5] END l1_ratio=0.3, max_iter=100, penalty=elasticnet, solver=saga; neg_root_mean_squared_error: (test=-0.555) r2: (test=-0.231) total time=   0.9s\n",
      "[CV 4/5] END l1_ratio=0.3, max_iter=100, penalty=elasticnet, solver=saga; neg_root_mean_squared_error: (test=-0.547) r2: (test=-0.199) total time=   0.3s\n",
      "[CV 5/5] END l1_ratio=0.3, max_iter=100, penalty=elasticnet, solver=saga; neg_root_mean_squared_error: (test=-0.538) r2: (test=-0.159) total time=   0.3s\n"
     ]
    },
    {
     "name": "stderr",
     "output_type": "stream",
     "text": [
      "c:\\Users\\Kevin\\.virtualenvs\\Code-CYgrxAwh\\lib\\site-packages\\sklearn\\linear_model\\_sag.py:350: ConvergenceWarning: The max_iter was reached which means the coef_ did not converge\n",
      "  warnings.warn(\n"
     ]
    },
    {
     "data": {
      "text/html": [
       "<style>#sk-container-id-1 {color: black;background-color: white;}#sk-container-id-1 pre{padding: 0;}#sk-container-id-1 div.sk-toggleable {background-color: white;}#sk-container-id-1 label.sk-toggleable__label {cursor: pointer;display: block;width: 100%;margin-bottom: 0;padding: 0.3em;box-sizing: border-box;text-align: center;}#sk-container-id-1 label.sk-toggleable__label-arrow:before {content: \"▸\";float: left;margin-right: 0.25em;color: #696969;}#sk-container-id-1 label.sk-toggleable__label-arrow:hover:before {color: black;}#sk-container-id-1 div.sk-estimator:hover label.sk-toggleable__label-arrow:before {color: black;}#sk-container-id-1 div.sk-toggleable__content {max-height: 0;max-width: 0;overflow: hidden;text-align: left;background-color: #f0f8ff;}#sk-container-id-1 div.sk-toggleable__content pre {margin: 0.2em;color: black;border-radius: 0.25em;background-color: #f0f8ff;}#sk-container-id-1 input.sk-toggleable__control:checked~div.sk-toggleable__content {max-height: 200px;max-width: 100%;overflow: auto;}#sk-container-id-1 input.sk-toggleable__control:checked~label.sk-toggleable__label-arrow:before {content: \"▾\";}#sk-container-id-1 div.sk-estimator input.sk-toggleable__control:checked~label.sk-toggleable__label {background-color: #d4ebff;}#sk-container-id-1 div.sk-label input.sk-toggleable__control:checked~label.sk-toggleable__label {background-color: #d4ebff;}#sk-container-id-1 input.sk-hidden--visually {border: 0;clip: rect(1px 1px 1px 1px);clip: rect(1px, 1px, 1px, 1px);height: 1px;margin: -1px;overflow: hidden;padding: 0;position: absolute;width: 1px;}#sk-container-id-1 div.sk-estimator {font-family: monospace;background-color: #f0f8ff;border: 1px dotted black;border-radius: 0.25em;box-sizing: border-box;margin-bottom: 0.5em;}#sk-container-id-1 div.sk-estimator:hover {background-color: #d4ebff;}#sk-container-id-1 div.sk-parallel-item::after {content: \"\";width: 100%;border-bottom: 1px solid gray;flex-grow: 1;}#sk-container-id-1 div.sk-label:hover label.sk-toggleable__label {background-color: #d4ebff;}#sk-container-id-1 div.sk-serial::before {content: \"\";position: absolute;border-left: 1px solid gray;box-sizing: border-box;top: 0;bottom: 0;left: 50%;z-index: 0;}#sk-container-id-1 div.sk-serial {display: flex;flex-direction: column;align-items: center;background-color: white;padding-right: 0.2em;padding-left: 0.2em;position: relative;}#sk-container-id-1 div.sk-item {position: relative;z-index: 1;}#sk-container-id-1 div.sk-parallel {display: flex;align-items: stretch;justify-content: center;background-color: white;position: relative;}#sk-container-id-1 div.sk-item::before, #sk-container-id-1 div.sk-parallel-item::before {content: \"\";position: absolute;border-left: 1px solid gray;box-sizing: border-box;top: 0;bottom: 0;left: 50%;z-index: -1;}#sk-container-id-1 div.sk-parallel-item {display: flex;flex-direction: column;z-index: 1;position: relative;background-color: white;}#sk-container-id-1 div.sk-parallel-item:first-child::after {align-self: flex-end;width: 50%;}#sk-container-id-1 div.sk-parallel-item:last-child::after {align-self: flex-start;width: 50%;}#sk-container-id-1 div.sk-parallel-item:only-child::after {width: 0;}#sk-container-id-1 div.sk-dashed-wrapped {border: 1px dashed gray;margin: 0 0.4em 0.5em 0.4em;box-sizing: border-box;padding-bottom: 0.4em;background-color: white;}#sk-container-id-1 div.sk-label label {font-family: monospace;font-weight: bold;display: inline-block;line-height: 1.2em;}#sk-container-id-1 div.sk-label-container {text-align: center;}#sk-container-id-1 div.sk-container {/* jupyter's `normalize.less` sets `[hidden] { display: none; }` but bootstrap.min.css set `[hidden] { display: none !important; }` so we also need the `!important` here to be able to override the default hidden behavior on the sphinx rendered scikit-learn.org. See: https://github.com/scikit-learn/scikit-learn/issues/21755 */display: inline-block !important;position: relative;}#sk-container-id-1 div.sk-text-repr-fallback {display: none;}</style><div id=\"sk-container-id-1\" class=\"sk-top-container\"><div class=\"sk-text-repr-fallback\"><pre>GridSearchCV(cv=5, estimator=LogisticRegression(),\n",
       "             param_grid={&#x27;l1_ratio&#x27;: [0.1, 0.3], &#x27;max_iter&#x27;: [10, 100],\n",
       "                         &#x27;penalty&#x27;: [&#x27;elasticnet&#x27;], &#x27;solver&#x27;: [&#x27;saga&#x27;]},\n",
       "             refit=&#x27;r2&#x27;, scoring=[&#x27;r2&#x27;, &#x27;neg_root_mean_squared_error&#x27;],\n",
       "             verbose=4)</pre><b>In a Jupyter environment, please rerun this cell to show the HTML representation or trust the notebook. <br />On GitHub, the HTML representation is unable to render, please try loading this page with nbviewer.org.</b></div><div class=\"sk-container\" hidden><div class=\"sk-item sk-dashed-wrapped\"><div class=\"sk-label-container\"><div class=\"sk-label sk-toggleable\"><input class=\"sk-toggleable__control sk-hidden--visually\" id=\"sk-estimator-id-1\" type=\"checkbox\" ><label for=\"sk-estimator-id-1\" class=\"sk-toggleable__label sk-toggleable__label-arrow\">GridSearchCV</label><div class=\"sk-toggleable__content\"><pre>GridSearchCV(cv=5, estimator=LogisticRegression(),\n",
       "             param_grid={&#x27;l1_ratio&#x27;: [0.1, 0.3], &#x27;max_iter&#x27;: [10, 100],\n",
       "                         &#x27;penalty&#x27;: [&#x27;elasticnet&#x27;], &#x27;solver&#x27;: [&#x27;saga&#x27;]},\n",
       "             refit=&#x27;r2&#x27;, scoring=[&#x27;r2&#x27;, &#x27;neg_root_mean_squared_error&#x27;],\n",
       "             verbose=4)</pre></div></div></div><div class=\"sk-parallel\"><div class=\"sk-parallel-item\"><div class=\"sk-item\"><div class=\"sk-label-container\"><div class=\"sk-label sk-toggleable\"><input class=\"sk-toggleable__control sk-hidden--visually\" id=\"sk-estimator-id-2\" type=\"checkbox\" ><label for=\"sk-estimator-id-2\" class=\"sk-toggleable__label sk-toggleable__label-arrow\">estimator: LogisticRegression</label><div class=\"sk-toggleable__content\"><pre>LogisticRegression()</pre></div></div></div><div class=\"sk-serial\"><div class=\"sk-item\"><div class=\"sk-estimator sk-toggleable\"><input class=\"sk-toggleable__control sk-hidden--visually\" id=\"sk-estimator-id-3\" type=\"checkbox\" ><label for=\"sk-estimator-id-3\" class=\"sk-toggleable__label sk-toggleable__label-arrow\">LogisticRegression</label><div class=\"sk-toggleable__content\"><pre>LogisticRegression()</pre></div></div></div></div></div></div></div></div></div></div>"
      ],
      "text/plain": [
       "GridSearchCV(cv=5, estimator=LogisticRegression(),\n",
       "             param_grid={'l1_ratio': [0.1, 0.3], 'max_iter': [10, 100],\n",
       "                         'penalty': ['elasticnet'], 'solver': ['saga']},\n",
       "             refit='r2', scoring=['r2', 'neg_root_mean_squared_error'],\n",
       "             verbose=4)"
      ]
     },
     "execution_count": 9,
     "metadata": {},
     "output_type": "execute_result"
    }
   ],
   "source": [
    "model = LogisticRegression()\n",
    "\n",
    "search_space = {\n",
    "    # Parameters\n",
    "    'penalty': ['elasticnet'],\n",
    "    'solver': ['saga'],\n",
    "    \n",
    "    # Hyperparamaters\n",
    "    \"max_iter\" : [10, 100],\n",
    "    \"l1_ratio\" : [0.1, 0.3]\n",
    "}\n",
    "\n",
    "GS = GridSearchCV(\n",
    "    estimator = model,\n",
    "    param_grid = search_space,\n",
    "    scoring = [\"r2\", \"neg_root_mean_squared_error\"], #sklearn.metrics.SCORERS.keys()\n",
    "    refit = \"r2\",\n",
    "    cv = 5,\n",
    "    verbose = 4,\n",
    ")\n",
    "\n",
    "GS.fit(df1_x_train,  df1_y_train)"
   ]
  }
 ],
 "metadata": {
  "kernelspec": {
   "display_name": "Code-CYgrxAwh",
   "language": "python",
   "name": "python3"
  },
  "language_info": {
   "codemirror_mode": {
    "name": "ipython",
    "version": 3
   },
   "file_extension": ".py",
   "mimetype": "text/x-python",
   "name": "python",
   "nbconvert_exporter": "python",
   "pygments_lexer": "ipython3",
   "version": "3.9.13"
  },
  "orig_nbformat": 4,
  "vscode": {
   "interpreter": {
    "hash": "d154d3528bab554518fce4b6bb47c23f2c1c42d729e7fb7463b0619040c8c50c"
   }
  }
 },
 "nbformat": 4,
 "nbformat_minor": 2
}
