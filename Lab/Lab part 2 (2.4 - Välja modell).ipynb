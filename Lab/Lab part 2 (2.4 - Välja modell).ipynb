{
 "cells": [
  {
   "cell_type": "code",
   "execution_count": 1,
   "metadata": {},
   "outputs": [],
   "source": [
    "import numpy as np\n",
    "import pandas as pd\n",
    "import matplotlib.pyplot as plt\n",
    "import seaborn as sns\n",
    "\n",
    "from sklearn.model_selection import train_test_split\n",
    "from sklearn.preprocessing import StandardScaler, MinMaxScaler\n",
    "\n",
    "from sklearn.linear_model import LogisticRegression\n",
    "from sklearn.tree import DecisionTreeClassifier\n",
    "from sklearn.ensemble import RandomForestClassifier\n",
    "\n",
    "from sklearn.model_selection import GridSearchCV\n",
    "\n",
    "sns.set_theme()\n",
    "\n",
    "from lab2 import Helper\n",
    "\n",
    "\n",
    "from sklearn.metrics import confusion_matrix, ConfusionMatrixDisplay, classification_report\n",
    "\n",
    "from sklearn.metrics import accuracy_score"
   ]
  },
  {
   "cell_type": "code",
   "execution_count": 2,
   "metadata": {},
   "outputs": [
    {
     "data": {
      "text/html": [
       "<div>\n",
       "<style scoped>\n",
       "    .dataframe tbody tr th:only-of-type {\n",
       "        vertical-align: middle;\n",
       "    }\n",
       "\n",
       "    .dataframe tbody tr th {\n",
       "        vertical-align: top;\n",
       "    }\n",
       "\n",
       "    .dataframe thead th {\n",
       "        text-align: right;\n",
       "    }\n",
       "</style>\n",
       "<table border=\"1\" class=\"dataframe\">\n",
       "  <thead>\n",
       "    <tr style=\"text-align: right;\">\n",
       "      <th></th>\n",
       "      <th>id</th>\n",
       "      <th>age</th>\n",
       "      <th>cholesterol</th>\n",
       "      <th>gluc</th>\n",
       "      <th>smoke</th>\n",
       "      <th>alco</th>\n",
       "      <th>active</th>\n",
       "      <th>cardio</th>\n",
       "      <th>gender_2</th>\n",
       "      <th>bmi-feature_obese (class I)</th>\n",
       "      <th>bmi-feature_obese (class II)</th>\n",
       "      <th>bmi-feature_obese (class III)</th>\n",
       "      <th>bmi-feature_overweight</th>\n",
       "      <th>bp-feature_healthy</th>\n",
       "      <th>bp-feature_hypertension crises</th>\n",
       "      <th>bp-feature_stage 1 hypertension</th>\n",
       "      <th>bp-feature_stage 2 hypertension</th>\n",
       "    </tr>\n",
       "  </thead>\n",
       "  <tbody>\n",
       "    <tr>\n",
       "      <th>0</th>\n",
       "      <td>0</td>\n",
       "      <td>18393</td>\n",
       "      <td>1</td>\n",
       "      <td>1</td>\n",
       "      <td>0</td>\n",
       "      <td>0</td>\n",
       "      <td>1</td>\n",
       "      <td>0</td>\n",
       "      <td>1</td>\n",
       "      <td>0</td>\n",
       "      <td>0</td>\n",
       "      <td>0</td>\n",
       "      <td>0</td>\n",
       "      <td>0</td>\n",
       "      <td>0</td>\n",
       "      <td>1</td>\n",
       "      <td>0</td>\n",
       "    </tr>\n",
       "    <tr>\n",
       "      <th>1</th>\n",
       "      <td>1</td>\n",
       "      <td>20228</td>\n",
       "      <td>3</td>\n",
       "      <td>1</td>\n",
       "      <td>0</td>\n",
       "      <td>0</td>\n",
       "      <td>1</td>\n",
       "      <td>1</td>\n",
       "      <td>0</td>\n",
       "      <td>1</td>\n",
       "      <td>0</td>\n",
       "      <td>0</td>\n",
       "      <td>0</td>\n",
       "      <td>0</td>\n",
       "      <td>0</td>\n",
       "      <td>0</td>\n",
       "      <td>1</td>\n",
       "    </tr>\n",
       "    <tr>\n",
       "      <th>2</th>\n",
       "      <td>2</td>\n",
       "      <td>18857</td>\n",
       "      <td>3</td>\n",
       "      <td>1</td>\n",
       "      <td>0</td>\n",
       "      <td>0</td>\n",
       "      <td>0</td>\n",
       "      <td>1</td>\n",
       "      <td>0</td>\n",
       "      <td>0</td>\n",
       "      <td>0</td>\n",
       "      <td>0</td>\n",
       "      <td>0</td>\n",
       "      <td>0</td>\n",
       "      <td>0</td>\n",
       "      <td>1</td>\n",
       "      <td>0</td>\n",
       "    </tr>\n",
       "  </tbody>\n",
       "</table>\n",
       "</div>"
      ],
      "text/plain": [
       "   id    age  cholesterol  gluc  smoke  alco  active  cardio  gender_2  \\\n",
       "0   0  18393            1     1      0     0       1       0         1   \n",
       "1   1  20228            3     1      0     0       1       1         0   \n",
       "2   2  18857            3     1      0     0       0       1         0   \n",
       "\n",
       "   bmi-feature_obese (class I)  bmi-feature_obese (class II)  \\\n",
       "0                            0                             0   \n",
       "1                            1                             0   \n",
       "2                            0                             0   \n",
       "\n",
       "   bmi-feature_obese (class III)  bmi-feature_overweight  bp-feature_healthy  \\\n",
       "0                              0                       0                   0   \n",
       "1                              0                       0                   0   \n",
       "2                              0                       0                   0   \n",
       "\n",
       "   bp-feature_hypertension crises  bp-feature_stage 1 hypertension  \\\n",
       "0                               0                                1   \n",
       "1                               0                                0   \n",
       "2                               0                                1   \n",
       "\n",
       "   bp-feature_stage 2 hypertension  \n",
       "0                                0  \n",
       "1                                1  \n",
       "2                                0  "
      ]
     },
     "metadata": {},
     "output_type": "display_data"
    },
    {
     "data": {
      "text/html": [
       "<div>\n",
       "<style scoped>\n",
       "    .dataframe tbody tr th:only-of-type {\n",
       "        vertical-align: middle;\n",
       "    }\n",
       "\n",
       "    .dataframe tbody tr th {\n",
       "        vertical-align: top;\n",
       "    }\n",
       "\n",
       "    .dataframe thead th {\n",
       "        text-align: right;\n",
       "    }\n",
       "</style>\n",
       "<table border=\"1\" class=\"dataframe\">\n",
       "  <thead>\n",
       "    <tr style=\"text-align: right;\">\n",
       "      <th></th>\n",
       "      <th>id</th>\n",
       "      <th>age</th>\n",
       "      <th>bmi</th>\n",
       "      <th>ap_hi</th>\n",
       "      <th>ap_lo</th>\n",
       "      <th>cholesterol</th>\n",
       "      <th>gluc</th>\n",
       "      <th>smoke</th>\n",
       "      <th>alco</th>\n",
       "      <th>active</th>\n",
       "      <th>cardio</th>\n",
       "      <th>gender_2</th>\n",
       "    </tr>\n",
       "  </thead>\n",
       "  <tbody>\n",
       "    <tr>\n",
       "      <th>0</th>\n",
       "      <td>0</td>\n",
       "      <td>18393</td>\n",
       "      <td>21</td>\n",
       "      <td>110</td>\n",
       "      <td>80</td>\n",
       "      <td>1</td>\n",
       "      <td>1</td>\n",
       "      <td>0</td>\n",
       "      <td>0</td>\n",
       "      <td>1</td>\n",
       "      <td>0</td>\n",
       "      <td>1</td>\n",
       "    </tr>\n",
       "    <tr>\n",
       "      <th>1</th>\n",
       "      <td>1</td>\n",
       "      <td>20228</td>\n",
       "      <td>34</td>\n",
       "      <td>140</td>\n",
       "      <td>90</td>\n",
       "      <td>3</td>\n",
       "      <td>1</td>\n",
       "      <td>0</td>\n",
       "      <td>0</td>\n",
       "      <td>1</td>\n",
       "      <td>1</td>\n",
       "      <td>0</td>\n",
       "    </tr>\n",
       "    <tr>\n",
       "      <th>2</th>\n",
       "      <td>2</td>\n",
       "      <td>18857</td>\n",
       "      <td>23</td>\n",
       "      <td>130</td>\n",
       "      <td>70</td>\n",
       "      <td>3</td>\n",
       "      <td>1</td>\n",
       "      <td>0</td>\n",
       "      <td>0</td>\n",
       "      <td>0</td>\n",
       "      <td>1</td>\n",
       "      <td>0</td>\n",
       "    </tr>\n",
       "  </tbody>\n",
       "</table>\n",
       "</div>"
      ],
      "text/plain": [
       "   id    age  bmi  ap_hi  ap_lo  cholesterol  gluc  smoke  alco  active  \\\n",
       "0   0  18393   21    110     80            1     1      0     0       1   \n",
       "1   1  20228   34    140     90            3     1      0     0       1   \n",
       "2   2  18857   23    130     70            3     1      0     0       0   \n",
       "\n",
       "   cardio  gender_2  \n",
       "0       0         1  \n",
       "1       1         0  \n",
       "2       1         0  "
      ]
     },
     "metadata": {},
     "output_type": "display_data"
    }
   ],
   "source": [
    "df1 = pd.read_csv('Data/df1.csv')\n",
    "df2 = pd.read_csv('Data/df2.csv')\n",
    "\n",
    "display(df1.head(3), df2.head(3))"
   ]
  },
  {
   "cell_type": "code",
   "execution_count": 3,
   "metadata": {},
   "outputs": [],
   "source": [
    "# Drop id as its not useful\n",
    "df1 = df1.drop('id', axis=1)\n",
    "df2 = df2.drop('id', axis=1)"
   ]
  },
  {
   "attachments": {},
   "cell_type": "markdown",
   "metadata": {},
   "source": [
    "### 2.4 - Välja modell"
   ]
  },
  {
   "attachments": {},
   "cell_type": "markdown",
   "metadata": {},
   "source": [
    "Chosen models:\n",
    "* Logistic regression\n",
    "* decision tree\n",
    "* random forest"
   ]
  },
  {
   "attachments": {},
   "cell_type": "markdown",
   "metadata": {},
   "source": [
    "##### train|validation|test split"
   ]
  },
  {
   "cell_type": "code",
   "execution_count": 4,
   "metadata": {},
   "outputs": [
    {
     "data": {
      "text/html": [
       "<div>\n",
       "<style scoped>\n",
       "    .dataframe tbody tr th:only-of-type {\n",
       "        vertical-align: middle;\n",
       "    }\n",
       "\n",
       "    .dataframe tbody tr th {\n",
       "        vertical-align: top;\n",
       "    }\n",
       "\n",
       "    .dataframe thead th {\n",
       "        text-align: right;\n",
       "    }\n",
       "</style>\n",
       "<table border=\"1\" class=\"dataframe\">\n",
       "  <thead>\n",
       "    <tr style=\"text-align: right;\">\n",
       "      <th></th>\n",
       "      <th>age</th>\n",
       "      <th>cholesterol</th>\n",
       "      <th>gluc</th>\n",
       "      <th>smoke</th>\n",
       "      <th>alco</th>\n",
       "      <th>active</th>\n",
       "      <th>gender_2</th>\n",
       "      <th>bmi-feature_obese (class I)</th>\n",
       "      <th>bmi-feature_obese (class II)</th>\n",
       "      <th>bmi-feature_obese (class III)</th>\n",
       "      <th>bmi-feature_overweight</th>\n",
       "      <th>bp-feature_healthy</th>\n",
       "      <th>bp-feature_hypertension crises</th>\n",
       "      <th>bp-feature_stage 1 hypertension</th>\n",
       "      <th>bp-feature_stage 2 hypertension</th>\n",
       "    </tr>\n",
       "  </thead>\n",
       "  <tbody>\n",
       "    <tr>\n",
       "      <th>0</th>\n",
       "      <td>18393</td>\n",
       "      <td>1</td>\n",
       "      <td>1</td>\n",
       "      <td>0</td>\n",
       "      <td>0</td>\n",
       "      <td>1</td>\n",
       "      <td>1</td>\n",
       "      <td>0</td>\n",
       "      <td>0</td>\n",
       "      <td>0</td>\n",
       "      <td>0</td>\n",
       "      <td>0</td>\n",
       "      <td>0</td>\n",
       "      <td>1</td>\n",
       "      <td>0</td>\n",
       "    </tr>\n",
       "  </tbody>\n",
       "</table>\n",
       "</div>"
      ],
      "text/plain": [
       "     age  cholesterol  gluc  smoke  alco  active  gender_2  \\\n",
       "0  18393            1     1      0     0       1         1   \n",
       "\n",
       "   bmi-feature_obese (class I)  bmi-feature_obese (class II)  \\\n",
       "0                            0                             0   \n",
       "\n",
       "   bmi-feature_obese (class III)  bmi-feature_overweight  bp-feature_healthy  \\\n",
       "0                              0                       0                   0   \n",
       "\n",
       "   bp-feature_hypertension crises  bp-feature_stage 1 hypertension  \\\n",
       "0                               0                                1   \n",
       "\n",
       "   bp-feature_stage 2 hypertension  \n",
       "0                                0  "
      ]
     },
     "metadata": {},
     "output_type": "display_data"
    },
    {
     "data": {
      "text/html": [
       "<div>\n",
       "<style scoped>\n",
       "    .dataframe tbody tr th:only-of-type {\n",
       "        vertical-align: middle;\n",
       "    }\n",
       "\n",
       "    .dataframe tbody tr th {\n",
       "        vertical-align: top;\n",
       "    }\n",
       "\n",
       "    .dataframe thead th {\n",
       "        text-align: right;\n",
       "    }\n",
       "</style>\n",
       "<table border=\"1\" class=\"dataframe\">\n",
       "  <thead>\n",
       "    <tr style=\"text-align: right;\">\n",
       "      <th></th>\n",
       "      <th>age</th>\n",
       "      <th>bmi</th>\n",
       "      <th>ap_hi</th>\n",
       "      <th>ap_lo</th>\n",
       "      <th>cholesterol</th>\n",
       "      <th>gluc</th>\n",
       "      <th>smoke</th>\n",
       "      <th>alco</th>\n",
       "      <th>active</th>\n",
       "      <th>gender_2</th>\n",
       "    </tr>\n",
       "  </thead>\n",
       "  <tbody>\n",
       "    <tr>\n",
       "      <th>0</th>\n",
       "      <td>18393</td>\n",
       "      <td>21</td>\n",
       "      <td>110</td>\n",
       "      <td>80</td>\n",
       "      <td>1</td>\n",
       "      <td>1</td>\n",
       "      <td>0</td>\n",
       "      <td>0</td>\n",
       "      <td>1</td>\n",
       "      <td>1</td>\n",
       "    </tr>\n",
       "  </tbody>\n",
       "</table>\n",
       "</div>"
      ],
      "text/plain": [
       "     age  bmi  ap_hi  ap_lo  cholesterol  gluc  smoke  alco  active  gender_2\n",
       "0  18393   21    110     80            1     1      0     0       1         1"
      ]
     },
     "metadata": {},
     "output_type": "display_data"
    }
   ],
   "source": [
    "df1_x, df1_y = df1.drop('cardio', axis=1), df1['cardio']\n",
    "df2_x, df2_y = df2.drop('cardio', axis=1), df2['cardio']\n",
    "\n",
    "display(\n",
    "    df1_x.head(1),\n",
    "    df2_x.head(1)\n",
    ")"
   ]
  },
  {
   "cell_type": "code",
   "execution_count": 5,
   "metadata": {},
   "outputs": [
    {
     "data": {
      "text/plain": [
       "((40918, 15), (40918,), (13640, 15), (13640,), (13640, 15), (13640,))"
      ]
     },
     "metadata": {},
     "output_type": "display_data"
    },
    {
     "data": {
      "text/plain": [
       "((40918, 10), (40918,), (13640, 10), (13640,), (13640, 10), (13640,))"
      ]
     },
     "metadata": {},
     "output_type": "display_data"
    }
   ],
   "source": [
    "df1_x_train, df1_x_val, df1_x_test, df1_y_train, df1_y_val, df1_y_test = Helper.train_val_test_split(df1_x, df1_y, split_size=0.2, rand_state=42)\n",
    "df2_x_train, df2_x_val, df2_x_test, df2_y_train, df2_y_val, df2_y_test = Helper.train_val_test_split(df2_x, df2_y, split_size=0.2, rand_state=42)\n",
    "\n",
    "display(\n",
    "    (df1_x_train.shape, df1_y_train.shape, df1_x_val.shape, df1_y_val.shape, df1_x_test.shape, df1_y_test.shape),\n",
    "    (df2_x_train.shape, df2_y_train.shape, df2_x_val.shape, df2_y_val.shape, df2_x_test.shape, df2_y_test.shape),\n",
    ")"
   ]
  },
  {
   "cell_type": "code",
   "execution_count": 6,
   "metadata": {},
   "outputs": [
    {
     "data": {
      "text/plain": [
       "(0.24469073517266024,\n",
       " 0.4111901139656925,\n",
       " 0.24653791612942894,\n",
       " 0.4122246262036306)"
      ]
     },
     "execution_count": 6,
     "metadata": {},
     "output_type": "execute_result"
    }
   ],
   "source": [
    "df1_x_train, df1_x_val = Helper.scaler('minmax', df1_x_train, df1_x_val)\n",
    "df1_x_train.mean(), df1_x_train.std(), df1_x_val.mean(), df1_x_val.std()"
   ]
  },
  {
   "attachments": {},
   "cell_type": "markdown",
   "metadata": {},
   "source": [
    "## Grid Search parameters\n",
    "- Scoring: 'Accuracy'\n",
    "    - Reason: Given that where using classification, and not regression based models, accuracy seems like the only appropriate metric, given it directly tells us how good the model's doing at actually classifying things correctly.\n",
    "- cv: 5\n",
    "    - Reason: After searching a bit online, it seems as though 5 is a generally good number of folds for avoiding things like overfitting.\n",
    "\n",
    "### LogisticRegression\n",
    "- Chosen parameters\n",
    "    - penalty: 'elasticnet'\n",
    "        - Reason: We'd like to use both L1 and L2 regularization in the grid search\n",
    "    \n",
    "    - solver: saga\n",
    "        - Reason: The only solver that supports elasticnet\n",
    "    \n",
    "    - max_iter: 100 (Default)\n",
    "        - Reason: Appropriate number of interations for convergence.\n",
    "\n",
    "- Hyperparameters\n",
    "    - l1_ratio: [0.0, 0.1, ... 1.0]\n",
    "        - Reason: Uses both solvers individually as well as in ratios with a good increment resolution of 0.1.\n",
    "    \n",
    "### DecisionTreeClassifier\n",
    "- Chosen parameters\n",
    "    - max_depth: None (Default)\n",
    "        - Reason:\n",
    "\n",
    "    - min_samples_split: 2 (Default)\n",
    "        - Reason:\n",
    "\n",
    "    - min_samples_leaf: 1 (Default)\n",
    "        - Reason:\n",
    "\n",
    "    - min_weight_fraction_leaf: 0 (Default)\n",
    "        - Reason:\n",
    "\n",
    "    - max_leaf_nodes: None (Default)\n",
    "        - Reason:\n",
    "\n",
    "    - min_impurity_decrease: 0 (Default)\n",
    "        - Reason:\n",
    "\n",
    "    - class_weight: None (Default)\n",
    "        - Reason:\n",
    "\n",
    "    - ccp_alpha: 0 (Default)\n",
    "        - Reason:\n",
    "\n",
    "- Hyperparameters\n",
    "    - criterion ['gini', 'entropy', 'log_loss']\n",
    "    - splitter ['best', 'random']\n",
    "    - max_features: [None, 'sqrt', 'log2']\n",
    "\n",
    "\n",
    "### RandomForestClassifier\n",
    "- Chosen parameters\n",
    "    - max_depth: None (Default)\n",
    "        - Reason:\n",
    "\n",
    "    - min_samples_split: 2 (Default)\n",
    "        - Reason:\n",
    "\n",
    "    - min_samples_leaf: 1 (Default)\n",
    "        - Reason:\n",
    "    \n",
    "    - min_weight_fraction_leaf: 0 (Default)\n",
    "        - Reason:\n",
    "\n",
    "    - max_leaf_nodes: None (Default)\n",
    "        - Reason:\n",
    "    \n",
    "    - min_impurity_decrease: 0 (Default)\n",
    "        - Reason:\n",
    "\n",
    "    - bootstrap: True (Default)\n",
    "        - Reason:\n",
    "        \n",
    "    - oob_score: False (Default)\n",
    "        - Reason:\n",
    "\n",
    "    - class_weight: None (Default)\n",
    "        - Reason:\n",
    "    \n",
    "    - ccp_alpha: None (Default)\n",
    "        - Reason:\n",
    "\n",
    "- Hyperparameters\n",
    "    - n_estimators: [10, 20, ... 100] \n",
    "        - Reason:\n",
    "    \n",
    "    - criterion ['gini', 'entropy', 'log_loss']\n",
    "    - max_features: [None, 'sqrt', 'log2']\n",
    "    \n",
    "    - max_samples: [None, 0.1, 0.2, ... 1.0] # would this actually work?\n",
    "        - Reason:"
   ]
  },
  {
   "cell_type": "code",
   "execution_count": 30,
   "metadata": {},
   "outputs": [
    {
     "data": {
      "text/plain": [
       "[0.1, 0.2, 0.3, 0.4, 0.5, 0.6, 0.7, 0.8, 0.9]"
      ]
     },
     "execution_count": 30,
     "metadata": {},
     "output_type": "execute_result"
    }
   ],
   "source": [
    "test = [float(x)/10 for x in range(1, 10)]\n",
    "test"
   ]
  },
  {
   "cell_type": "code",
   "execution_count": 15,
   "metadata": {},
   "outputs": [],
   "source": [
    "# All the data needed for chosing the right model and doing hyperparameter tuning via GridSearchCV\n",
    "\n",
    "datasets = {\n",
    "    'df1': {\n",
    "        'x_train': df1_x_train,\n",
    "        'x_val': df1_x_val,\n",
    "        'x_test': df1_x_test,\n",
    "        'y_train': df1_y_train,\n",
    "        'y_val': df1_y_val,\n",
    "        'y_test': df1_y_test\n",
    "    },\n",
    "    'df2': {\n",
    "        'x_train': df2_x_train,\n",
    "        'x_val': df2_x_val,\n",
    "        'x_test': df2_x_test,\n",
    "        'y_train': df2_y_train,\n",
    "        'y_val': df2_y_val,\n",
    "        'y_val': df2_y_test\n",
    "     }\n",
    "}\n",
    "\n",
    "\n",
    "model_data = {\n",
    "    'LogisticRegression': {\n",
    "        'model': LogisticRegression(),\n",
    "        'search space': {\n",
    "            # Chosen parameters (defaults excluded)\n",
    "            'penalty': ['elasticnet'],\n",
    "            'solver': ['saga'],\n",
    "            \n",
    "            # Hyperparamaters\n",
    "            'l1_ratio' : [round(x * 0.1, 1) for x in range(11)]\n",
    "        }\n",
    "    },\n",
    "    \n",
    "    'DecisionTreeClassifier': {\n",
    "        'model': DecisionTreeClassifier(),\n",
    "        'search space': {\n",
    "            # Chosen parameters (defaults excluded)\n",
    "            \n",
    "            # Hyperparamaters\n",
    "            'criterion': ['gini', 'entropy', 'log_loss'],\n",
    "            'splitter': ['best', 'random'],\n",
    "            'max_features' : [None, 'sqrt', 'log2'],\n",
    "        }\n",
    "    },\n",
    "    \n",
    "    'RandomForestClassifier': {\n",
    "        'model': RandomForestClassifier(),\n",
    "        'search space': {\n",
    "            # Chosen parameters\n",
    "            \n",
    "            # Hyperparamaters\n",
    "            'n_estimators': [x for x in range(10, 110, 10)],\n",
    "            \n",
    "            'criterion': ['gini', 'entropy', 'log_loss'],\n",
    "            'max_features' : [None, 'sqrt', 'log2']\n",
    "        }\n",
    "    },\n",
    "}"
   ]
  },
  {
   "cell_type": "code",
   "execution_count": 9,
   "metadata": {},
   "outputs": [
    {
     "data": {
      "text/html": [
       "<div>\n",
       "<style scoped>\n",
       "    .dataframe tbody tr th:only-of-type {\n",
       "        vertical-align: middle;\n",
       "    }\n",
       "\n",
       "    .dataframe tbody tr th {\n",
       "        vertical-align: top;\n",
       "    }\n",
       "\n",
       "    .dataframe thead th {\n",
       "        text-align: right;\n",
       "    }\n",
       "</style>\n",
       "<table border=\"1\" class=\"dataframe\">\n",
       "  <thead>\n",
       "    <tr style=\"text-align: right;\">\n",
       "      <th></th>\n",
       "      <th>Dataset</th>\n",
       "      <th>Scaling</th>\n",
       "      <th>Model</th>\n",
       "      <th>Hyper params</th>\n",
       "      <th>Accuracy</th>\n",
       "    </tr>\n",
       "  </thead>\n",
       "  <tbody>\n",
       "  </tbody>\n",
       "</table>\n",
       "</div>"
      ],
      "text/plain": [
       "Empty DataFrame\n",
       "Columns: [Dataset, Scaling, Model, Hyper params, Accuracy]\n",
       "Index: []"
      ]
     },
     "execution_count": 9,
     "metadata": {},
     "output_type": "execute_result"
    }
   ],
   "source": [
    "model_metrics = pd.DataFrame(columns=['Dataset', 'Scaling', 'Model', 'Hyper params', 'Accuracy'])\n",
    "model_metrics"
   ]
  },
  {
   "cell_type": "code",
   "execution_count": 14,
   "metadata": {},
   "outputs": [
    {
     "name": "stdout",
     "output_type": "stream",
     "text": [
      "Fitting 5 folds for each of 22 candidates, totalling 110 fits\n"
     ]
    },
    {
     "name": "stderr",
     "output_type": "stream",
     "text": [
      "c:\\Users\\Kevin\\.virtualenvs\\Code-CYgrxAwh\\lib\\site-packages\\sklearn\\linear_model\\_sag.py:350: ConvergenceWarning: The max_iter was reached which means the coef_ did not converge\n",
      "  warnings.warn(\n"
     ]
    },
    {
     "name": "stdout",
     "output_type": "stream",
     "text": [
      "[CV 1/5] END l1_ratio=0.0, max_iter=10, penalty=elasticnet, solver=saga;, score=0.696 total time=   0.4s\n"
     ]
    },
    {
     "name": "stderr",
     "output_type": "stream",
     "text": [
      "c:\\Users\\Kevin\\.virtualenvs\\Code-CYgrxAwh\\lib\\site-packages\\sklearn\\linear_model\\_sag.py:350: ConvergenceWarning: The max_iter was reached which means the coef_ did not converge\n",
      "  warnings.warn(\n"
     ]
    },
    {
     "name": "stdout",
     "output_type": "stream",
     "text": [
      "[CV 2/5] END l1_ratio=0.0, max_iter=10, penalty=elasticnet, solver=saga;, score=0.693 total time=   0.2s\n"
     ]
    },
    {
     "name": "stderr",
     "output_type": "stream",
     "text": [
      "c:\\Users\\Kevin\\.virtualenvs\\Code-CYgrxAwh\\lib\\site-packages\\sklearn\\linear_model\\_sag.py:350: ConvergenceWarning: The max_iter was reached which means the coef_ did not converge\n",
      "  warnings.warn(\n"
     ]
    },
    {
     "name": "stdout",
     "output_type": "stream",
     "text": [
      "[CV 3/5] END l1_ratio=0.0, max_iter=10, penalty=elasticnet, solver=saga;, score=0.693 total time=   0.1s\n"
     ]
    },
    {
     "name": "stderr",
     "output_type": "stream",
     "text": [
      "c:\\Users\\Kevin\\.virtualenvs\\Code-CYgrxAwh\\lib\\site-packages\\sklearn\\linear_model\\_sag.py:350: ConvergenceWarning: The max_iter was reached which means the coef_ did not converge\n",
      "  warnings.warn(\n"
     ]
    },
    {
     "name": "stdout",
     "output_type": "stream",
     "text": [
      "[CV 4/5] END l1_ratio=0.0, max_iter=10, penalty=elasticnet, solver=saga;, score=0.701 total time=   0.2s\n"
     ]
    },
    {
     "name": "stderr",
     "output_type": "stream",
     "text": [
      "c:\\Users\\Kevin\\.virtualenvs\\Code-CYgrxAwh\\lib\\site-packages\\sklearn\\linear_model\\_sag.py:350: ConvergenceWarning: The max_iter was reached which means the coef_ did not converge\n",
      "  warnings.warn(\n"
     ]
    },
    {
     "name": "stdout",
     "output_type": "stream",
     "text": [
      "[CV 5/5] END l1_ratio=0.0, max_iter=10, penalty=elasticnet, solver=saga;, score=0.711 total time=   0.2s\n",
      "[CV 1/5] END l1_ratio=0.0, max_iter=100, penalty=elasticnet, solver=saga;, score=0.696 total time=   0.5s\n",
      "[CV 2/5] END l1_ratio=0.0, max_iter=100, penalty=elasticnet, solver=saga;, score=0.693 total time=   0.5s\n",
      "[CV 3/5] END l1_ratio=0.0, max_iter=100, penalty=elasticnet, solver=saga;, score=0.692 total time=   0.5s\n",
      "[CV 4/5] END l1_ratio=0.0, max_iter=100, penalty=elasticnet, solver=saga;, score=0.700 total time=   0.5s\n",
      "[CV 5/5] END l1_ratio=0.0, max_iter=100, penalty=elasticnet, solver=saga;, score=0.711 total time=   0.5s\n"
     ]
    },
    {
     "name": "stderr",
     "output_type": "stream",
     "text": [
      "c:\\Users\\Kevin\\.virtualenvs\\Code-CYgrxAwh\\lib\\site-packages\\sklearn\\linear_model\\_sag.py:350: ConvergenceWarning: The max_iter was reached which means the coef_ did not converge\n",
      "  warnings.warn(\n"
     ]
    },
    {
     "name": "stdout",
     "output_type": "stream",
     "text": [
      "[CV 1/5] END l1_ratio=0.1, max_iter=10, penalty=elasticnet, solver=saga;, score=0.697 total time=   0.3s\n"
     ]
    },
    {
     "name": "stderr",
     "output_type": "stream",
     "text": [
      "c:\\Users\\Kevin\\.virtualenvs\\Code-CYgrxAwh\\lib\\site-packages\\sklearn\\linear_model\\_sag.py:350: ConvergenceWarning: The max_iter was reached which means the coef_ did not converge\n",
      "  warnings.warn(\n"
     ]
    },
    {
     "name": "stdout",
     "output_type": "stream",
     "text": [
      "[CV 2/5] END l1_ratio=0.1, max_iter=10, penalty=elasticnet, solver=saga;, score=0.693 total time=   0.4s\n"
     ]
    },
    {
     "name": "stderr",
     "output_type": "stream",
     "text": [
      "c:\\Users\\Kevin\\.virtualenvs\\Code-CYgrxAwh\\lib\\site-packages\\sklearn\\linear_model\\_sag.py:350: ConvergenceWarning: The max_iter was reached which means the coef_ did not converge\n",
      "  warnings.warn(\n"
     ]
    },
    {
     "name": "stdout",
     "output_type": "stream",
     "text": [
      "[CV 3/5] END l1_ratio=0.1, max_iter=10, penalty=elasticnet, solver=saga;, score=0.692 total time=   0.3s\n"
     ]
    },
    {
     "name": "stderr",
     "output_type": "stream",
     "text": [
      "c:\\Users\\Kevin\\.virtualenvs\\Code-CYgrxAwh\\lib\\site-packages\\sklearn\\linear_model\\_sag.py:350: ConvergenceWarning: The max_iter was reached which means the coef_ did not converge\n",
      "  warnings.warn(\n"
     ]
    },
    {
     "name": "stdout",
     "output_type": "stream",
     "text": [
      "[CV 4/5] END l1_ratio=0.1, max_iter=10, penalty=elasticnet, solver=saga;, score=0.700 total time=   0.3s\n"
     ]
    },
    {
     "name": "stderr",
     "output_type": "stream",
     "text": [
      "c:\\Users\\Kevin\\.virtualenvs\\Code-CYgrxAwh\\lib\\site-packages\\sklearn\\linear_model\\_sag.py:350: ConvergenceWarning: The max_iter was reached which means the coef_ did not converge\n",
      "  warnings.warn(\n"
     ]
    },
    {
     "name": "stdout",
     "output_type": "stream",
     "text": [
      "[CV 5/5] END l1_ratio=0.1, max_iter=10, penalty=elasticnet, solver=saga;, score=0.710 total time=   0.4s\n",
      "[CV 1/5] END l1_ratio=0.1, max_iter=100, penalty=elasticnet, solver=saga;, score=0.696 total time=   0.4s\n",
      "[CV 2/5] END l1_ratio=0.1, max_iter=100, penalty=elasticnet, solver=saga;, score=0.693 total time=   0.4s\n",
      "[CV 3/5] END l1_ratio=0.1, max_iter=100, penalty=elasticnet, solver=saga;, score=0.692 total time=   0.4s\n",
      "[CV 4/5] END l1_ratio=0.1, max_iter=100, penalty=elasticnet, solver=saga;, score=0.700 total time=   0.4s\n",
      "[CV 5/5] END l1_ratio=0.1, max_iter=100, penalty=elasticnet, solver=saga;, score=0.711 total time=   0.4s\n"
     ]
    },
    {
     "name": "stderr",
     "output_type": "stream",
     "text": [
      "c:\\Users\\Kevin\\.virtualenvs\\Code-CYgrxAwh\\lib\\site-packages\\sklearn\\linear_model\\_sag.py:350: ConvergenceWarning: The max_iter was reached which means the coef_ did not converge\n",
      "  warnings.warn(\n"
     ]
    },
    {
     "name": "stdout",
     "output_type": "stream",
     "text": [
      "[CV 1/5] END l1_ratio=0.2, max_iter=10, penalty=elasticnet, solver=saga;, score=0.697 total time=   0.1s\n"
     ]
    },
    {
     "name": "stderr",
     "output_type": "stream",
     "text": [
      "c:\\Users\\Kevin\\.virtualenvs\\Code-CYgrxAwh\\lib\\site-packages\\sklearn\\linear_model\\_sag.py:350: ConvergenceWarning: The max_iter was reached which means the coef_ did not converge\n",
      "  warnings.warn(\n"
     ]
    },
    {
     "name": "stdout",
     "output_type": "stream",
     "text": [
      "[CV 2/5] END l1_ratio=0.2, max_iter=10, penalty=elasticnet, solver=saga;, score=0.692 total time=   0.1s\n"
     ]
    },
    {
     "name": "stderr",
     "output_type": "stream",
     "text": [
      "c:\\Users\\Kevin\\.virtualenvs\\Code-CYgrxAwh\\lib\\site-packages\\sklearn\\linear_model\\_sag.py:350: ConvergenceWarning: The max_iter was reached which means the coef_ did not converge\n",
      "  warnings.warn(\n"
     ]
    },
    {
     "name": "stdout",
     "output_type": "stream",
     "text": [
      "[CV 3/5] END l1_ratio=0.2, max_iter=10, penalty=elasticnet, solver=saga;, score=0.692 total time=   0.1s\n"
     ]
    },
    {
     "name": "stderr",
     "output_type": "stream",
     "text": [
      "c:\\Users\\Kevin\\.virtualenvs\\Code-CYgrxAwh\\lib\\site-packages\\sklearn\\linear_model\\_sag.py:350: ConvergenceWarning: The max_iter was reached which means the coef_ did not converge\n",
      "  warnings.warn(\n"
     ]
    },
    {
     "name": "stdout",
     "output_type": "stream",
     "text": [
      "[CV 4/5] END l1_ratio=0.2, max_iter=10, penalty=elasticnet, solver=saga;, score=0.700 total time=   0.3s\n"
     ]
    },
    {
     "name": "stderr",
     "output_type": "stream",
     "text": [
      "c:\\Users\\Kevin\\.virtualenvs\\Code-CYgrxAwh\\lib\\site-packages\\sklearn\\linear_model\\_sag.py:350: ConvergenceWarning: The max_iter was reached which means the coef_ did not converge\n",
      "  warnings.warn(\n"
     ]
    },
    {
     "name": "stdout",
     "output_type": "stream",
     "text": [
      "[CV 5/5] END l1_ratio=0.2, max_iter=10, penalty=elasticnet, solver=saga;, score=0.711 total time=   0.1s\n",
      "[CV 1/5] END l1_ratio=0.2, max_iter=100, penalty=elasticnet, solver=saga;, score=0.696 total time=   0.3s\n",
      "[CV 2/5] END l1_ratio=0.2, max_iter=100, penalty=elasticnet, solver=saga;, score=0.693 total time=   0.3s\n",
      "[CV 3/5] END l1_ratio=0.2, max_iter=100, penalty=elasticnet, solver=saga;, score=0.692 total time=   0.3s\n",
      "[CV 4/5] END l1_ratio=0.2, max_iter=100, penalty=elasticnet, solver=saga;, score=0.700 total time=   0.3s\n",
      "[CV 5/5] END l1_ratio=0.2, max_iter=100, penalty=elasticnet, solver=saga;, score=0.710 total time=   0.3s\n"
     ]
    },
    {
     "name": "stderr",
     "output_type": "stream",
     "text": [
      "c:\\Users\\Kevin\\.virtualenvs\\Code-CYgrxAwh\\lib\\site-packages\\sklearn\\linear_model\\_sag.py:350: ConvergenceWarning: The max_iter was reached which means the coef_ did not converge\n",
      "  warnings.warn(\n"
     ]
    },
    {
     "name": "stdout",
     "output_type": "stream",
     "text": [
      "[CV 1/5] END l1_ratio=0.3, max_iter=10, penalty=elasticnet, solver=saga;, score=0.696 total time=   0.1s\n"
     ]
    },
    {
     "name": "stderr",
     "output_type": "stream",
     "text": [
      "c:\\Users\\Kevin\\.virtualenvs\\Code-CYgrxAwh\\lib\\site-packages\\sklearn\\linear_model\\_sag.py:350: ConvergenceWarning: The max_iter was reached which means the coef_ did not converge\n",
      "  warnings.warn(\n"
     ]
    },
    {
     "name": "stdout",
     "output_type": "stream",
     "text": [
      "[CV 2/5] END l1_ratio=0.3, max_iter=10, penalty=elasticnet, solver=saga;, score=0.693 total time=   0.1s\n"
     ]
    },
    {
     "name": "stderr",
     "output_type": "stream",
     "text": [
      "c:\\Users\\Kevin\\.virtualenvs\\Code-CYgrxAwh\\lib\\site-packages\\sklearn\\linear_model\\_sag.py:350: ConvergenceWarning: The max_iter was reached which means the coef_ did not converge\n",
      "  warnings.warn(\n"
     ]
    },
    {
     "name": "stdout",
     "output_type": "stream",
     "text": [
      "[CV 3/5] END l1_ratio=0.3, max_iter=10, penalty=elasticnet, solver=saga;, score=0.693 total time=   0.2s\n"
     ]
    },
    {
     "name": "stderr",
     "output_type": "stream",
     "text": [
      "c:\\Users\\Kevin\\.virtualenvs\\Code-CYgrxAwh\\lib\\site-packages\\sklearn\\linear_model\\_sag.py:350: ConvergenceWarning: The max_iter was reached which means the coef_ did not converge\n",
      "  warnings.warn(\n"
     ]
    },
    {
     "name": "stdout",
     "output_type": "stream",
     "text": [
      "[CV 4/5] END l1_ratio=0.3, max_iter=10, penalty=elasticnet, solver=saga;, score=0.701 total time=   0.1s\n"
     ]
    },
    {
     "name": "stderr",
     "output_type": "stream",
     "text": [
      "c:\\Users\\Kevin\\.virtualenvs\\Code-CYgrxAwh\\lib\\site-packages\\sklearn\\linear_model\\_sag.py:350: ConvergenceWarning: The max_iter was reached which means the coef_ did not converge\n",
      "  warnings.warn(\n"
     ]
    },
    {
     "name": "stdout",
     "output_type": "stream",
     "text": [
      "[CV 5/5] END l1_ratio=0.3, max_iter=10, penalty=elasticnet, solver=saga;, score=0.710 total time=   0.1s\n",
      "[CV 1/5] END l1_ratio=0.3, max_iter=100, penalty=elasticnet, solver=saga;, score=0.696 total time=   0.3s\n",
      "[CV 2/5] END l1_ratio=0.3, max_iter=100, penalty=elasticnet, solver=saga;, score=0.693 total time=   0.3s\n",
      "[CV 3/5] END l1_ratio=0.3, max_iter=100, penalty=elasticnet, solver=saga;, score=0.692 total time=   0.2s\n",
      "[CV 4/5] END l1_ratio=0.3, max_iter=100, penalty=elasticnet, solver=saga;, score=0.700 total time=   0.3s\n",
      "[CV 5/5] END l1_ratio=0.3, max_iter=100, penalty=elasticnet, solver=saga;, score=0.710 total time=   0.2s\n"
     ]
    },
    {
     "name": "stderr",
     "output_type": "stream",
     "text": [
      "c:\\Users\\Kevin\\.virtualenvs\\Code-CYgrxAwh\\lib\\site-packages\\sklearn\\linear_model\\_sag.py:350: ConvergenceWarning: The max_iter was reached which means the coef_ did not converge\n",
      "  warnings.warn(\n"
     ]
    },
    {
     "name": "stdout",
     "output_type": "stream",
     "text": [
      "[CV 1/5] END l1_ratio=0.4, max_iter=10, penalty=elasticnet, solver=saga;, score=0.697 total time=   0.1s\n"
     ]
    },
    {
     "name": "stderr",
     "output_type": "stream",
     "text": [
      "c:\\Users\\Kevin\\.virtualenvs\\Code-CYgrxAwh\\lib\\site-packages\\sklearn\\linear_model\\_sag.py:350: ConvergenceWarning: The max_iter was reached which means the coef_ did not converge\n",
      "  warnings.warn(\n"
     ]
    },
    {
     "name": "stdout",
     "output_type": "stream",
     "text": [
      "[CV 2/5] END l1_ratio=0.4, max_iter=10, penalty=elasticnet, solver=saga;, score=0.693 total time=   0.1s\n"
     ]
    },
    {
     "name": "stderr",
     "output_type": "stream",
     "text": [
      "c:\\Users\\Kevin\\.virtualenvs\\Code-CYgrxAwh\\lib\\site-packages\\sklearn\\linear_model\\_sag.py:350: ConvergenceWarning: The max_iter was reached which means the coef_ did not converge\n",
      "  warnings.warn(\n"
     ]
    },
    {
     "name": "stdout",
     "output_type": "stream",
     "text": [
      "[CV 3/5] END l1_ratio=0.4, max_iter=10, penalty=elasticnet, solver=saga;, score=0.693 total time=   0.1s\n"
     ]
    },
    {
     "name": "stderr",
     "output_type": "stream",
     "text": [
      "c:\\Users\\Kevin\\.virtualenvs\\Code-CYgrxAwh\\lib\\site-packages\\sklearn\\linear_model\\_sag.py:350: ConvergenceWarning: The max_iter was reached which means the coef_ did not converge\n",
      "  warnings.warn(\n"
     ]
    },
    {
     "name": "stdout",
     "output_type": "stream",
     "text": [
      "[CV 4/5] END l1_ratio=0.4, max_iter=10, penalty=elasticnet, solver=saga;, score=0.702 total time=   0.2s\n"
     ]
    },
    {
     "name": "stderr",
     "output_type": "stream",
     "text": [
      "c:\\Users\\Kevin\\.virtualenvs\\Code-CYgrxAwh\\lib\\site-packages\\sklearn\\linear_model\\_sag.py:350: ConvergenceWarning: The max_iter was reached which means the coef_ did not converge\n",
      "  warnings.warn(\n"
     ]
    },
    {
     "name": "stdout",
     "output_type": "stream",
     "text": [
      "[CV 5/5] END l1_ratio=0.4, max_iter=10, penalty=elasticnet, solver=saga;, score=0.710 total time=   0.1s\n",
      "[CV 1/5] END l1_ratio=0.4, max_iter=100, penalty=elasticnet, solver=saga;, score=0.696 total time=   0.5s\n",
      "[CV 2/5] END l1_ratio=0.4, max_iter=100, penalty=elasticnet, solver=saga;, score=0.693 total time=   0.3s\n",
      "[CV 3/5] END l1_ratio=0.4, max_iter=100, penalty=elasticnet, solver=saga;, score=0.692 total time=   0.3s\n",
      "[CV 4/5] END l1_ratio=0.4, max_iter=100, penalty=elasticnet, solver=saga;, score=0.700 total time=   0.2s\n",
      "[CV 5/5] END l1_ratio=0.4, max_iter=100, penalty=elasticnet, solver=saga;, score=0.710 total time=   0.3s\n"
     ]
    },
    {
     "name": "stderr",
     "output_type": "stream",
     "text": [
      "c:\\Users\\Kevin\\.virtualenvs\\Code-CYgrxAwh\\lib\\site-packages\\sklearn\\linear_model\\_sag.py:350: ConvergenceWarning: The max_iter was reached which means the coef_ did not converge\n",
      "  warnings.warn(\n"
     ]
    },
    {
     "name": "stdout",
     "output_type": "stream",
     "text": [
      "[CV 1/5] END l1_ratio=0.5, max_iter=10, penalty=elasticnet, solver=saga;, score=0.696 total time=   0.1s\n"
     ]
    },
    {
     "name": "stderr",
     "output_type": "stream",
     "text": [
      "c:\\Users\\Kevin\\.virtualenvs\\Code-CYgrxAwh\\lib\\site-packages\\sklearn\\linear_model\\_sag.py:350: ConvergenceWarning: The max_iter was reached which means the coef_ did not converge\n",
      "  warnings.warn(\n"
     ]
    },
    {
     "name": "stdout",
     "output_type": "stream",
     "text": [
      "[CV 2/5] END l1_ratio=0.5, max_iter=10, penalty=elasticnet, solver=saga;, score=0.693 total time=   0.1s\n"
     ]
    },
    {
     "name": "stderr",
     "output_type": "stream",
     "text": [
      "c:\\Users\\Kevin\\.virtualenvs\\Code-CYgrxAwh\\lib\\site-packages\\sklearn\\linear_model\\_sag.py:350: ConvergenceWarning: The max_iter was reached which means the coef_ did not converge\n",
      "  warnings.warn(\n"
     ]
    },
    {
     "name": "stdout",
     "output_type": "stream",
     "text": [
      "[CV 3/5] END l1_ratio=0.5, max_iter=10, penalty=elasticnet, solver=saga;, score=0.692 total time=   0.1s\n"
     ]
    },
    {
     "name": "stderr",
     "output_type": "stream",
     "text": [
      "c:\\Users\\Kevin\\.virtualenvs\\Code-CYgrxAwh\\lib\\site-packages\\sklearn\\linear_model\\_sag.py:350: ConvergenceWarning: The max_iter was reached which means the coef_ did not converge\n",
      "  warnings.warn(\n",
      "c:\\Users\\Kevin\\.virtualenvs\\Code-CYgrxAwh\\lib\\site-packages\\sklearn\\linear_model\\_sag.py:350: ConvergenceWarning: The max_iter was reached which means the coef_ did not converge\n",
      "  warnings.warn(\n"
     ]
    },
    {
     "name": "stdout",
     "output_type": "stream",
     "text": [
      "[CV 4/5] END l1_ratio=0.5, max_iter=10, penalty=elasticnet, solver=saga;, score=0.702 total time=   0.1s\n",
      "[CV 5/5] END l1_ratio=0.5, max_iter=10, penalty=elasticnet, solver=saga;, score=0.711 total time=   0.1s\n",
      "[CV 1/5] END l1_ratio=0.5, max_iter=100, penalty=elasticnet, solver=saga;, score=0.696 total time=   0.3s\n",
      "[CV 2/5] END l1_ratio=0.5, max_iter=100, penalty=elasticnet, solver=saga;, score=0.693 total time=   0.3s\n",
      "[CV 3/5] END l1_ratio=0.5, max_iter=100, penalty=elasticnet, solver=saga;, score=0.692 total time=   0.3s\n",
      "[CV 4/5] END l1_ratio=0.5, max_iter=100, penalty=elasticnet, solver=saga;, score=0.700 total time=   0.3s\n",
      "[CV 5/5] END l1_ratio=0.5, max_iter=100, penalty=elasticnet, solver=saga;, score=0.710 total time=   0.2s\n"
     ]
    },
    {
     "name": "stderr",
     "output_type": "stream",
     "text": [
      "c:\\Users\\Kevin\\.virtualenvs\\Code-CYgrxAwh\\lib\\site-packages\\sklearn\\linear_model\\_sag.py:350: ConvergenceWarning: The max_iter was reached which means the coef_ did not converge\n",
      "  warnings.warn(\n"
     ]
    },
    {
     "name": "stdout",
     "output_type": "stream",
     "text": [
      "[CV 1/5] END l1_ratio=0.6, max_iter=10, penalty=elasticnet, solver=saga;, score=0.696 total time=   0.2s\n"
     ]
    },
    {
     "name": "stderr",
     "output_type": "stream",
     "text": [
      "c:\\Users\\Kevin\\.virtualenvs\\Code-CYgrxAwh\\lib\\site-packages\\sklearn\\linear_model\\_sag.py:350: ConvergenceWarning: The max_iter was reached which means the coef_ did not converge\n",
      "  warnings.warn(\n"
     ]
    },
    {
     "name": "stdout",
     "output_type": "stream",
     "text": [
      "[CV 2/5] END l1_ratio=0.6, max_iter=10, penalty=elasticnet, solver=saga;, score=0.693 total time=   0.2s\n"
     ]
    },
    {
     "name": "stderr",
     "output_type": "stream",
     "text": [
      "c:\\Users\\Kevin\\.virtualenvs\\Code-CYgrxAwh\\lib\\site-packages\\sklearn\\linear_model\\_sag.py:350: ConvergenceWarning: The max_iter was reached which means the coef_ did not converge\n",
      "  warnings.warn(\n"
     ]
    },
    {
     "name": "stdout",
     "output_type": "stream",
     "text": [
      "[CV 3/5] END l1_ratio=0.6, max_iter=10, penalty=elasticnet, solver=saga;, score=0.692 total time=   0.2s\n"
     ]
    },
    {
     "name": "stderr",
     "output_type": "stream",
     "text": [
      "c:\\Users\\Kevin\\.virtualenvs\\Code-CYgrxAwh\\lib\\site-packages\\sklearn\\linear_model\\_sag.py:350: ConvergenceWarning: The max_iter was reached which means the coef_ did not converge\n",
      "  warnings.warn(\n"
     ]
    },
    {
     "name": "stdout",
     "output_type": "stream",
     "text": [
      "[CV 4/5] END l1_ratio=0.6, max_iter=10, penalty=elasticnet, solver=saga;, score=0.700 total time=   0.3s\n"
     ]
    },
    {
     "name": "stderr",
     "output_type": "stream",
     "text": [
      "c:\\Users\\Kevin\\.virtualenvs\\Code-CYgrxAwh\\lib\\site-packages\\sklearn\\linear_model\\_sag.py:350: ConvergenceWarning: The max_iter was reached which means the coef_ did not converge\n",
      "  warnings.warn(\n"
     ]
    },
    {
     "name": "stdout",
     "output_type": "stream",
     "text": [
      "[CV 5/5] END l1_ratio=0.6, max_iter=10, penalty=elasticnet, solver=saga;, score=0.711 total time=   0.1s\n",
      "[CV 1/5] END l1_ratio=0.6, max_iter=100, penalty=elasticnet, solver=saga;, score=0.696 total time=   0.4s\n",
      "[CV 2/5] END l1_ratio=0.6, max_iter=100, penalty=elasticnet, solver=saga;, score=0.693 total time=   0.3s\n",
      "[CV 3/5] END l1_ratio=0.6, max_iter=100, penalty=elasticnet, solver=saga;, score=0.692 total time=   0.3s\n",
      "[CV 4/5] END l1_ratio=0.6, max_iter=100, penalty=elasticnet, solver=saga;, score=0.701 total time=   0.3s\n",
      "[CV 5/5] END l1_ratio=0.6, max_iter=100, penalty=elasticnet, solver=saga;, score=0.710 total time=   0.3s\n"
     ]
    },
    {
     "name": "stderr",
     "output_type": "stream",
     "text": [
      "c:\\Users\\Kevin\\.virtualenvs\\Code-CYgrxAwh\\lib\\site-packages\\sklearn\\linear_model\\_sag.py:350: ConvergenceWarning: The max_iter was reached which means the coef_ did not converge\n",
      "  warnings.warn(\n"
     ]
    },
    {
     "name": "stdout",
     "output_type": "stream",
     "text": [
      "[CV 1/5] END l1_ratio=0.7, max_iter=10, penalty=elasticnet, solver=saga;, score=0.697 total time=   0.2s\n"
     ]
    },
    {
     "name": "stderr",
     "output_type": "stream",
     "text": [
      "c:\\Users\\Kevin\\.virtualenvs\\Code-CYgrxAwh\\lib\\site-packages\\sklearn\\linear_model\\_sag.py:350: ConvergenceWarning: The max_iter was reached which means the coef_ did not converge\n",
      "  warnings.warn(\n"
     ]
    },
    {
     "name": "stdout",
     "output_type": "stream",
     "text": [
      "[CV 2/5] END l1_ratio=0.7, max_iter=10, penalty=elasticnet, solver=saga;, score=0.692 total time=   0.1s\n"
     ]
    },
    {
     "name": "stderr",
     "output_type": "stream",
     "text": [
      "c:\\Users\\Kevin\\.virtualenvs\\Code-CYgrxAwh\\lib\\site-packages\\sklearn\\linear_model\\_sag.py:350: ConvergenceWarning: The max_iter was reached which means the coef_ did not converge\n",
      "  warnings.warn(\n"
     ]
    },
    {
     "name": "stdout",
     "output_type": "stream",
     "text": [
      "[CV 3/5] END l1_ratio=0.7, max_iter=10, penalty=elasticnet, solver=saga;, score=0.692 total time=   0.2s\n"
     ]
    },
    {
     "name": "stderr",
     "output_type": "stream",
     "text": [
      "c:\\Users\\Kevin\\.virtualenvs\\Code-CYgrxAwh\\lib\\site-packages\\sklearn\\linear_model\\_sag.py:350: ConvergenceWarning: The max_iter was reached which means the coef_ did not converge\n",
      "  warnings.warn(\n"
     ]
    },
    {
     "name": "stdout",
     "output_type": "stream",
     "text": [
      "[CV 4/5] END l1_ratio=0.7, max_iter=10, penalty=elasticnet, solver=saga;, score=0.701 total time=   0.2s\n"
     ]
    },
    {
     "name": "stderr",
     "output_type": "stream",
     "text": [
      "c:\\Users\\Kevin\\.virtualenvs\\Code-CYgrxAwh\\lib\\site-packages\\sklearn\\linear_model\\_sag.py:350: ConvergenceWarning: The max_iter was reached which means the coef_ did not converge\n",
      "  warnings.warn(\n"
     ]
    },
    {
     "name": "stdout",
     "output_type": "stream",
     "text": [
      "[CV 5/5] END l1_ratio=0.7, max_iter=10, penalty=elasticnet, solver=saga;, score=0.710 total time=   0.4s\n",
      "[CV 1/5] END l1_ratio=0.7, max_iter=100, penalty=elasticnet, solver=saga;, score=0.696 total time=   0.5s\n",
      "[CV 2/5] END l1_ratio=0.7, max_iter=100, penalty=elasticnet, solver=saga;, score=0.693 total time=   0.4s\n",
      "[CV 3/5] END l1_ratio=0.7, max_iter=100, penalty=elasticnet, solver=saga;, score=0.692 total time=   0.4s\n",
      "[CV 4/5] END l1_ratio=0.7, max_iter=100, penalty=elasticnet, solver=saga;, score=0.701 total time=   0.4s\n",
      "[CV 5/5] END l1_ratio=0.7, max_iter=100, penalty=elasticnet, solver=saga;, score=0.710 total time=   0.5s\n"
     ]
    },
    {
     "name": "stderr",
     "output_type": "stream",
     "text": [
      "c:\\Users\\Kevin\\.virtualenvs\\Code-CYgrxAwh\\lib\\site-packages\\sklearn\\linear_model\\_sag.py:350: ConvergenceWarning: The max_iter was reached which means the coef_ did not converge\n",
      "  warnings.warn(\n"
     ]
    },
    {
     "name": "stdout",
     "output_type": "stream",
     "text": [
      "[CV 1/5] END l1_ratio=0.8, max_iter=10, penalty=elasticnet, solver=saga;, score=0.697 total time=   0.1s\n"
     ]
    },
    {
     "name": "stderr",
     "output_type": "stream",
     "text": [
      "c:\\Users\\Kevin\\.virtualenvs\\Code-CYgrxAwh\\lib\\site-packages\\sklearn\\linear_model\\_sag.py:350: ConvergenceWarning: The max_iter was reached which means the coef_ did not converge\n",
      "  warnings.warn(\n"
     ]
    },
    {
     "name": "stdout",
     "output_type": "stream",
     "text": [
      "[CV 2/5] END l1_ratio=0.8, max_iter=10, penalty=elasticnet, solver=saga;, score=0.693 total time=   0.1s\n"
     ]
    },
    {
     "name": "stderr",
     "output_type": "stream",
     "text": [
      "c:\\Users\\Kevin\\.virtualenvs\\Code-CYgrxAwh\\lib\\site-packages\\sklearn\\linear_model\\_sag.py:350: ConvergenceWarning: The max_iter was reached which means the coef_ did not converge\n",
      "  warnings.warn(\n"
     ]
    },
    {
     "name": "stdout",
     "output_type": "stream",
     "text": [
      "[CV 3/5] END l1_ratio=0.8, max_iter=10, penalty=elasticnet, solver=saga;, score=0.692 total time=   0.2s\n"
     ]
    },
    {
     "name": "stderr",
     "output_type": "stream",
     "text": [
      "c:\\Users\\Kevin\\.virtualenvs\\Code-CYgrxAwh\\lib\\site-packages\\sklearn\\linear_model\\_sag.py:350: ConvergenceWarning: The max_iter was reached which means the coef_ did not converge\n",
      "  warnings.warn(\n"
     ]
    },
    {
     "name": "stdout",
     "output_type": "stream",
     "text": [
      "[CV 4/5] END l1_ratio=0.8, max_iter=10, penalty=elasticnet, solver=saga;, score=0.701 total time=   0.1s\n"
     ]
    },
    {
     "name": "stderr",
     "output_type": "stream",
     "text": [
      "c:\\Users\\Kevin\\.virtualenvs\\Code-CYgrxAwh\\lib\\site-packages\\sklearn\\linear_model\\_sag.py:350: ConvergenceWarning: The max_iter was reached which means the coef_ did not converge\n",
      "  warnings.warn(\n"
     ]
    },
    {
     "name": "stdout",
     "output_type": "stream",
     "text": [
      "[CV 5/5] END l1_ratio=0.8, max_iter=10, penalty=elasticnet, solver=saga;, score=0.711 total time=   0.2s\n",
      "[CV 1/5] END l1_ratio=0.8, max_iter=100, penalty=elasticnet, solver=saga;, score=0.696 total time=   0.7s\n",
      "[CV 2/5] END l1_ratio=0.8, max_iter=100, penalty=elasticnet, solver=saga;, score=0.693 total time=   0.3s\n",
      "[CV 3/5] END l1_ratio=0.8, max_iter=100, penalty=elasticnet, solver=saga;, score=0.692 total time=   0.3s\n",
      "[CV 4/5] END l1_ratio=0.8, max_iter=100, penalty=elasticnet, solver=saga;, score=0.701 total time=   0.4s\n",
      "[CV 5/5] END l1_ratio=0.8, max_iter=100, penalty=elasticnet, solver=saga;, score=0.710 total time=   0.4s\n"
     ]
    },
    {
     "name": "stderr",
     "output_type": "stream",
     "text": [
      "c:\\Users\\Kevin\\.virtualenvs\\Code-CYgrxAwh\\lib\\site-packages\\sklearn\\linear_model\\_sag.py:350: ConvergenceWarning: The max_iter was reached which means the coef_ did not converge\n",
      "  warnings.warn(\n"
     ]
    },
    {
     "name": "stdout",
     "output_type": "stream",
     "text": [
      "[CV 1/5] END l1_ratio=0.9, max_iter=10, penalty=elasticnet, solver=saga;, score=0.696 total time=   0.1s\n"
     ]
    },
    {
     "name": "stderr",
     "output_type": "stream",
     "text": [
      "c:\\Users\\Kevin\\.virtualenvs\\Code-CYgrxAwh\\lib\\site-packages\\sklearn\\linear_model\\_sag.py:350: ConvergenceWarning: The max_iter was reached which means the coef_ did not converge\n",
      "  warnings.warn(\n"
     ]
    },
    {
     "name": "stdout",
     "output_type": "stream",
     "text": [
      "[CV 2/5] END l1_ratio=0.9, max_iter=10, penalty=elasticnet, solver=saga;, score=0.693 total time=   0.1s\n"
     ]
    },
    {
     "name": "stderr",
     "output_type": "stream",
     "text": [
      "c:\\Users\\Kevin\\.virtualenvs\\Code-CYgrxAwh\\lib\\site-packages\\sklearn\\linear_model\\_sag.py:350: ConvergenceWarning: The max_iter was reached which means the coef_ did not converge\n",
      "  warnings.warn(\n"
     ]
    },
    {
     "name": "stdout",
     "output_type": "stream",
     "text": [
      "[CV 3/5] END l1_ratio=0.9, max_iter=10, penalty=elasticnet, solver=saga;, score=0.693 total time=   0.2s\n"
     ]
    },
    {
     "name": "stderr",
     "output_type": "stream",
     "text": [
      "c:\\Users\\Kevin\\.virtualenvs\\Code-CYgrxAwh\\lib\\site-packages\\sklearn\\linear_model\\_sag.py:350: ConvergenceWarning: The max_iter was reached which means the coef_ did not converge\n",
      "  warnings.warn(\n"
     ]
    },
    {
     "name": "stdout",
     "output_type": "stream",
     "text": [
      "[CV 4/5] END l1_ratio=0.9, max_iter=10, penalty=elasticnet, solver=saga;, score=0.701 total time=   0.2s\n"
     ]
    },
    {
     "name": "stderr",
     "output_type": "stream",
     "text": [
      "c:\\Users\\Kevin\\.virtualenvs\\Code-CYgrxAwh\\lib\\site-packages\\sklearn\\linear_model\\_sag.py:350: ConvergenceWarning: The max_iter was reached which means the coef_ did not converge\n",
      "  warnings.warn(\n"
     ]
    },
    {
     "name": "stdout",
     "output_type": "stream",
     "text": [
      "[CV 5/5] END l1_ratio=0.9, max_iter=10, penalty=elasticnet, solver=saga;, score=0.710 total time=   0.1s\n",
      "[CV 1/5] END l1_ratio=0.9, max_iter=100, penalty=elasticnet, solver=saga;, score=0.697 total time=   0.4s\n",
      "[CV 2/5] END l1_ratio=0.9, max_iter=100, penalty=elasticnet, solver=saga;, score=0.693 total time=   0.4s\n",
      "[CV 3/5] END l1_ratio=0.9, max_iter=100, penalty=elasticnet, solver=saga;, score=0.692 total time=   0.4s\n",
      "[CV 4/5] END l1_ratio=0.9, max_iter=100, penalty=elasticnet, solver=saga;, score=0.701 total time=   0.3s\n",
      "[CV 5/5] END l1_ratio=0.9, max_iter=100, penalty=elasticnet, solver=saga;, score=0.710 total time=   0.3s\n"
     ]
    },
    {
     "name": "stderr",
     "output_type": "stream",
     "text": [
      "c:\\Users\\Kevin\\.virtualenvs\\Code-CYgrxAwh\\lib\\site-packages\\sklearn\\linear_model\\_sag.py:350: ConvergenceWarning: The max_iter was reached which means the coef_ did not converge\n",
      "  warnings.warn(\n"
     ]
    },
    {
     "name": "stdout",
     "output_type": "stream",
     "text": [
      "[CV 1/5] END l1_ratio=1.0, max_iter=10, penalty=elasticnet, solver=saga;, score=0.696 total time=   0.2s\n"
     ]
    },
    {
     "name": "stderr",
     "output_type": "stream",
     "text": [
      "c:\\Users\\Kevin\\.virtualenvs\\Code-CYgrxAwh\\lib\\site-packages\\sklearn\\linear_model\\_sag.py:350: ConvergenceWarning: The max_iter was reached which means the coef_ did not converge\n",
      "  warnings.warn(\n"
     ]
    },
    {
     "name": "stdout",
     "output_type": "stream",
     "text": [
      "[CV 2/5] END l1_ratio=1.0, max_iter=10, penalty=elasticnet, solver=saga;, score=0.693 total time=   0.2s\n"
     ]
    },
    {
     "name": "stderr",
     "output_type": "stream",
     "text": [
      "c:\\Users\\Kevin\\.virtualenvs\\Code-CYgrxAwh\\lib\\site-packages\\sklearn\\linear_model\\_sag.py:350: ConvergenceWarning: The max_iter was reached which means the coef_ did not converge\n",
      "  warnings.warn(\n"
     ]
    },
    {
     "name": "stdout",
     "output_type": "stream",
     "text": [
      "[CV 3/5] END l1_ratio=1.0, max_iter=10, penalty=elasticnet, solver=saga;, score=0.693 total time=   0.2s\n"
     ]
    },
    {
     "name": "stderr",
     "output_type": "stream",
     "text": [
      "c:\\Users\\Kevin\\.virtualenvs\\Code-CYgrxAwh\\lib\\site-packages\\sklearn\\linear_model\\_sag.py:350: ConvergenceWarning: The max_iter was reached which means the coef_ did not converge\n",
      "  warnings.warn(\n"
     ]
    },
    {
     "name": "stdout",
     "output_type": "stream",
     "text": [
      "[CV 4/5] END l1_ratio=1.0, max_iter=10, penalty=elasticnet, solver=saga;, score=0.701 total time=   0.2s\n"
     ]
    },
    {
     "name": "stderr",
     "output_type": "stream",
     "text": [
      "c:\\Users\\Kevin\\.virtualenvs\\Code-CYgrxAwh\\lib\\site-packages\\sklearn\\linear_model\\_sag.py:350: ConvergenceWarning: The max_iter was reached which means the coef_ did not converge\n",
      "  warnings.warn(\n"
     ]
    },
    {
     "name": "stdout",
     "output_type": "stream",
     "text": [
      "[CV 5/5] END l1_ratio=1.0, max_iter=10, penalty=elasticnet, solver=saga;, score=0.710 total time=   0.1s\n",
      "[CV 1/5] END l1_ratio=1.0, max_iter=100, penalty=elasticnet, solver=saga;, score=0.697 total time=   0.5s\n",
      "[CV 2/5] END l1_ratio=1.0, max_iter=100, penalty=elasticnet, solver=saga;, score=0.693 total time=   0.3s\n",
      "[CV 3/5] END l1_ratio=1.0, max_iter=100, penalty=elasticnet, solver=saga;, score=0.692 total time=   0.3s\n",
      "[CV 4/5] END l1_ratio=1.0, max_iter=100, penalty=elasticnet, solver=saga;, score=0.701 total time=   0.3s\n",
      "[CV 5/5] END l1_ratio=1.0, max_iter=100, penalty=elasticnet, solver=saga;, score=0.710 total time=   0.4s\n"
     ]
    },
    {
     "name": "stderr",
     "output_type": "stream",
     "text": [
      "c:\\Users\\Kevin\\.virtualenvs\\Code-CYgrxAwh\\lib\\site-packages\\sklearn\\linear_model\\_sag.py:350: ConvergenceWarning: The max_iter was reached which means the coef_ did not converge\n",
      "  warnings.warn(\n"
     ]
    },
    {
     "name": "stdout",
     "output_type": "stream",
     "text": [
      "Fitting 5 folds for each of 22 candidates, totalling 110 fits\n"
     ]
    },
    {
     "name": "stderr",
     "output_type": "stream",
     "text": [
      "c:\\Users\\Kevin\\.virtualenvs\\Code-CYgrxAwh\\lib\\site-packages\\sklearn\\linear_model\\_sag.py:350: ConvergenceWarning: The max_iter was reached which means the coef_ did not converge\n",
      "  warnings.warn(\n"
     ]
    },
    {
     "name": "stdout",
     "output_type": "stream",
     "text": [
      "[CV 1/5] END l1_ratio=0.0, max_iter=10, penalty=elasticnet, solver=saga;, score=0.697 total time=   0.1s\n"
     ]
    },
    {
     "name": "stderr",
     "output_type": "stream",
     "text": [
      "c:\\Users\\Kevin\\.virtualenvs\\Code-CYgrxAwh\\lib\\site-packages\\sklearn\\linear_model\\_sag.py:350: ConvergenceWarning: The max_iter was reached which means the coef_ did not converge\n",
      "  warnings.warn(\n",
      "c:\\Users\\Kevin\\.virtualenvs\\Code-CYgrxAwh\\lib\\site-packages\\sklearn\\linear_model\\_sag.py:350: ConvergenceWarning: The max_iter was reached which means the coef_ did not converge\n",
      "  warnings.warn(\n"
     ]
    },
    {
     "name": "stdout",
     "output_type": "stream",
     "text": [
      "[CV 2/5] END l1_ratio=0.0, max_iter=10, penalty=elasticnet, solver=saga;, score=0.692 total time=   0.5s\n",
      "[CV 3/5] END l1_ratio=0.0, max_iter=10, penalty=elasticnet, solver=saga;, score=0.692 total time=   0.1s\n"
     ]
    },
    {
     "name": "stderr",
     "output_type": "stream",
     "text": [
      "c:\\Users\\Kevin\\.virtualenvs\\Code-CYgrxAwh\\lib\\site-packages\\sklearn\\linear_model\\_sag.py:350: ConvergenceWarning: The max_iter was reached which means the coef_ did not converge\n",
      "  warnings.warn(\n",
      "c:\\Users\\Kevin\\.virtualenvs\\Code-CYgrxAwh\\lib\\site-packages\\sklearn\\linear_model\\_sag.py:350: ConvergenceWarning: The max_iter was reached which means the coef_ did not converge\n",
      "  warnings.warn(\n"
     ]
    },
    {
     "name": "stdout",
     "output_type": "stream",
     "text": [
      "[CV 4/5] END l1_ratio=0.0, max_iter=10, penalty=elasticnet, solver=saga;, score=0.700 total time=   0.1s\n",
      "[CV 5/5] END l1_ratio=0.0, max_iter=10, penalty=elasticnet, solver=saga;, score=0.710 total time=   0.1s\n",
      "[CV 1/5] END l1_ratio=0.0, max_iter=100, penalty=elasticnet, solver=saga;, score=0.696 total time=   0.4s\n",
      "[CV 2/5] END l1_ratio=0.0, max_iter=100, penalty=elasticnet, solver=saga;, score=0.692 total time=   0.3s\n",
      "[CV 3/5] END l1_ratio=0.0, max_iter=100, penalty=elasticnet, solver=saga;, score=0.692 total time=   0.2s\n",
      "[CV 4/5] END l1_ratio=0.0, max_iter=100, penalty=elasticnet, solver=saga;, score=0.700 total time=   0.2s\n",
      "[CV 5/5] END l1_ratio=0.0, max_iter=100, penalty=elasticnet, solver=saga;, score=0.710 total time=   0.2s\n"
     ]
    },
    {
     "name": "stderr",
     "output_type": "stream",
     "text": [
      "c:\\Users\\Kevin\\.virtualenvs\\Code-CYgrxAwh\\lib\\site-packages\\sklearn\\linear_model\\_sag.py:350: ConvergenceWarning: The max_iter was reached which means the coef_ did not converge\n",
      "  warnings.warn(\n"
     ]
    },
    {
     "name": "stdout",
     "output_type": "stream",
     "text": [
      "[CV 1/5] END l1_ratio=0.1, max_iter=10, penalty=elasticnet, solver=saga;, score=0.696 total time=   0.1s\n"
     ]
    },
    {
     "name": "stderr",
     "output_type": "stream",
     "text": [
      "c:\\Users\\Kevin\\.virtualenvs\\Code-CYgrxAwh\\lib\\site-packages\\sklearn\\linear_model\\_sag.py:350: ConvergenceWarning: The max_iter was reached which means the coef_ did not converge\n",
      "  warnings.warn(\n"
     ]
    },
    {
     "name": "stdout",
     "output_type": "stream",
     "text": [
      "[CV 2/5] END l1_ratio=0.1, max_iter=10, penalty=elasticnet, solver=saga;, score=0.693 total time=   0.2s\n"
     ]
    },
    {
     "name": "stderr",
     "output_type": "stream",
     "text": [
      "c:\\Users\\Kevin\\.virtualenvs\\Code-CYgrxAwh\\lib\\site-packages\\sklearn\\linear_model\\_sag.py:350: ConvergenceWarning: The max_iter was reached which means the coef_ did not converge\n",
      "  warnings.warn(\n"
     ]
    },
    {
     "name": "stdout",
     "output_type": "stream",
     "text": [
      "[CV 3/5] END l1_ratio=0.1, max_iter=10, penalty=elasticnet, solver=saga;, score=0.692 total time=   0.1s\n"
     ]
    },
    {
     "name": "stderr",
     "output_type": "stream",
     "text": [
      "c:\\Users\\Kevin\\.virtualenvs\\Code-CYgrxAwh\\lib\\site-packages\\sklearn\\linear_model\\_sag.py:350: ConvergenceWarning: The max_iter was reached which means the coef_ did not converge\n",
      "  warnings.warn(\n"
     ]
    },
    {
     "name": "stdout",
     "output_type": "stream",
     "text": [
      "[CV 4/5] END l1_ratio=0.1, max_iter=10, penalty=elasticnet, solver=saga;, score=0.701 total time=   0.2s\n"
     ]
    },
    {
     "name": "stderr",
     "output_type": "stream",
     "text": [
      "c:\\Users\\Kevin\\.virtualenvs\\Code-CYgrxAwh\\lib\\site-packages\\sklearn\\linear_model\\_sag.py:350: ConvergenceWarning: The max_iter was reached which means the coef_ did not converge\n",
      "  warnings.warn(\n"
     ]
    },
    {
     "name": "stdout",
     "output_type": "stream",
     "text": [
      "[CV 5/5] END l1_ratio=0.1, max_iter=10, penalty=elasticnet, solver=saga;, score=0.710 total time=   0.1s\n",
      "[CV 1/5] END l1_ratio=0.1, max_iter=100, penalty=elasticnet, solver=saga;, score=0.696 total time=   0.4s\n",
      "[CV 2/5] END l1_ratio=0.1, max_iter=100, penalty=elasticnet, solver=saga;, score=0.692 total time=   0.3s\n",
      "[CV 3/5] END l1_ratio=0.1, max_iter=100, penalty=elasticnet, solver=saga;, score=0.692 total time=   0.3s\n",
      "[CV 4/5] END l1_ratio=0.1, max_iter=100, penalty=elasticnet, solver=saga;, score=0.700 total time=   0.3s\n",
      "[CV 5/5] END l1_ratio=0.1, max_iter=100, penalty=elasticnet, solver=saga;, score=0.710 total time=   0.4s\n"
     ]
    },
    {
     "name": "stderr",
     "output_type": "stream",
     "text": [
      "c:\\Users\\Kevin\\.virtualenvs\\Code-CYgrxAwh\\lib\\site-packages\\sklearn\\linear_model\\_sag.py:350: ConvergenceWarning: The max_iter was reached which means the coef_ did not converge\n",
      "  warnings.warn(\n"
     ]
    },
    {
     "name": "stdout",
     "output_type": "stream",
     "text": [
      "[CV 1/5] END l1_ratio=0.2, max_iter=10, penalty=elasticnet, solver=saga;, score=0.696 total time=   0.3s\n"
     ]
    },
    {
     "name": "stderr",
     "output_type": "stream",
     "text": [
      "c:\\Users\\Kevin\\.virtualenvs\\Code-CYgrxAwh\\lib\\site-packages\\sklearn\\linear_model\\_sag.py:350: ConvergenceWarning: The max_iter was reached which means the coef_ did not converge\n",
      "  warnings.warn(\n"
     ]
    },
    {
     "name": "stdout",
     "output_type": "stream",
     "text": [
      "[CV 2/5] END l1_ratio=0.2, max_iter=10, penalty=elasticnet, solver=saga;, score=0.693 total time=   0.2s\n"
     ]
    },
    {
     "name": "stderr",
     "output_type": "stream",
     "text": [
      "c:\\Users\\Kevin\\.virtualenvs\\Code-CYgrxAwh\\lib\\site-packages\\sklearn\\linear_model\\_sag.py:350: ConvergenceWarning: The max_iter was reached which means the coef_ did not converge\n",
      "  warnings.warn(\n"
     ]
    },
    {
     "name": "stdout",
     "output_type": "stream",
     "text": [
      "[CV 3/5] END l1_ratio=0.2, max_iter=10, penalty=elasticnet, solver=saga;, score=0.692 total time=   0.3s\n"
     ]
    },
    {
     "name": "stderr",
     "output_type": "stream",
     "text": [
      "c:\\Users\\Kevin\\.virtualenvs\\Code-CYgrxAwh\\lib\\site-packages\\sklearn\\linear_model\\_sag.py:350: ConvergenceWarning: The max_iter was reached which means the coef_ did not converge\n",
      "  warnings.warn(\n"
     ]
    },
    {
     "name": "stdout",
     "output_type": "stream",
     "text": [
      "[CV 4/5] END l1_ratio=0.2, max_iter=10, penalty=elasticnet, solver=saga;, score=0.700 total time=   0.5s\n"
     ]
    },
    {
     "name": "stderr",
     "output_type": "stream",
     "text": [
      "c:\\Users\\Kevin\\.virtualenvs\\Code-CYgrxAwh\\lib\\site-packages\\sklearn\\linear_model\\_sag.py:350: ConvergenceWarning: The max_iter was reached which means the coef_ did not converge\n",
      "  warnings.warn(\n"
     ]
    },
    {
     "name": "stdout",
     "output_type": "stream",
     "text": [
      "[CV 5/5] END l1_ratio=0.2, max_iter=10, penalty=elasticnet, solver=saga;, score=0.710 total time=   0.3s\n",
      "[CV 1/5] END l1_ratio=0.2, max_iter=100, penalty=elasticnet, solver=saga;, score=0.696 total time=   0.4s\n",
      "[CV 2/5] END l1_ratio=0.2, max_iter=100, penalty=elasticnet, solver=saga;, score=0.692 total time=   0.2s\n",
      "[CV 3/5] END l1_ratio=0.2, max_iter=100, penalty=elasticnet, solver=saga;, score=0.692 total time=   0.4s\n",
      "[CV 4/5] END l1_ratio=0.2, max_iter=100, penalty=elasticnet, solver=saga;, score=0.700 total time=   0.3s\n",
      "[CV 5/5] END l1_ratio=0.2, max_iter=100, penalty=elasticnet, solver=saga;, score=0.710 total time=   0.2s\n"
     ]
    },
    {
     "name": "stderr",
     "output_type": "stream",
     "text": [
      "c:\\Users\\Kevin\\.virtualenvs\\Code-CYgrxAwh\\lib\\site-packages\\sklearn\\linear_model\\_sag.py:350: ConvergenceWarning: The max_iter was reached which means the coef_ did not converge\n",
      "  warnings.warn(\n"
     ]
    },
    {
     "name": "stdout",
     "output_type": "stream",
     "text": [
      "[CV 1/5] END l1_ratio=0.3, max_iter=10, penalty=elasticnet, solver=saga;, score=0.696 total time=   0.1s\n"
     ]
    },
    {
     "name": "stderr",
     "output_type": "stream",
     "text": [
      "c:\\Users\\Kevin\\.virtualenvs\\Code-CYgrxAwh\\lib\\site-packages\\sklearn\\linear_model\\_sag.py:350: ConvergenceWarning: The max_iter was reached which means the coef_ did not converge\n",
      "  warnings.warn(\n"
     ]
    },
    {
     "name": "stdout",
     "output_type": "stream",
     "text": [
      "[CV 2/5] END l1_ratio=0.3, max_iter=10, penalty=elasticnet, solver=saga;, score=0.692 total time=   0.2s\n"
     ]
    },
    {
     "name": "stderr",
     "output_type": "stream",
     "text": [
      "c:\\Users\\Kevin\\.virtualenvs\\Code-CYgrxAwh\\lib\\site-packages\\sklearn\\linear_model\\_sag.py:350: ConvergenceWarning: The max_iter was reached which means the coef_ did not converge\n",
      "  warnings.warn(\n"
     ]
    },
    {
     "name": "stdout",
     "output_type": "stream",
     "text": [
      "[CV 3/5] END l1_ratio=0.3, max_iter=10, penalty=elasticnet, solver=saga;, score=0.692 total time=   0.1s\n"
     ]
    },
    {
     "name": "stderr",
     "output_type": "stream",
     "text": [
      "c:\\Users\\Kevin\\.virtualenvs\\Code-CYgrxAwh\\lib\\site-packages\\sklearn\\linear_model\\_sag.py:350: ConvergenceWarning: The max_iter was reached which means the coef_ did not converge\n",
      "  warnings.warn(\n"
     ]
    },
    {
     "name": "stdout",
     "output_type": "stream",
     "text": [
      "[CV 4/5] END l1_ratio=0.3, max_iter=10, penalty=elasticnet, solver=saga;, score=0.700 total time=   0.2s\n"
     ]
    },
    {
     "name": "stderr",
     "output_type": "stream",
     "text": [
      "c:\\Users\\Kevin\\.virtualenvs\\Code-CYgrxAwh\\lib\\site-packages\\sklearn\\linear_model\\_sag.py:350: ConvergenceWarning: The max_iter was reached which means the coef_ did not converge\n",
      "  warnings.warn(\n"
     ]
    },
    {
     "name": "stdout",
     "output_type": "stream",
     "text": [
      "[CV 5/5] END l1_ratio=0.3, max_iter=10, penalty=elasticnet, solver=saga;, score=0.711 total time=   0.1s\n",
      "[CV 1/5] END l1_ratio=0.3, max_iter=100, penalty=elasticnet, solver=saga;, score=0.696 total time=   0.3s\n",
      "[CV 2/5] END l1_ratio=0.3, max_iter=100, penalty=elasticnet, solver=saga;, score=0.692 total time=   0.3s\n",
      "[CV 3/5] END l1_ratio=0.3, max_iter=100, penalty=elasticnet, solver=saga;, score=0.692 total time=   0.2s\n",
      "[CV 4/5] END l1_ratio=0.3, max_iter=100, penalty=elasticnet, solver=saga;, score=0.700 total time=   0.2s\n",
      "[CV 5/5] END l1_ratio=0.3, max_iter=100, penalty=elasticnet, solver=saga;, score=0.710 total time=   0.3s\n"
     ]
    },
    {
     "name": "stderr",
     "output_type": "stream",
     "text": [
      "c:\\Users\\Kevin\\.virtualenvs\\Code-CYgrxAwh\\lib\\site-packages\\sklearn\\linear_model\\_sag.py:350: ConvergenceWarning: The max_iter was reached which means the coef_ did not converge\n",
      "  warnings.warn(\n"
     ]
    },
    {
     "name": "stdout",
     "output_type": "stream",
     "text": [
      "[CV 1/5] END l1_ratio=0.4, max_iter=10, penalty=elasticnet, solver=saga;, score=0.696 total time=   0.3s\n"
     ]
    },
    {
     "name": "stderr",
     "output_type": "stream",
     "text": [
      "c:\\Users\\Kevin\\.virtualenvs\\Code-CYgrxAwh\\lib\\site-packages\\sklearn\\linear_model\\_sag.py:350: ConvergenceWarning: The max_iter was reached which means the coef_ did not converge\n",
      "  warnings.warn(\n"
     ]
    },
    {
     "name": "stdout",
     "output_type": "stream",
     "text": [
      "[CV 2/5] END l1_ratio=0.4, max_iter=10, penalty=elasticnet, solver=saga;, score=0.693 total time=   0.1s\n"
     ]
    },
    {
     "name": "stderr",
     "output_type": "stream",
     "text": [
      "c:\\Users\\Kevin\\.virtualenvs\\Code-CYgrxAwh\\lib\\site-packages\\sklearn\\linear_model\\_sag.py:350: ConvergenceWarning: The max_iter was reached which means the coef_ did not converge\n",
      "  warnings.warn(\n"
     ]
    },
    {
     "name": "stdout",
     "output_type": "stream",
     "text": [
      "[CV 3/5] END l1_ratio=0.4, max_iter=10, penalty=elasticnet, solver=saga;, score=0.692 total time=   0.1s\n"
     ]
    },
    {
     "name": "stderr",
     "output_type": "stream",
     "text": [
      "c:\\Users\\Kevin\\.virtualenvs\\Code-CYgrxAwh\\lib\\site-packages\\sklearn\\linear_model\\_sag.py:350: ConvergenceWarning: The max_iter was reached which means the coef_ did not converge\n",
      "  warnings.warn(\n"
     ]
    },
    {
     "name": "stdout",
     "output_type": "stream",
     "text": [
      "[CV 4/5] END l1_ratio=0.4, max_iter=10, penalty=elasticnet, solver=saga;, score=0.701 total time=   0.1s\n"
     ]
    },
    {
     "name": "stderr",
     "output_type": "stream",
     "text": [
      "c:\\Users\\Kevin\\.virtualenvs\\Code-CYgrxAwh\\lib\\site-packages\\sklearn\\linear_model\\_sag.py:350: ConvergenceWarning: The max_iter was reached which means the coef_ did not converge\n",
      "  warnings.warn(\n"
     ]
    },
    {
     "name": "stdout",
     "output_type": "stream",
     "text": [
      "[CV 5/5] END l1_ratio=0.4, max_iter=10, penalty=elasticnet, solver=saga;, score=0.710 total time=   0.2s\n",
      "[CV 1/5] END l1_ratio=0.4, max_iter=100, penalty=elasticnet, solver=saga;, score=0.696 total time=   0.2s\n",
      "[CV 2/5] END l1_ratio=0.4, max_iter=100, penalty=elasticnet, solver=saga;, score=0.692 total time=   0.2s\n",
      "[CV 3/5] END l1_ratio=0.4, max_iter=100, penalty=elasticnet, solver=saga;, score=0.692 total time=   0.2s\n",
      "[CV 4/5] END l1_ratio=0.4, max_iter=100, penalty=elasticnet, solver=saga;, score=0.700 total time=   0.3s\n",
      "[CV 5/5] END l1_ratio=0.4, max_iter=100, penalty=elasticnet, solver=saga;, score=0.710 total time=   0.2s\n"
     ]
    },
    {
     "name": "stderr",
     "output_type": "stream",
     "text": [
      "c:\\Users\\Kevin\\.virtualenvs\\Code-CYgrxAwh\\lib\\site-packages\\sklearn\\linear_model\\_sag.py:350: ConvergenceWarning: The max_iter was reached which means the coef_ did not converge\n",
      "  warnings.warn(\n"
     ]
    },
    {
     "name": "stdout",
     "output_type": "stream",
     "text": [
      "[CV 1/5] END l1_ratio=0.5, max_iter=10, penalty=elasticnet, solver=saga;, score=0.696 total time=   0.1s\n"
     ]
    },
    {
     "name": "stderr",
     "output_type": "stream",
     "text": [
      "c:\\Users\\Kevin\\.virtualenvs\\Code-CYgrxAwh\\lib\\site-packages\\sklearn\\linear_model\\_sag.py:350: ConvergenceWarning: The max_iter was reached which means the coef_ did not converge\n",
      "  warnings.warn(\n"
     ]
    },
    {
     "name": "stdout",
     "output_type": "stream",
     "text": [
      "[CV 2/5] END l1_ratio=0.5, max_iter=10, penalty=elasticnet, solver=saga;, score=0.692 total time=   0.1s\n"
     ]
    },
    {
     "name": "stderr",
     "output_type": "stream",
     "text": [
      "c:\\Users\\Kevin\\.virtualenvs\\Code-CYgrxAwh\\lib\\site-packages\\sklearn\\linear_model\\_sag.py:350: ConvergenceWarning: The max_iter was reached which means the coef_ did not converge\n",
      "  warnings.warn(\n",
      "c:\\Users\\Kevin\\.virtualenvs\\Code-CYgrxAwh\\lib\\site-packages\\sklearn\\linear_model\\_sag.py:350: ConvergenceWarning: The max_iter was reached which means the coef_ did not converge\n",
      "  warnings.warn(\n"
     ]
    },
    {
     "name": "stdout",
     "output_type": "stream",
     "text": [
      "[CV 3/5] END l1_ratio=0.5, max_iter=10, penalty=elasticnet, solver=saga;, score=0.692 total time=   0.1s\n",
      "[CV 4/5] END l1_ratio=0.5, max_iter=10, penalty=elasticnet, solver=saga;, score=0.700 total time=   0.1s\n"
     ]
    },
    {
     "name": "stderr",
     "output_type": "stream",
     "text": [
      "c:\\Users\\Kevin\\.virtualenvs\\Code-CYgrxAwh\\lib\\site-packages\\sklearn\\linear_model\\_sag.py:350: ConvergenceWarning: The max_iter was reached which means the coef_ did not converge\n",
      "  warnings.warn(\n"
     ]
    },
    {
     "name": "stdout",
     "output_type": "stream",
     "text": [
      "[CV 5/5] END l1_ratio=0.5, max_iter=10, penalty=elasticnet, solver=saga;, score=0.710 total time=   0.2s\n",
      "[CV 1/5] END l1_ratio=0.5, max_iter=100, penalty=elasticnet, solver=saga;, score=0.696 total time=   0.2s\n",
      "[CV 2/5] END l1_ratio=0.5, max_iter=100, penalty=elasticnet, solver=saga;, score=0.692 total time=   0.3s\n",
      "[CV 3/5] END l1_ratio=0.5, max_iter=100, penalty=elasticnet, solver=saga;, score=0.692 total time=   0.2s\n",
      "[CV 4/5] END l1_ratio=0.5, max_iter=100, penalty=elasticnet, solver=saga;, score=0.700 total time=   0.2s\n",
      "[CV 5/5] END l1_ratio=0.5, max_iter=100, penalty=elasticnet, solver=saga;, score=0.710 total time=   0.3s\n"
     ]
    },
    {
     "name": "stderr",
     "output_type": "stream",
     "text": [
      "c:\\Users\\Kevin\\.virtualenvs\\Code-CYgrxAwh\\lib\\site-packages\\sklearn\\linear_model\\_sag.py:350: ConvergenceWarning: The max_iter was reached which means the coef_ did not converge\n",
      "  warnings.warn(\n"
     ]
    },
    {
     "name": "stdout",
     "output_type": "stream",
     "text": [
      "[CV 1/5] END l1_ratio=0.6, max_iter=10, penalty=elasticnet, solver=saga;, score=0.696 total time=   0.2s\n"
     ]
    },
    {
     "name": "stderr",
     "output_type": "stream",
     "text": [
      "c:\\Users\\Kevin\\.virtualenvs\\Code-CYgrxAwh\\lib\\site-packages\\sklearn\\linear_model\\_sag.py:350: ConvergenceWarning: The max_iter was reached which means the coef_ did not converge\n",
      "  warnings.warn(\n"
     ]
    },
    {
     "name": "stdout",
     "output_type": "stream",
     "text": [
      "[CV 2/5] END l1_ratio=0.6, max_iter=10, penalty=elasticnet, solver=saga;, score=0.692 total time=   0.2s\n"
     ]
    },
    {
     "name": "stderr",
     "output_type": "stream",
     "text": [
      "c:\\Users\\Kevin\\.virtualenvs\\Code-CYgrxAwh\\lib\\site-packages\\sklearn\\linear_model\\_sag.py:350: ConvergenceWarning: The max_iter was reached which means the coef_ did not converge\n",
      "  warnings.warn(\n"
     ]
    },
    {
     "name": "stdout",
     "output_type": "stream",
     "text": [
      "[CV 3/5] END l1_ratio=0.6, max_iter=10, penalty=elasticnet, solver=saga;, score=0.692 total time=   0.3s\n"
     ]
    },
    {
     "name": "stderr",
     "output_type": "stream",
     "text": [
      "c:\\Users\\Kevin\\.virtualenvs\\Code-CYgrxAwh\\lib\\site-packages\\sklearn\\linear_model\\_sag.py:350: ConvergenceWarning: The max_iter was reached which means the coef_ did not converge\n",
      "  warnings.warn(\n"
     ]
    },
    {
     "name": "stdout",
     "output_type": "stream",
     "text": [
      "[CV 4/5] END l1_ratio=0.6, max_iter=10, penalty=elasticnet, solver=saga;, score=0.700 total time=   0.2s\n"
     ]
    },
    {
     "name": "stderr",
     "output_type": "stream",
     "text": [
      "c:\\Users\\Kevin\\.virtualenvs\\Code-CYgrxAwh\\lib\\site-packages\\sklearn\\linear_model\\_sag.py:350: ConvergenceWarning: The max_iter was reached which means the coef_ did not converge\n",
      "  warnings.warn(\n"
     ]
    },
    {
     "name": "stdout",
     "output_type": "stream",
     "text": [
      "[CV 5/5] END l1_ratio=0.6, max_iter=10, penalty=elasticnet, solver=saga;, score=0.710 total time=   0.2s\n",
      "[CV 1/5] END l1_ratio=0.6, max_iter=100, penalty=elasticnet, solver=saga;, score=0.696 total time=   0.3s\n",
      "[CV 2/5] END l1_ratio=0.6, max_iter=100, penalty=elasticnet, solver=saga;, score=0.692 total time=   0.3s\n",
      "[CV 3/5] END l1_ratio=0.6, max_iter=100, penalty=elasticnet, solver=saga;, score=0.692 total time=   0.3s\n",
      "[CV 4/5] END l1_ratio=0.6, max_iter=100, penalty=elasticnet, solver=saga;, score=0.700 total time=   0.3s\n",
      "[CV 5/5] END l1_ratio=0.6, max_iter=100, penalty=elasticnet, solver=saga;, score=0.710 total time=   0.3s\n"
     ]
    },
    {
     "name": "stderr",
     "output_type": "stream",
     "text": [
      "c:\\Users\\Kevin\\.virtualenvs\\Code-CYgrxAwh\\lib\\site-packages\\sklearn\\linear_model\\_sag.py:350: ConvergenceWarning: The max_iter was reached which means the coef_ did not converge\n",
      "  warnings.warn(\n"
     ]
    },
    {
     "name": "stdout",
     "output_type": "stream",
     "text": [
      "[CV 1/5] END l1_ratio=0.7, max_iter=10, penalty=elasticnet, solver=saga;, score=0.696 total time=   0.2s\n"
     ]
    },
    {
     "name": "stderr",
     "output_type": "stream",
     "text": [
      "c:\\Users\\Kevin\\.virtualenvs\\Code-CYgrxAwh\\lib\\site-packages\\sklearn\\linear_model\\_sag.py:350: ConvergenceWarning: The max_iter was reached which means the coef_ did not converge\n",
      "  warnings.warn(\n"
     ]
    },
    {
     "name": "stdout",
     "output_type": "stream",
     "text": [
      "[CV 2/5] END l1_ratio=0.7, max_iter=10, penalty=elasticnet, solver=saga;, score=0.693 total time=   0.3s\n"
     ]
    },
    {
     "name": "stderr",
     "output_type": "stream",
     "text": [
      "c:\\Users\\Kevin\\.virtualenvs\\Code-CYgrxAwh\\lib\\site-packages\\sklearn\\linear_model\\_sag.py:350: ConvergenceWarning: The max_iter was reached which means the coef_ did not converge\n",
      "  warnings.warn(\n"
     ]
    },
    {
     "name": "stdout",
     "output_type": "stream",
     "text": [
      "[CV 3/5] END l1_ratio=0.7, max_iter=10, penalty=elasticnet, solver=saga;, score=0.692 total time=   0.2s\n"
     ]
    },
    {
     "name": "stderr",
     "output_type": "stream",
     "text": [
      "c:\\Users\\Kevin\\.virtualenvs\\Code-CYgrxAwh\\lib\\site-packages\\sklearn\\linear_model\\_sag.py:350: ConvergenceWarning: The max_iter was reached which means the coef_ did not converge\n",
      "  warnings.warn(\n"
     ]
    },
    {
     "name": "stdout",
     "output_type": "stream",
     "text": [
      "[CV 4/5] END l1_ratio=0.7, max_iter=10, penalty=elasticnet, solver=saga;, score=0.700 total time=   0.2s\n"
     ]
    },
    {
     "name": "stderr",
     "output_type": "stream",
     "text": [
      "c:\\Users\\Kevin\\.virtualenvs\\Code-CYgrxAwh\\lib\\site-packages\\sklearn\\linear_model\\_sag.py:350: ConvergenceWarning: The max_iter was reached which means the coef_ did not converge\n",
      "  warnings.warn(\n"
     ]
    },
    {
     "name": "stdout",
     "output_type": "stream",
     "text": [
      "[CV 5/5] END l1_ratio=0.7, max_iter=10, penalty=elasticnet, solver=saga;, score=0.710 total time=   0.2s\n",
      "[CV 1/5] END l1_ratio=0.7, max_iter=100, penalty=elasticnet, solver=saga;, score=0.696 total time=   0.3s\n",
      "[CV 2/5] END l1_ratio=0.7, max_iter=100, penalty=elasticnet, solver=saga;, score=0.692 total time=   0.5s\n",
      "[CV 3/5] END l1_ratio=0.7, max_iter=100, penalty=elasticnet, solver=saga;, score=0.692 total time=   0.4s\n",
      "[CV 4/5] END l1_ratio=0.7, max_iter=100, penalty=elasticnet, solver=saga;, score=0.700 total time=   0.3s\n",
      "[CV 5/5] END l1_ratio=0.7, max_iter=100, penalty=elasticnet, solver=saga;, score=0.710 total time=   0.5s\n"
     ]
    },
    {
     "name": "stderr",
     "output_type": "stream",
     "text": [
      "c:\\Users\\Kevin\\.virtualenvs\\Code-CYgrxAwh\\lib\\site-packages\\sklearn\\linear_model\\_sag.py:350: ConvergenceWarning: The max_iter was reached which means the coef_ did not converge\n",
      "  warnings.warn(\n",
      "c:\\Users\\Kevin\\.virtualenvs\\Code-CYgrxAwh\\lib\\site-packages\\sklearn\\linear_model\\_sag.py:350: ConvergenceWarning: The max_iter was reached which means the coef_ did not converge\n",
      "  warnings.warn(\n"
     ]
    },
    {
     "name": "stdout",
     "output_type": "stream",
     "text": [
      "[CV 1/5] END l1_ratio=0.8, max_iter=10, penalty=elasticnet, solver=saga;, score=0.696 total time=   0.2s\n",
      "[CV 2/5] END l1_ratio=0.8, max_iter=10, penalty=elasticnet, solver=saga;, score=0.692 total time=   0.1s\n"
     ]
    },
    {
     "name": "stderr",
     "output_type": "stream",
     "text": [
      "c:\\Users\\Kevin\\.virtualenvs\\Code-CYgrxAwh\\lib\\site-packages\\sklearn\\linear_model\\_sag.py:350: ConvergenceWarning: The max_iter was reached which means the coef_ did not converge\n",
      "  warnings.warn(\n"
     ]
    },
    {
     "name": "stdout",
     "output_type": "stream",
     "text": [
      "[CV 3/5] END l1_ratio=0.8, max_iter=10, penalty=elasticnet, solver=saga;, score=0.692 total time=   0.1s\n"
     ]
    },
    {
     "name": "stderr",
     "output_type": "stream",
     "text": [
      "c:\\Users\\Kevin\\.virtualenvs\\Code-CYgrxAwh\\lib\\site-packages\\sklearn\\linear_model\\_sag.py:350: ConvergenceWarning: The max_iter was reached which means the coef_ did not converge\n",
      "  warnings.warn(\n",
      "c:\\Users\\Kevin\\.virtualenvs\\Code-CYgrxAwh\\lib\\site-packages\\sklearn\\linear_model\\_sag.py:350: ConvergenceWarning: The max_iter was reached which means the coef_ did not converge\n",
      "  warnings.warn(\n"
     ]
    },
    {
     "name": "stdout",
     "output_type": "stream",
     "text": [
      "[CV 4/5] END l1_ratio=0.8, max_iter=10, penalty=elasticnet, solver=saga;, score=0.701 total time=   0.1s\n",
      "[CV 5/5] END l1_ratio=0.8, max_iter=10, penalty=elasticnet, solver=saga;, score=0.710 total time=   0.1s\n",
      "[CV 1/5] END l1_ratio=0.8, max_iter=100, penalty=elasticnet, solver=saga;, score=0.696 total time=   0.2s\n",
      "[CV 2/5] END l1_ratio=0.8, max_iter=100, penalty=elasticnet, solver=saga;, score=0.692 total time=   0.2s\n",
      "[CV 3/5] END l1_ratio=0.8, max_iter=100, penalty=elasticnet, solver=saga;, score=0.692 total time=   0.2s\n",
      "[CV 4/5] END l1_ratio=0.8, max_iter=100, penalty=elasticnet, solver=saga;, score=0.700 total time=   0.2s\n",
      "[CV 5/5] END l1_ratio=0.8, max_iter=100, penalty=elasticnet, solver=saga;, score=0.710 total time=   0.2s\n"
     ]
    },
    {
     "name": "stderr",
     "output_type": "stream",
     "text": [
      "c:\\Users\\Kevin\\.virtualenvs\\Code-CYgrxAwh\\lib\\site-packages\\sklearn\\linear_model\\_sag.py:350: ConvergenceWarning: The max_iter was reached which means the coef_ did not converge\n",
      "  warnings.warn(\n",
      "c:\\Users\\Kevin\\.virtualenvs\\Code-CYgrxAwh\\lib\\site-packages\\sklearn\\linear_model\\_sag.py:350: ConvergenceWarning: The max_iter was reached which means the coef_ did not converge\n",
      "  warnings.warn(\n"
     ]
    },
    {
     "name": "stdout",
     "output_type": "stream",
     "text": [
      "[CV 1/5] END l1_ratio=0.9, max_iter=10, penalty=elasticnet, solver=saga;, score=0.696 total time=   0.1s\n",
      "[CV 2/5] END l1_ratio=0.9, max_iter=10, penalty=elasticnet, solver=saga;, score=0.693 total time=   0.1s\n"
     ]
    },
    {
     "name": "stderr",
     "output_type": "stream",
     "text": [
      "c:\\Users\\Kevin\\.virtualenvs\\Code-CYgrxAwh\\lib\\site-packages\\sklearn\\linear_model\\_sag.py:350: ConvergenceWarning: The max_iter was reached which means the coef_ did not converge\n",
      "  warnings.warn(\n",
      "c:\\Users\\Kevin\\.virtualenvs\\Code-CYgrxAwh\\lib\\site-packages\\sklearn\\linear_model\\_sag.py:350: ConvergenceWarning: The max_iter was reached which means the coef_ did not converge\n",
      "  warnings.warn(\n"
     ]
    },
    {
     "name": "stdout",
     "output_type": "stream",
     "text": [
      "[CV 3/5] END l1_ratio=0.9, max_iter=10, penalty=elasticnet, solver=saga;, score=0.692 total time=   0.2s\n",
      "[CV 4/5] END l1_ratio=0.9, max_iter=10, penalty=elasticnet, solver=saga;, score=0.700 total time=   0.1s\n"
     ]
    },
    {
     "name": "stderr",
     "output_type": "stream",
     "text": [
      "c:\\Users\\Kevin\\.virtualenvs\\Code-CYgrxAwh\\lib\\site-packages\\sklearn\\linear_model\\_sag.py:350: ConvergenceWarning: The max_iter was reached which means the coef_ did not converge\n",
      "  warnings.warn(\n"
     ]
    },
    {
     "name": "stdout",
     "output_type": "stream",
     "text": [
      "[CV 5/5] END l1_ratio=0.9, max_iter=10, penalty=elasticnet, solver=saga;, score=0.710 total time=   0.1s\n",
      "[CV 1/5] END l1_ratio=0.9, max_iter=100, penalty=elasticnet, solver=saga;, score=0.696 total time=   0.2s\n",
      "[CV 2/5] END l1_ratio=0.9, max_iter=100, penalty=elasticnet, solver=saga;, score=0.692 total time=   0.3s\n",
      "[CV 3/5] END l1_ratio=0.9, max_iter=100, penalty=elasticnet, solver=saga;, score=0.692 total time=   0.2s\n",
      "[CV 4/5] END l1_ratio=0.9, max_iter=100, penalty=elasticnet, solver=saga;, score=0.700 total time=   0.2s\n",
      "[CV 5/5] END l1_ratio=0.9, max_iter=100, penalty=elasticnet, solver=saga;, score=0.710 total time=   0.3s\n"
     ]
    },
    {
     "name": "stderr",
     "output_type": "stream",
     "text": [
      "c:\\Users\\Kevin\\.virtualenvs\\Code-CYgrxAwh\\lib\\site-packages\\sklearn\\linear_model\\_sag.py:350: ConvergenceWarning: The max_iter was reached which means the coef_ did not converge\n",
      "  warnings.warn(\n"
     ]
    },
    {
     "name": "stdout",
     "output_type": "stream",
     "text": [
      "[CV 1/5] END l1_ratio=1.0, max_iter=10, penalty=elasticnet, solver=saga;, score=0.696 total time=   0.2s\n"
     ]
    },
    {
     "name": "stderr",
     "output_type": "stream",
     "text": [
      "c:\\Users\\Kevin\\.virtualenvs\\Code-CYgrxAwh\\lib\\site-packages\\sklearn\\linear_model\\_sag.py:350: ConvergenceWarning: The max_iter was reached which means the coef_ did not converge\n",
      "  warnings.warn(\n"
     ]
    },
    {
     "name": "stdout",
     "output_type": "stream",
     "text": [
      "[CV 2/5] END l1_ratio=1.0, max_iter=10, penalty=elasticnet, solver=saga;, score=0.693 total time=   0.1s\n"
     ]
    },
    {
     "name": "stderr",
     "output_type": "stream",
     "text": [
      "c:\\Users\\Kevin\\.virtualenvs\\Code-CYgrxAwh\\lib\\site-packages\\sklearn\\linear_model\\_sag.py:350: ConvergenceWarning: The max_iter was reached which means the coef_ did not converge\n",
      "  warnings.warn(\n"
     ]
    },
    {
     "name": "stdout",
     "output_type": "stream",
     "text": [
      "[CV 3/5] END l1_ratio=1.0, max_iter=10, penalty=elasticnet, solver=saga;, score=0.692 total time=   0.1s\n"
     ]
    },
    {
     "name": "stderr",
     "output_type": "stream",
     "text": [
      "c:\\Users\\Kevin\\.virtualenvs\\Code-CYgrxAwh\\lib\\site-packages\\sklearn\\linear_model\\_sag.py:350: ConvergenceWarning: The max_iter was reached which means the coef_ did not converge\n",
      "  warnings.warn(\n"
     ]
    },
    {
     "name": "stdout",
     "output_type": "stream",
     "text": [
      "[CV 4/5] END l1_ratio=1.0, max_iter=10, penalty=elasticnet, solver=saga;, score=0.700 total time=   0.1s\n"
     ]
    },
    {
     "name": "stderr",
     "output_type": "stream",
     "text": [
      "c:\\Users\\Kevin\\.virtualenvs\\Code-CYgrxAwh\\lib\\site-packages\\sklearn\\linear_model\\_sag.py:350: ConvergenceWarning: The max_iter was reached which means the coef_ did not converge\n",
      "  warnings.warn(\n"
     ]
    },
    {
     "name": "stdout",
     "output_type": "stream",
     "text": [
      "[CV 5/5] END l1_ratio=1.0, max_iter=10, penalty=elasticnet, solver=saga;, score=0.710 total time=   0.1s\n",
      "[CV 1/5] END l1_ratio=1.0, max_iter=100, penalty=elasticnet, solver=saga;, score=0.696 total time=   0.3s\n",
      "[CV 2/5] END l1_ratio=1.0, max_iter=100, penalty=elasticnet, solver=saga;, score=0.692 total time=   0.2s\n",
      "[CV 3/5] END l1_ratio=1.0, max_iter=100, penalty=elasticnet, solver=saga;, score=0.692 total time=   0.2s\n",
      "[CV 4/5] END l1_ratio=1.0, max_iter=100, penalty=elasticnet, solver=saga;, score=0.700 total time=   0.2s\n",
      "[CV 5/5] END l1_ratio=1.0, max_iter=100, penalty=elasticnet, solver=saga;, score=0.710 total time=   0.2s\n"
     ]
    },
    {
     "name": "stderr",
     "output_type": "stream",
     "text": [
      "c:\\Users\\Kevin\\.virtualenvs\\Code-CYgrxAwh\\lib\\site-packages\\sklearn\\linear_model\\_sag.py:350: ConvergenceWarning: The max_iter was reached which means the coef_ did not converge\n",
      "  warnings.warn(\n",
      "c:\\Users\\Kevin\\.virtualenvs\\Code-CYgrxAwh\\lib\\site-packages\\sklearn\\linear_model\\_sag.py:350: ConvergenceWarning: The max_iter was reached which means the coef_ did not converge\n",
      "  warnings.warn(\n"
     ]
    },
    {
     "name": "stdout",
     "output_type": "stream",
     "text": [
      "Fitting 5 folds for each of 22 candidates, totalling 110 fits\n",
      "[CV 1/5] END l1_ratio=0.0, max_iter=10, penalty=elasticnet, solver=saga;, score=0.730 total time=   0.0s\n"
     ]
    },
    {
     "name": "stderr",
     "output_type": "stream",
     "text": [
      "c:\\Users\\Kevin\\.virtualenvs\\Code-CYgrxAwh\\lib\\site-packages\\sklearn\\linear_model\\_sag.py:350: ConvergenceWarning: The max_iter was reached which means the coef_ did not converge\n",
      "  warnings.warn(\n",
      "c:\\Users\\Kevin\\.virtualenvs\\Code-CYgrxAwh\\lib\\site-packages\\sklearn\\linear_model\\_sag.py:350: ConvergenceWarning: The max_iter was reached which means the coef_ did not converge\n",
      "  warnings.warn(\n"
     ]
    },
    {
     "name": "stdout",
     "output_type": "stream",
     "text": [
      "[CV 2/5] END l1_ratio=0.0, max_iter=10, penalty=elasticnet, solver=saga;, score=0.719 total time=   0.0s\n",
      "[CV 3/5] END l1_ratio=0.0, max_iter=10, penalty=elasticnet, solver=saga;, score=0.719 total time=   0.0s\n"
     ]
    },
    {
     "name": "stderr",
     "output_type": "stream",
     "text": [
      "c:\\Users\\Kevin\\.virtualenvs\\Code-CYgrxAwh\\lib\\site-packages\\sklearn\\linear_model\\_sag.py:350: ConvergenceWarning: The max_iter was reached which means the coef_ did not converge\n",
      "  warnings.warn(\n",
      "c:\\Users\\Kevin\\.virtualenvs\\Code-CYgrxAwh\\lib\\site-packages\\sklearn\\linear_model\\_sag.py:350: ConvergenceWarning: The max_iter was reached which means the coef_ did not converge\n",
      "  warnings.warn(\n"
     ]
    },
    {
     "name": "stdout",
     "output_type": "stream",
     "text": [
      "[CV 4/5] END l1_ratio=0.0, max_iter=10, penalty=elasticnet, solver=saga;, score=0.729 total time=   0.1s\n",
      "[CV 5/5] END l1_ratio=0.0, max_iter=10, penalty=elasticnet, solver=saga;, score=0.728 total time=   0.0s\n",
      "[CV 1/5] END l1_ratio=0.0, max_iter=100, penalty=elasticnet, solver=saga;, score=0.730 total time=   0.1s\n",
      "[CV 2/5] END l1_ratio=0.0, max_iter=100, penalty=elasticnet, solver=saga;, score=0.719 total time=   0.1s\n",
      "[CV 3/5] END l1_ratio=0.0, max_iter=100, penalty=elasticnet, solver=saga;, score=0.719 total time=   0.1s\n",
      "[CV 4/5] END l1_ratio=0.0, max_iter=100, penalty=elasticnet, solver=saga;, score=0.729 total time=   0.1s\n",
      "[CV 5/5] END l1_ratio=0.0, max_iter=100, penalty=elasticnet, solver=saga;, score=0.728 total time=   0.1s\n",
      "[CV 1/5] END l1_ratio=0.1, max_iter=10, penalty=elasticnet, solver=saga;, score=0.730 total time=   0.0s\n"
     ]
    },
    {
     "name": "stderr",
     "output_type": "stream",
     "text": [
      "c:\\Users\\Kevin\\.virtualenvs\\Code-CYgrxAwh\\lib\\site-packages\\sklearn\\linear_model\\_sag.py:350: ConvergenceWarning: The max_iter was reached which means the coef_ did not converge\n",
      "  warnings.warn(\n",
      "c:\\Users\\Kevin\\.virtualenvs\\Code-CYgrxAwh\\lib\\site-packages\\sklearn\\linear_model\\_sag.py:350: ConvergenceWarning: The max_iter was reached which means the coef_ did not converge\n",
      "  warnings.warn(\n"
     ]
    },
    {
     "name": "stdout",
     "output_type": "stream",
     "text": [
      "[CV 2/5] END l1_ratio=0.1, max_iter=10, penalty=elasticnet, solver=saga;, score=0.719 total time=   0.0s\n",
      "[CV 3/5] END l1_ratio=0.1, max_iter=10, penalty=elasticnet, solver=saga;, score=0.719 total time=   0.1s\n"
     ]
    },
    {
     "name": "stderr",
     "output_type": "stream",
     "text": [
      "c:\\Users\\Kevin\\.virtualenvs\\Code-CYgrxAwh\\lib\\site-packages\\sklearn\\linear_model\\_sag.py:350: ConvergenceWarning: The max_iter was reached which means the coef_ did not converge\n",
      "  warnings.warn(\n",
      "c:\\Users\\Kevin\\.virtualenvs\\Code-CYgrxAwh\\lib\\site-packages\\sklearn\\linear_model\\_sag.py:350: ConvergenceWarning: The max_iter was reached which means the coef_ did not converge\n",
      "  warnings.warn(\n"
     ]
    },
    {
     "name": "stdout",
     "output_type": "stream",
     "text": [
      "[CV 4/5] END l1_ratio=0.1, max_iter=10, penalty=elasticnet, solver=saga;, score=0.728 total time=   0.0s\n",
      "[CV 5/5] END l1_ratio=0.1, max_iter=10, penalty=elasticnet, solver=saga;, score=0.728 total time=   0.0s\n"
     ]
    },
    {
     "name": "stderr",
     "output_type": "stream",
     "text": [
      "c:\\Users\\Kevin\\.virtualenvs\\Code-CYgrxAwh\\lib\\site-packages\\sklearn\\linear_model\\_sag.py:350: ConvergenceWarning: The max_iter was reached which means the coef_ did not converge\n",
      "  warnings.warn(\n"
     ]
    },
    {
     "name": "stdout",
     "output_type": "stream",
     "text": [
      "[CV 1/5] END l1_ratio=0.1, max_iter=100, penalty=elasticnet, solver=saga;, score=0.730 total time=   0.1s\n",
      "[CV 2/5] END l1_ratio=0.1, max_iter=100, penalty=elasticnet, solver=saga;, score=0.719 total time=   0.1s\n",
      "[CV 3/5] END l1_ratio=0.1, max_iter=100, penalty=elasticnet, solver=saga;, score=0.719 total time=   0.1s\n",
      "[CV 4/5] END l1_ratio=0.1, max_iter=100, penalty=elasticnet, solver=saga;, score=0.728 total time=   0.1s\n",
      "[CV 5/5] END l1_ratio=0.1, max_iter=100, penalty=elasticnet, solver=saga;, score=0.728 total time=   0.1s\n"
     ]
    },
    {
     "name": "stderr",
     "output_type": "stream",
     "text": [
      "c:\\Users\\Kevin\\.virtualenvs\\Code-CYgrxAwh\\lib\\site-packages\\sklearn\\linear_model\\_sag.py:350: ConvergenceWarning: The max_iter was reached which means the coef_ did not converge\n",
      "  warnings.warn(\n",
      "c:\\Users\\Kevin\\.virtualenvs\\Code-CYgrxAwh\\lib\\site-packages\\sklearn\\linear_model\\_sag.py:350: ConvergenceWarning: The max_iter was reached which means the coef_ did not converge\n",
      "  warnings.warn(\n"
     ]
    },
    {
     "name": "stdout",
     "output_type": "stream",
     "text": [
      "[CV 1/5] END l1_ratio=0.2, max_iter=10, penalty=elasticnet, solver=saga;, score=0.730 total time=   0.0s\n",
      "[CV 2/5] END l1_ratio=0.2, max_iter=10, penalty=elasticnet, solver=saga;, score=0.720 total time=   0.1s\n"
     ]
    },
    {
     "name": "stderr",
     "output_type": "stream",
     "text": [
      "c:\\Users\\Kevin\\.virtualenvs\\Code-CYgrxAwh\\lib\\site-packages\\sklearn\\linear_model\\_sag.py:350: ConvergenceWarning: The max_iter was reached which means the coef_ did not converge\n",
      "  warnings.warn(\n",
      "c:\\Users\\Kevin\\.virtualenvs\\Code-CYgrxAwh\\lib\\site-packages\\sklearn\\linear_model\\_sag.py:350: ConvergenceWarning: The max_iter was reached which means the coef_ did not converge\n",
      "  warnings.warn(\n"
     ]
    },
    {
     "name": "stdout",
     "output_type": "stream",
     "text": [
      "[CV 3/5] END l1_ratio=0.2, max_iter=10, penalty=elasticnet, solver=saga;, score=0.719 total time=   0.0s\n",
      "[CV 4/5] END l1_ratio=0.2, max_iter=10, penalty=elasticnet, solver=saga;, score=0.728 total time=   0.0s\n"
     ]
    },
    {
     "name": "stderr",
     "output_type": "stream",
     "text": [
      "c:\\Users\\Kevin\\.virtualenvs\\Code-CYgrxAwh\\lib\\site-packages\\sklearn\\linear_model\\_sag.py:350: ConvergenceWarning: The max_iter was reached which means the coef_ did not converge\n",
      "  warnings.warn(\n"
     ]
    },
    {
     "name": "stdout",
     "output_type": "stream",
     "text": [
      "[CV 5/5] END l1_ratio=0.2, max_iter=10, penalty=elasticnet, solver=saga;, score=0.728 total time=   0.1s\n",
      "[CV 1/5] END l1_ratio=0.2, max_iter=100, penalty=elasticnet, solver=saga;, score=0.730 total time=   0.1s\n",
      "[CV 2/5] END l1_ratio=0.2, max_iter=100, penalty=elasticnet, solver=saga;, score=0.720 total time=   0.2s\n",
      "[CV 3/5] END l1_ratio=0.2, max_iter=100, penalty=elasticnet, solver=saga;, score=0.719 total time=   0.1s\n",
      "[CV 4/5] END l1_ratio=0.2, max_iter=100, penalty=elasticnet, solver=saga;, score=0.728 total time=   0.1s\n",
      "[CV 5/5] END l1_ratio=0.2, max_iter=100, penalty=elasticnet, solver=saga;, score=0.728 total time=   0.1s\n",
      "[CV 1/5] END l1_ratio=0.3, max_iter=10, penalty=elasticnet, solver=saga;, score=0.730 total time=   0.0s\n"
     ]
    },
    {
     "name": "stderr",
     "output_type": "stream",
     "text": [
      "c:\\Users\\Kevin\\.virtualenvs\\Code-CYgrxAwh\\lib\\site-packages\\sklearn\\linear_model\\_sag.py:350: ConvergenceWarning: The max_iter was reached which means the coef_ did not converge\n",
      "  warnings.warn(\n",
      "c:\\Users\\Kevin\\.virtualenvs\\Code-CYgrxAwh\\lib\\site-packages\\sklearn\\linear_model\\_sag.py:350: ConvergenceWarning: The max_iter was reached which means the coef_ did not converge\n",
      "  warnings.warn(\n"
     ]
    },
    {
     "name": "stdout",
     "output_type": "stream",
     "text": [
      "[CV 2/5] END l1_ratio=0.3, max_iter=10, penalty=elasticnet, solver=saga;, score=0.720 total time=   0.1s\n"
     ]
    },
    {
     "name": "stderr",
     "output_type": "stream",
     "text": [
      "c:\\Users\\Kevin\\.virtualenvs\\Code-CYgrxAwh\\lib\\site-packages\\sklearn\\linear_model\\_sag.py:350: ConvergenceWarning: The max_iter was reached which means the coef_ did not converge\n",
      "  warnings.warn(\n",
      "c:\\Users\\Kevin\\.virtualenvs\\Code-CYgrxAwh\\lib\\site-packages\\sklearn\\linear_model\\_sag.py:350: ConvergenceWarning: The max_iter was reached which means the coef_ did not converge\n",
      "  warnings.warn(\n"
     ]
    },
    {
     "name": "stdout",
     "output_type": "stream",
     "text": [
      "[CV 3/5] END l1_ratio=0.3, max_iter=10, penalty=elasticnet, solver=saga;, score=0.719 total time=   0.1s\n",
      "[CV 4/5] END l1_ratio=0.3, max_iter=10, penalty=elasticnet, solver=saga;, score=0.729 total time=   0.1s\n"
     ]
    },
    {
     "name": "stderr",
     "output_type": "stream",
     "text": [
      "c:\\Users\\Kevin\\.virtualenvs\\Code-CYgrxAwh\\lib\\site-packages\\sklearn\\linear_model\\_sag.py:350: ConvergenceWarning: The max_iter was reached which means the coef_ did not converge\n",
      "  warnings.warn(\n"
     ]
    },
    {
     "name": "stdout",
     "output_type": "stream",
     "text": [
      "[CV 5/5] END l1_ratio=0.3, max_iter=10, penalty=elasticnet, solver=saga;, score=0.728 total time=   0.1s\n",
      "[CV 1/5] END l1_ratio=0.3, max_iter=100, penalty=elasticnet, solver=saga;, score=0.730 total time=   0.1s\n",
      "[CV 2/5] END l1_ratio=0.3, max_iter=100, penalty=elasticnet, solver=saga;, score=0.719 total time=   0.1s\n",
      "[CV 3/5] END l1_ratio=0.3, max_iter=100, penalty=elasticnet, solver=saga;, score=0.719 total time=   0.2s\n",
      "[CV 4/5] END l1_ratio=0.3, max_iter=100, penalty=elasticnet, solver=saga;, score=0.728 total time=   0.2s\n",
      "[CV 5/5] END l1_ratio=0.3, max_iter=100, penalty=elasticnet, solver=saga;, score=0.728 total time=   0.1s\n",
      "[CV 1/5] END l1_ratio=0.4, max_iter=10, penalty=elasticnet, solver=saga;, score=0.730 total time=   0.0s\n"
     ]
    },
    {
     "name": "stderr",
     "output_type": "stream",
     "text": [
      "c:\\Users\\Kevin\\.virtualenvs\\Code-CYgrxAwh\\lib\\site-packages\\sklearn\\linear_model\\_sag.py:350: ConvergenceWarning: The max_iter was reached which means the coef_ did not converge\n",
      "  warnings.warn(\n",
      "c:\\Users\\Kevin\\.virtualenvs\\Code-CYgrxAwh\\lib\\site-packages\\sklearn\\linear_model\\_sag.py:350: ConvergenceWarning: The max_iter was reached which means the coef_ did not converge\n",
      "  warnings.warn(\n"
     ]
    },
    {
     "name": "stdout",
     "output_type": "stream",
     "text": [
      "[CV 2/5] END l1_ratio=0.4, max_iter=10, penalty=elasticnet, solver=saga;, score=0.719 total time=   0.1s\n"
     ]
    },
    {
     "name": "stderr",
     "output_type": "stream",
     "text": [
      "c:\\Users\\Kevin\\.virtualenvs\\Code-CYgrxAwh\\lib\\site-packages\\sklearn\\linear_model\\_sag.py:350: ConvergenceWarning: The max_iter was reached which means the coef_ did not converge\n",
      "  warnings.warn(\n",
      "c:\\Users\\Kevin\\.virtualenvs\\Code-CYgrxAwh\\lib\\site-packages\\sklearn\\linear_model\\_sag.py:350: ConvergenceWarning: The max_iter was reached which means the coef_ did not converge\n",
      "  warnings.warn(\n"
     ]
    },
    {
     "name": "stdout",
     "output_type": "stream",
     "text": [
      "[CV 3/5] END l1_ratio=0.4, max_iter=10, penalty=elasticnet, solver=saga;, score=0.719 total time=   0.1s\n",
      "[CV 4/5] END l1_ratio=0.4, max_iter=10, penalty=elasticnet, solver=saga;, score=0.729 total time=   0.1s\n"
     ]
    },
    {
     "name": "stderr",
     "output_type": "stream",
     "text": [
      "c:\\Users\\Kevin\\.virtualenvs\\Code-CYgrxAwh\\lib\\site-packages\\sklearn\\linear_model\\_sag.py:350: ConvergenceWarning: The max_iter was reached which means the coef_ did not converge\n",
      "  warnings.warn(\n"
     ]
    },
    {
     "name": "stdout",
     "output_type": "stream",
     "text": [
      "[CV 5/5] END l1_ratio=0.4, max_iter=10, penalty=elasticnet, solver=saga;, score=0.728 total time=   0.1s\n",
      "[CV 1/5] END l1_ratio=0.4, max_iter=100, penalty=elasticnet, solver=saga;, score=0.730 total time=   0.3s\n",
      "[CV 2/5] END l1_ratio=0.4, max_iter=100, penalty=elasticnet, solver=saga;, score=0.719 total time=   0.3s\n",
      "[CV 3/5] END l1_ratio=0.4, max_iter=100, penalty=elasticnet, solver=saga;, score=0.719 total time=   0.1s\n",
      "[CV 4/5] END l1_ratio=0.4, max_iter=100, penalty=elasticnet, solver=saga;, score=0.729 total time=   0.2s\n",
      "[CV 5/5] END l1_ratio=0.4, max_iter=100, penalty=elasticnet, solver=saga;, score=0.728 total time=   0.2s\n"
     ]
    },
    {
     "name": "stderr",
     "output_type": "stream",
     "text": [
      "c:\\Users\\Kevin\\.virtualenvs\\Code-CYgrxAwh\\lib\\site-packages\\sklearn\\linear_model\\_sag.py:350: ConvergenceWarning: The max_iter was reached which means the coef_ did not converge\n",
      "  warnings.warn(\n",
      "c:\\Users\\Kevin\\.virtualenvs\\Code-CYgrxAwh\\lib\\site-packages\\sklearn\\linear_model\\_sag.py:350: ConvergenceWarning: The max_iter was reached which means the coef_ did not converge\n",
      "  warnings.warn(\n"
     ]
    },
    {
     "name": "stdout",
     "output_type": "stream",
     "text": [
      "[CV 1/5] END l1_ratio=0.5, max_iter=10, penalty=elasticnet, solver=saga;, score=0.730 total time=   0.2s\n",
      "[CV 2/5] END l1_ratio=0.5, max_iter=10, penalty=elasticnet, solver=saga;, score=0.720 total time=   0.1s\n"
     ]
    },
    {
     "name": "stderr",
     "output_type": "stream",
     "text": [
      "c:\\Users\\Kevin\\.virtualenvs\\Code-CYgrxAwh\\lib\\site-packages\\sklearn\\linear_model\\_sag.py:350: ConvergenceWarning: The max_iter was reached which means the coef_ did not converge\n",
      "  warnings.warn(\n",
      "c:\\Users\\Kevin\\.virtualenvs\\Code-CYgrxAwh\\lib\\site-packages\\sklearn\\linear_model\\_sag.py:350: ConvergenceWarning: The max_iter was reached which means the coef_ did not converge\n",
      "  warnings.warn(\n"
     ]
    },
    {
     "name": "stdout",
     "output_type": "stream",
     "text": [
      "[CV 3/5] END l1_ratio=0.5, max_iter=10, penalty=elasticnet, solver=saga;, score=0.719 total time=   0.1s\n",
      "[CV 4/5] END l1_ratio=0.5, max_iter=10, penalty=elasticnet, solver=saga;, score=0.729 total time=   0.1s\n"
     ]
    },
    {
     "name": "stderr",
     "output_type": "stream",
     "text": [
      "c:\\Users\\Kevin\\.virtualenvs\\Code-CYgrxAwh\\lib\\site-packages\\sklearn\\linear_model\\_sag.py:350: ConvergenceWarning: The max_iter was reached which means the coef_ did not converge\n",
      "  warnings.warn(\n"
     ]
    },
    {
     "name": "stdout",
     "output_type": "stream",
     "text": [
      "[CV 5/5] END l1_ratio=0.5, max_iter=10, penalty=elasticnet, solver=saga;, score=0.728 total time=   0.2s\n",
      "[CV 1/5] END l1_ratio=0.5, max_iter=100, penalty=elasticnet, solver=saga;, score=0.730 total time=   0.3s\n",
      "[CV 2/5] END l1_ratio=0.5, max_iter=100, penalty=elasticnet, solver=saga;, score=0.719 total time=   0.6s\n",
      "[CV 3/5] END l1_ratio=0.5, max_iter=100, penalty=elasticnet, solver=saga;, score=0.719 total time=   0.4s\n",
      "[CV 4/5] END l1_ratio=0.5, max_iter=100, penalty=elasticnet, solver=saga;, score=0.729 total time=   0.3s\n",
      "[CV 5/5] END l1_ratio=0.5, max_iter=100, penalty=elasticnet, solver=saga;, score=0.728 total time=   0.1s\n"
     ]
    },
    {
     "name": "stderr",
     "output_type": "stream",
     "text": [
      "c:\\Users\\Kevin\\.virtualenvs\\Code-CYgrxAwh\\lib\\site-packages\\sklearn\\linear_model\\_sag.py:350: ConvergenceWarning: The max_iter was reached which means the coef_ did not converge\n",
      "  warnings.warn(\n",
      "c:\\Users\\Kevin\\.virtualenvs\\Code-CYgrxAwh\\lib\\site-packages\\sklearn\\linear_model\\_sag.py:350: ConvergenceWarning: The max_iter was reached which means the coef_ did not converge\n",
      "  warnings.warn(\n"
     ]
    },
    {
     "name": "stdout",
     "output_type": "stream",
     "text": [
      "[CV 1/5] END l1_ratio=0.6, max_iter=10, penalty=elasticnet, solver=saga;, score=0.730 total time=   0.1s\n",
      "[CV 2/5] END l1_ratio=0.6, max_iter=10, penalty=elasticnet, solver=saga;, score=0.716 total time=   0.1s\n"
     ]
    },
    {
     "name": "stderr",
     "output_type": "stream",
     "text": [
      "c:\\Users\\Kevin\\.virtualenvs\\Code-CYgrxAwh\\lib\\site-packages\\sklearn\\linear_model\\_sag.py:350: ConvergenceWarning: The max_iter was reached which means the coef_ did not converge\n",
      "  warnings.warn(\n",
      "c:\\Users\\Kevin\\.virtualenvs\\Code-CYgrxAwh\\lib\\site-packages\\sklearn\\linear_model\\_sag.py:350: ConvergenceWarning: The max_iter was reached which means the coef_ did not converge\n",
      "  warnings.warn(\n"
     ]
    },
    {
     "name": "stdout",
     "output_type": "stream",
     "text": [
      "[CV 3/5] END l1_ratio=0.6, max_iter=10, penalty=elasticnet, solver=saga;, score=0.719 total time=   0.1s\n",
      "[CV 4/5] END l1_ratio=0.6, max_iter=10, penalty=elasticnet, solver=saga;, score=0.729 total time=   0.1s\n"
     ]
    },
    {
     "name": "stderr",
     "output_type": "stream",
     "text": [
      "c:\\Users\\Kevin\\.virtualenvs\\Code-CYgrxAwh\\lib\\site-packages\\sklearn\\linear_model\\_sag.py:350: ConvergenceWarning: The max_iter was reached which means the coef_ did not converge\n",
      "  warnings.warn(\n"
     ]
    },
    {
     "name": "stdout",
     "output_type": "stream",
     "text": [
      "[CV 5/5] END l1_ratio=0.6, max_iter=10, penalty=elasticnet, solver=saga;, score=0.727 total time=   0.1s\n",
      "[CV 1/5] END l1_ratio=0.6, max_iter=100, penalty=elasticnet, solver=saga;, score=0.730 total time=   0.2s\n",
      "[CV 2/5] END l1_ratio=0.6, max_iter=100, penalty=elasticnet, solver=saga;, score=0.719 total time=   0.5s\n",
      "[CV 3/5] END l1_ratio=0.6, max_iter=100, penalty=elasticnet, solver=saga;, score=0.719 total time=   0.4s\n",
      "[CV 4/5] END l1_ratio=0.6, max_iter=100, penalty=elasticnet, solver=saga;, score=0.728 total time=   0.3s\n",
      "[CV 5/5] END l1_ratio=0.6, max_iter=100, penalty=elasticnet, solver=saga;, score=0.728 total time=   0.3s\n"
     ]
    },
    {
     "name": "stderr",
     "output_type": "stream",
     "text": [
      "c:\\Users\\Kevin\\.virtualenvs\\Code-CYgrxAwh\\lib\\site-packages\\sklearn\\linear_model\\_sag.py:350: ConvergenceWarning: The max_iter was reached which means the coef_ did not converge\n",
      "  warnings.warn(\n"
     ]
    },
    {
     "name": "stdout",
     "output_type": "stream",
     "text": [
      "[CV 1/5] END l1_ratio=0.7, max_iter=10, penalty=elasticnet, solver=saga;, score=0.731 total time=   0.1s\n"
     ]
    },
    {
     "name": "stderr",
     "output_type": "stream",
     "text": [
      "c:\\Users\\Kevin\\.virtualenvs\\Code-CYgrxAwh\\lib\\site-packages\\sklearn\\linear_model\\_sag.py:350: ConvergenceWarning: The max_iter was reached which means the coef_ did not converge\n",
      "  warnings.warn(\n"
     ]
    },
    {
     "name": "stdout",
     "output_type": "stream",
     "text": [
      "[CV 2/5] END l1_ratio=0.7, max_iter=10, penalty=elasticnet, solver=saga;, score=0.719 total time=   0.2s\n"
     ]
    },
    {
     "name": "stderr",
     "output_type": "stream",
     "text": [
      "c:\\Users\\Kevin\\.virtualenvs\\Code-CYgrxAwh\\lib\\site-packages\\sklearn\\linear_model\\_sag.py:350: ConvergenceWarning: The max_iter was reached which means the coef_ did not converge\n",
      "  warnings.warn(\n"
     ]
    },
    {
     "name": "stdout",
     "output_type": "stream",
     "text": [
      "[CV 3/5] END l1_ratio=0.7, max_iter=10, penalty=elasticnet, solver=saga;, score=0.719 total time=   0.3s\n"
     ]
    },
    {
     "name": "stderr",
     "output_type": "stream",
     "text": [
      "c:\\Users\\Kevin\\.virtualenvs\\Code-CYgrxAwh\\lib\\site-packages\\sklearn\\linear_model\\_sag.py:350: ConvergenceWarning: The max_iter was reached which means the coef_ did not converge\n",
      "  warnings.warn(\n"
     ]
    },
    {
     "name": "stdout",
     "output_type": "stream",
     "text": [
      "[CV 4/5] END l1_ratio=0.7, max_iter=10, penalty=elasticnet, solver=saga;, score=0.729 total time=   0.4s\n"
     ]
    },
    {
     "name": "stderr",
     "output_type": "stream",
     "text": [
      "c:\\Users\\Kevin\\.virtualenvs\\Code-CYgrxAwh\\lib\\site-packages\\sklearn\\linear_model\\_sag.py:350: ConvergenceWarning: The max_iter was reached which means the coef_ did not converge\n",
      "  warnings.warn(\n"
     ]
    },
    {
     "name": "stdout",
     "output_type": "stream",
     "text": [
      "[CV 5/5] END l1_ratio=0.7, max_iter=10, penalty=elasticnet, solver=saga;, score=0.728 total time=   0.1s\n",
      "[CV 1/5] END l1_ratio=0.7, max_iter=100, penalty=elasticnet, solver=saga;, score=0.730 total time=   0.3s\n",
      "[CV 2/5] END l1_ratio=0.7, max_iter=100, penalty=elasticnet, solver=saga;, score=0.720 total time=   0.3s\n",
      "[CV 3/5] END l1_ratio=0.7, max_iter=100, penalty=elasticnet, solver=saga;, score=0.719 total time=   0.3s\n",
      "[CV 4/5] END l1_ratio=0.7, max_iter=100, penalty=elasticnet, solver=saga;, score=0.729 total time=   0.3s\n",
      "[CV 5/5] END l1_ratio=0.7, max_iter=100, penalty=elasticnet, solver=saga;, score=0.728 total time=   0.3s\n"
     ]
    },
    {
     "name": "stderr",
     "output_type": "stream",
     "text": [
      "c:\\Users\\Kevin\\.virtualenvs\\Code-CYgrxAwh\\lib\\site-packages\\sklearn\\linear_model\\_sag.py:350: ConvergenceWarning: The max_iter was reached which means the coef_ did not converge\n",
      "  warnings.warn(\n"
     ]
    },
    {
     "name": "stdout",
     "output_type": "stream",
     "text": [
      "[CV 1/5] END l1_ratio=0.8, max_iter=10, penalty=elasticnet, solver=saga;, score=0.730 total time=   0.1s\n",
      "[CV 2/5] END l1_ratio=0.8, max_iter=10, penalty=elasticnet, solver=saga;, score=0.719 total time=   0.2s\n"
     ]
    },
    {
     "name": "stderr",
     "output_type": "stream",
     "text": [
      "c:\\Users\\Kevin\\.virtualenvs\\Code-CYgrxAwh\\lib\\site-packages\\sklearn\\linear_model\\_sag.py:350: ConvergenceWarning: The max_iter was reached which means the coef_ did not converge\n",
      "  warnings.warn(\n",
      "c:\\Users\\Kevin\\.virtualenvs\\Code-CYgrxAwh\\lib\\site-packages\\sklearn\\linear_model\\_sag.py:350: ConvergenceWarning: The max_iter was reached which means the coef_ did not converge\n",
      "  warnings.warn(\n"
     ]
    },
    {
     "name": "stdout",
     "output_type": "stream",
     "text": [
      "[CV 3/5] END l1_ratio=0.8, max_iter=10, penalty=elasticnet, solver=saga;, score=0.719 total time=   0.1s\n"
     ]
    },
    {
     "name": "stderr",
     "output_type": "stream",
     "text": [
      "c:\\Users\\Kevin\\.virtualenvs\\Code-CYgrxAwh\\lib\\site-packages\\sklearn\\linear_model\\_sag.py:350: ConvergenceWarning: The max_iter was reached which means the coef_ did not converge\n",
      "  warnings.warn(\n"
     ]
    },
    {
     "name": "stdout",
     "output_type": "stream",
     "text": [
      "[CV 4/5] END l1_ratio=0.8, max_iter=10, penalty=elasticnet, solver=saga;, score=0.729 total time=   0.3s\n"
     ]
    },
    {
     "name": "stderr",
     "output_type": "stream",
     "text": [
      "c:\\Users\\Kevin\\.virtualenvs\\Code-CYgrxAwh\\lib\\site-packages\\sklearn\\linear_model\\_sag.py:350: ConvergenceWarning: The max_iter was reached which means the coef_ did not converge\n",
      "  warnings.warn(\n"
     ]
    },
    {
     "name": "stdout",
     "output_type": "stream",
     "text": [
      "[CV 5/5] END l1_ratio=0.8, max_iter=10, penalty=elasticnet, solver=saga;, score=0.728 total time=   0.1s\n",
      "[CV 1/5] END l1_ratio=0.8, max_iter=100, penalty=elasticnet, solver=saga;, score=0.730 total time=   0.3s\n",
      "[CV 2/5] END l1_ratio=0.8, max_iter=100, penalty=elasticnet, solver=saga;, score=0.720 total time=   0.5s\n",
      "[CV 3/5] END l1_ratio=0.8, max_iter=100, penalty=elasticnet, solver=saga;, score=0.719 total time=   0.3s\n",
      "[CV 4/5] END l1_ratio=0.8, max_iter=100, penalty=elasticnet, solver=saga;, score=0.729 total time=   0.2s\n",
      "[CV 5/5] END l1_ratio=0.8, max_iter=100, penalty=elasticnet, solver=saga;, score=0.728 total time=   0.2s\n",
      "[CV 1/5] END l1_ratio=0.9, max_iter=10, penalty=elasticnet, solver=saga;, score=0.731 total time=   0.1s\n"
     ]
    },
    {
     "name": "stderr",
     "output_type": "stream",
     "text": [
      "c:\\Users\\Kevin\\.virtualenvs\\Code-CYgrxAwh\\lib\\site-packages\\sklearn\\linear_model\\_sag.py:350: ConvergenceWarning: The max_iter was reached which means the coef_ did not converge\n",
      "  warnings.warn(\n",
      "c:\\Users\\Kevin\\.virtualenvs\\Code-CYgrxAwh\\lib\\site-packages\\sklearn\\linear_model\\_sag.py:350: ConvergenceWarning: The max_iter was reached which means the coef_ did not converge\n",
      "  warnings.warn(\n"
     ]
    },
    {
     "name": "stdout",
     "output_type": "stream",
     "text": [
      "[CV 2/5] END l1_ratio=0.9, max_iter=10, penalty=elasticnet, solver=saga;, score=0.719 total time=   0.1s\n",
      "[CV 3/5] END l1_ratio=0.9, max_iter=10, penalty=elasticnet, solver=saga;, score=0.719 total time=   0.1s\n"
     ]
    },
    {
     "name": "stderr",
     "output_type": "stream",
     "text": [
      "c:\\Users\\Kevin\\.virtualenvs\\Code-CYgrxAwh\\lib\\site-packages\\sklearn\\linear_model\\_sag.py:350: ConvergenceWarning: The max_iter was reached which means the coef_ did not converge\n",
      "  warnings.warn(\n",
      "c:\\Users\\Kevin\\.virtualenvs\\Code-CYgrxAwh\\lib\\site-packages\\sklearn\\linear_model\\_sag.py:350: ConvergenceWarning: The max_iter was reached which means the coef_ did not converge\n",
      "  warnings.warn(\n"
     ]
    },
    {
     "name": "stdout",
     "output_type": "stream",
     "text": [
      "[CV 4/5] END l1_ratio=0.9, max_iter=10, penalty=elasticnet, solver=saga;, score=0.729 total time=   0.1s\n",
      "[CV 5/5] END l1_ratio=0.9, max_iter=10, penalty=elasticnet, solver=saga;, score=0.728 total time=   0.1s\n"
     ]
    },
    {
     "name": "stderr",
     "output_type": "stream",
     "text": [
      "c:\\Users\\Kevin\\.virtualenvs\\Code-CYgrxAwh\\lib\\site-packages\\sklearn\\linear_model\\_sag.py:350: ConvergenceWarning: The max_iter was reached which means the coef_ did not converge\n",
      "  warnings.warn(\n"
     ]
    },
    {
     "name": "stdout",
     "output_type": "stream",
     "text": [
      "[CV 1/5] END l1_ratio=0.9, max_iter=100, penalty=elasticnet, solver=saga;, score=0.731 total time=   0.2s\n",
      "[CV 2/5] END l1_ratio=0.9, max_iter=100, penalty=elasticnet, solver=saga;, score=0.719 total time=   0.2s\n",
      "[CV 3/5] END l1_ratio=0.9, max_iter=100, penalty=elasticnet, solver=saga;, score=0.719 total time=   0.1s\n",
      "[CV 4/5] END l1_ratio=0.9, max_iter=100, penalty=elasticnet, solver=saga;, score=0.729 total time=   0.2s\n",
      "[CV 5/5] END l1_ratio=0.9, max_iter=100, penalty=elasticnet, solver=saga;, score=0.728 total time=   0.1s\n",
      "[CV 1/5] END l1_ratio=1.0, max_iter=10, penalty=elasticnet, solver=saga;, score=0.731 total time=   0.1s\n"
     ]
    },
    {
     "name": "stderr",
     "output_type": "stream",
     "text": [
      "c:\\Users\\Kevin\\.virtualenvs\\Code-CYgrxAwh\\lib\\site-packages\\sklearn\\linear_model\\_sag.py:350: ConvergenceWarning: The max_iter was reached which means the coef_ did not converge\n",
      "  warnings.warn(\n",
      "c:\\Users\\Kevin\\.virtualenvs\\Code-CYgrxAwh\\lib\\site-packages\\sklearn\\linear_model\\_sag.py:350: ConvergenceWarning: The max_iter was reached which means the coef_ did not converge\n",
      "  warnings.warn(\n"
     ]
    },
    {
     "name": "stdout",
     "output_type": "stream",
     "text": [
      "[CV 2/5] END l1_ratio=1.0, max_iter=10, penalty=elasticnet, solver=saga;, score=0.721 total time=   0.1s\n"
     ]
    },
    {
     "name": "stderr",
     "output_type": "stream",
     "text": [
      "c:\\Users\\Kevin\\.virtualenvs\\Code-CYgrxAwh\\lib\\site-packages\\sklearn\\linear_model\\_sag.py:350: ConvergenceWarning: The max_iter was reached which means the coef_ did not converge\n",
      "  warnings.warn(\n",
      "c:\\Users\\Kevin\\.virtualenvs\\Code-CYgrxAwh\\lib\\site-packages\\sklearn\\linear_model\\_sag.py:350: ConvergenceWarning: The max_iter was reached which means the coef_ did not converge\n",
      "  warnings.warn(\n"
     ]
    },
    {
     "name": "stdout",
     "output_type": "stream",
     "text": [
      "[CV 3/5] END l1_ratio=1.0, max_iter=10, penalty=elasticnet, solver=saga;, score=0.719 total time=   0.1s\n",
      "[CV 4/5] END l1_ratio=1.0, max_iter=10, penalty=elasticnet, solver=saga;, score=0.729 total time=   0.1s\n"
     ]
    },
    {
     "name": "stderr",
     "output_type": "stream",
     "text": [
      "c:\\Users\\Kevin\\.virtualenvs\\Code-CYgrxAwh\\lib\\site-packages\\sklearn\\linear_model\\_sag.py:350: ConvergenceWarning: The max_iter was reached which means the coef_ did not converge\n",
      "  warnings.warn(\n"
     ]
    },
    {
     "name": "stdout",
     "output_type": "stream",
     "text": [
      "[CV 5/5] END l1_ratio=1.0, max_iter=10, penalty=elasticnet, solver=saga;, score=0.728 total time=   0.1s\n",
      "[CV 1/5] END l1_ratio=1.0, max_iter=100, penalty=elasticnet, solver=saga;, score=0.731 total time=   0.2s\n",
      "[CV 2/5] END l1_ratio=1.0, max_iter=100, penalty=elasticnet, solver=saga;, score=0.719 total time=   0.1s\n",
      "[CV 3/5] END l1_ratio=1.0, max_iter=100, penalty=elasticnet, solver=saga;, score=0.719 total time=   0.2s\n",
      "[CV 4/5] END l1_ratio=1.0, max_iter=100, penalty=elasticnet, solver=saga;, score=0.729 total time=   0.2s\n",
      "[CV 5/5] END l1_ratio=1.0, max_iter=100, penalty=elasticnet, solver=saga;, score=0.728 total time=   0.1s\n"
     ]
    },
    {
     "name": "stderr",
     "output_type": "stream",
     "text": [
      "c:\\Users\\Kevin\\.virtualenvs\\Code-CYgrxAwh\\lib\\site-packages\\sklearn\\linear_model\\_sag.py:350: ConvergenceWarning: The max_iter was reached which means the coef_ did not converge\n",
      "  warnings.warn(\n",
      "c:\\Users\\Kevin\\.virtualenvs\\Code-CYgrxAwh\\lib\\site-packages\\sklearn\\linear_model\\_sag.py:350: ConvergenceWarning: The max_iter was reached which means the coef_ did not converge\n",
      "  warnings.warn(\n"
     ]
    },
    {
     "name": "stdout",
     "output_type": "stream",
     "text": [
      "Fitting 5 folds for each of 22 candidates, totalling 110 fits\n",
      "[CV 1/5] END l1_ratio=0.0, max_iter=10, penalty=elasticnet, solver=saga;, score=0.730 total time=   0.0s\n"
     ]
    },
    {
     "name": "stderr",
     "output_type": "stream",
     "text": [
      "c:\\Users\\Kevin\\.virtualenvs\\Code-CYgrxAwh\\lib\\site-packages\\sklearn\\linear_model\\_sag.py:350: ConvergenceWarning: The max_iter was reached which means the coef_ did not converge\n",
      "  warnings.warn(\n",
      "c:\\Users\\Kevin\\.virtualenvs\\Code-CYgrxAwh\\lib\\site-packages\\sklearn\\linear_model\\_sag.py:350: ConvergenceWarning: The max_iter was reached which means the coef_ did not converge\n",
      "  warnings.warn(\n"
     ]
    },
    {
     "name": "stdout",
     "output_type": "stream",
     "text": [
      "[CV 2/5] END l1_ratio=0.0, max_iter=10, penalty=elasticnet, solver=saga;, score=0.719 total time=   0.1s\n",
      "[CV 3/5] END l1_ratio=0.0, max_iter=10, penalty=elasticnet, solver=saga;, score=0.719 total time=   0.0s\n"
     ]
    },
    {
     "name": "stderr",
     "output_type": "stream",
     "text": [
      "c:\\Users\\Kevin\\.virtualenvs\\Code-CYgrxAwh\\lib\\site-packages\\sklearn\\linear_model\\_sag.py:350: ConvergenceWarning: The max_iter was reached which means the coef_ did not converge\n",
      "  warnings.warn(\n",
      "c:\\Users\\Kevin\\.virtualenvs\\Code-CYgrxAwh\\lib\\site-packages\\sklearn\\linear_model\\_sag.py:350: ConvergenceWarning: The max_iter was reached which means the coef_ did not converge\n",
      "  warnings.warn(\n"
     ]
    },
    {
     "name": "stdout",
     "output_type": "stream",
     "text": [
      "[CV 4/5] END l1_ratio=0.0, max_iter=10, penalty=elasticnet, solver=saga;, score=0.729 total time=   0.1s\n",
      "[CV 5/5] END l1_ratio=0.0, max_iter=10, penalty=elasticnet, solver=saga;, score=0.728 total time=   0.0s\n",
      "[CV 1/5] END l1_ratio=0.0, max_iter=100, penalty=elasticnet, solver=saga;, score=0.730 total time=   0.1s\n",
      "[CV 2/5] END l1_ratio=0.0, max_iter=100, penalty=elasticnet, solver=saga;, score=0.719 total time=   0.1s\n",
      "[CV 3/5] END l1_ratio=0.0, max_iter=100, penalty=elasticnet, solver=saga;, score=0.719 total time=   0.1s\n",
      "[CV 4/5] END l1_ratio=0.0, max_iter=100, penalty=elasticnet, solver=saga;, score=0.729 total time=   0.1s\n",
      "[CV 5/5] END l1_ratio=0.0, max_iter=100, penalty=elasticnet, solver=saga;, score=0.728 total time=   0.1s\n"
     ]
    },
    {
     "name": "stderr",
     "output_type": "stream",
     "text": [
      "c:\\Users\\Kevin\\.virtualenvs\\Code-CYgrxAwh\\lib\\site-packages\\sklearn\\linear_model\\_sag.py:350: ConvergenceWarning: The max_iter was reached which means the coef_ did not converge\n",
      "  warnings.warn(\n",
      "c:\\Users\\Kevin\\.virtualenvs\\Code-CYgrxAwh\\lib\\site-packages\\sklearn\\linear_model\\_sag.py:350: ConvergenceWarning: The max_iter was reached which means the coef_ did not converge\n",
      "  warnings.warn(\n"
     ]
    },
    {
     "name": "stdout",
     "output_type": "stream",
     "text": [
      "[CV 1/5] END l1_ratio=0.1, max_iter=10, penalty=elasticnet, solver=saga;, score=0.731 total time=   0.1s\n",
      "[CV 2/5] END l1_ratio=0.1, max_iter=10, penalty=elasticnet, solver=saga;, score=0.719 total time=   0.1s\n"
     ]
    },
    {
     "name": "stderr",
     "output_type": "stream",
     "text": [
      "c:\\Users\\Kevin\\.virtualenvs\\Code-CYgrxAwh\\lib\\site-packages\\sklearn\\linear_model\\_sag.py:350: ConvergenceWarning: The max_iter was reached which means the coef_ did not converge\n",
      "  warnings.warn(\n",
      "c:\\Users\\Kevin\\.virtualenvs\\Code-CYgrxAwh\\lib\\site-packages\\sklearn\\linear_model\\_sag.py:350: ConvergenceWarning: The max_iter was reached which means the coef_ did not converge\n",
      "  warnings.warn(\n"
     ]
    },
    {
     "name": "stdout",
     "output_type": "stream",
     "text": [
      "[CV 3/5] END l1_ratio=0.1, max_iter=10, penalty=elasticnet, solver=saga;, score=0.719 total time=   0.1s\n",
      "[CV 4/5] END l1_ratio=0.1, max_iter=10, penalty=elasticnet, solver=saga;, score=0.729 total time=   0.1s\n"
     ]
    },
    {
     "name": "stderr",
     "output_type": "stream",
     "text": [
      "c:\\Users\\Kevin\\.virtualenvs\\Code-CYgrxAwh\\lib\\site-packages\\sklearn\\linear_model\\_sag.py:350: ConvergenceWarning: The max_iter was reached which means the coef_ did not converge\n",
      "  warnings.warn(\n"
     ]
    },
    {
     "name": "stdout",
     "output_type": "stream",
     "text": [
      "[CV 5/5] END l1_ratio=0.1, max_iter=10, penalty=elasticnet, solver=saga;, score=0.728 total time=   0.1s\n",
      "[CV 1/5] END l1_ratio=0.1, max_iter=100, penalty=elasticnet, solver=saga;, score=0.730 total time=   0.3s\n",
      "[CV 2/5] END l1_ratio=0.1, max_iter=100, penalty=elasticnet, solver=saga;, score=0.720 total time=   0.3s\n",
      "[CV 3/5] END l1_ratio=0.1, max_iter=100, penalty=elasticnet, solver=saga;, score=0.719 total time=   0.2s\n",
      "[CV 4/5] END l1_ratio=0.1, max_iter=100, penalty=elasticnet, solver=saga;, score=0.729 total time=   0.2s\n",
      "[CV 5/5] END l1_ratio=0.1, max_iter=100, penalty=elasticnet, solver=saga;, score=0.728 total time=   0.2s\n",
      "[CV 1/5] END l1_ratio=0.2, max_iter=10, penalty=elasticnet, solver=saga;, score=0.731 total time=   0.1s\n"
     ]
    },
    {
     "name": "stderr",
     "output_type": "stream",
     "text": [
      "c:\\Users\\Kevin\\.virtualenvs\\Code-CYgrxAwh\\lib\\site-packages\\sklearn\\linear_model\\_sag.py:350: ConvergenceWarning: The max_iter was reached which means the coef_ did not converge\n",
      "  warnings.warn(\n",
      "c:\\Users\\Kevin\\.virtualenvs\\Code-CYgrxAwh\\lib\\site-packages\\sklearn\\linear_model\\_sag.py:350: ConvergenceWarning: The max_iter was reached which means the coef_ did not converge\n",
      "  warnings.warn(\n"
     ]
    },
    {
     "name": "stdout",
     "output_type": "stream",
     "text": [
      "[CV 2/5] END l1_ratio=0.2, max_iter=10, penalty=elasticnet, solver=saga;, score=0.719 total time=   0.1s\n"
     ]
    },
    {
     "name": "stderr",
     "output_type": "stream",
     "text": [
      "c:\\Users\\Kevin\\.virtualenvs\\Code-CYgrxAwh\\lib\\site-packages\\sklearn\\linear_model\\_sag.py:350: ConvergenceWarning: The max_iter was reached which means the coef_ did not converge\n",
      "  warnings.warn(\n",
      "c:\\Users\\Kevin\\.virtualenvs\\Code-CYgrxAwh\\lib\\site-packages\\sklearn\\linear_model\\_sag.py:350: ConvergenceWarning: The max_iter was reached which means the coef_ did not converge\n",
      "  warnings.warn(\n"
     ]
    },
    {
     "name": "stdout",
     "output_type": "stream",
     "text": [
      "[CV 3/5] END l1_ratio=0.2, max_iter=10, penalty=elasticnet, solver=saga;, score=0.719 total time=   0.1s\n",
      "[CV 4/5] END l1_ratio=0.2, max_iter=10, penalty=elasticnet, solver=saga;, score=0.729 total time=   0.1s\n"
     ]
    },
    {
     "name": "stderr",
     "output_type": "stream",
     "text": [
      "c:\\Users\\Kevin\\.virtualenvs\\Code-CYgrxAwh\\lib\\site-packages\\sklearn\\linear_model\\_sag.py:350: ConvergenceWarning: The max_iter was reached which means the coef_ did not converge\n",
      "  warnings.warn(\n"
     ]
    },
    {
     "name": "stdout",
     "output_type": "stream",
     "text": [
      "[CV 5/5] END l1_ratio=0.2, max_iter=10, penalty=elasticnet, solver=saga;, score=0.728 total time=   0.1s\n",
      "[CV 1/5] END l1_ratio=0.2, max_iter=100, penalty=elasticnet, solver=saga;, score=0.731 total time=   0.2s\n",
      "[CV 2/5] END l1_ratio=0.2, max_iter=100, penalty=elasticnet, solver=saga;, score=0.720 total time=   0.4s\n",
      "[CV 3/5] END l1_ratio=0.2, max_iter=100, penalty=elasticnet, solver=saga;, score=0.719 total time=   0.1s\n",
      "[CV 4/5] END l1_ratio=0.2, max_iter=100, penalty=elasticnet, solver=saga;, score=0.729 total time=   0.2s\n",
      "[CV 5/5] END l1_ratio=0.2, max_iter=100, penalty=elasticnet, solver=saga;, score=0.728 total time=   0.1s\n",
      "[CV 1/5] END l1_ratio=0.3, max_iter=10, penalty=elasticnet, solver=saga;, score=0.731 total time=   0.1s\n"
     ]
    },
    {
     "name": "stderr",
     "output_type": "stream",
     "text": [
      "c:\\Users\\Kevin\\.virtualenvs\\Code-CYgrxAwh\\lib\\site-packages\\sklearn\\linear_model\\_sag.py:350: ConvergenceWarning: The max_iter was reached which means the coef_ did not converge\n",
      "  warnings.warn(\n",
      "c:\\Users\\Kevin\\.virtualenvs\\Code-CYgrxAwh\\lib\\site-packages\\sklearn\\linear_model\\_sag.py:350: ConvergenceWarning: The max_iter was reached which means the coef_ did not converge\n",
      "  warnings.warn(\n"
     ]
    },
    {
     "name": "stdout",
     "output_type": "stream",
     "text": [
      "[CV 2/5] END l1_ratio=0.3, max_iter=10, penalty=elasticnet, solver=saga;, score=0.719 total time=   0.1s\n",
      "[CV 3/5] END l1_ratio=0.3, max_iter=10, penalty=elasticnet, solver=saga;, score=0.719 total time=   0.1s\n"
     ]
    },
    {
     "name": "stderr",
     "output_type": "stream",
     "text": [
      "c:\\Users\\Kevin\\.virtualenvs\\Code-CYgrxAwh\\lib\\site-packages\\sklearn\\linear_model\\_sag.py:350: ConvergenceWarning: The max_iter was reached which means the coef_ did not converge\n",
      "  warnings.warn(\n",
      "c:\\Users\\Kevin\\.virtualenvs\\Code-CYgrxAwh\\lib\\site-packages\\sklearn\\linear_model\\_sag.py:350: ConvergenceWarning: The max_iter was reached which means the coef_ did not converge\n",
      "  warnings.warn(\n"
     ]
    },
    {
     "name": "stdout",
     "output_type": "stream",
     "text": [
      "[CV 4/5] END l1_ratio=0.3, max_iter=10, penalty=elasticnet, solver=saga;, score=0.729 total time=   0.1s\n"
     ]
    },
    {
     "name": "stderr",
     "output_type": "stream",
     "text": [
      "c:\\Users\\Kevin\\.virtualenvs\\Code-CYgrxAwh\\lib\\site-packages\\sklearn\\linear_model\\_sag.py:350: ConvergenceWarning: The max_iter was reached which means the coef_ did not converge\n",
      "  warnings.warn(\n"
     ]
    },
    {
     "name": "stdout",
     "output_type": "stream",
     "text": [
      "[CV 5/5] END l1_ratio=0.3, max_iter=10, penalty=elasticnet, solver=saga;, score=0.728 total time=   0.1s\n",
      "[CV 1/5] END l1_ratio=0.3, max_iter=100, penalty=elasticnet, solver=saga;, score=0.731 total time=   0.2s\n",
      "[CV 2/5] END l1_ratio=0.3, max_iter=100, penalty=elasticnet, solver=saga;, score=0.720 total time=   0.2s\n",
      "[CV 3/5] END l1_ratio=0.3, max_iter=100, penalty=elasticnet, solver=saga;, score=0.719 total time=   0.3s\n",
      "[CV 4/5] END l1_ratio=0.3, max_iter=100, penalty=elasticnet, solver=saga;, score=0.729 total time=   0.3s\n",
      "[CV 5/5] END l1_ratio=0.3, max_iter=100, penalty=elasticnet, solver=saga;, score=0.728 total time=   0.2s\n"
     ]
    },
    {
     "name": "stderr",
     "output_type": "stream",
     "text": [
      "c:\\Users\\Kevin\\.virtualenvs\\Code-CYgrxAwh\\lib\\site-packages\\sklearn\\linear_model\\_sag.py:350: ConvergenceWarning: The max_iter was reached which means the coef_ did not converge\n",
      "  warnings.warn(\n",
      "c:\\Users\\Kevin\\.virtualenvs\\Code-CYgrxAwh\\lib\\site-packages\\sklearn\\linear_model\\_sag.py:350: ConvergenceWarning: The max_iter was reached which means the coef_ did not converge\n",
      "  warnings.warn(\n"
     ]
    },
    {
     "name": "stdout",
     "output_type": "stream",
     "text": [
      "[CV 1/5] END l1_ratio=0.4, max_iter=10, penalty=elasticnet, solver=saga;, score=0.731 total time=   0.1s\n",
      "[CV 2/5] END l1_ratio=0.4, max_iter=10, penalty=elasticnet, solver=saga;, score=0.719 total time=   0.1s\n"
     ]
    },
    {
     "name": "stderr",
     "output_type": "stream",
     "text": [
      "c:\\Users\\Kevin\\.virtualenvs\\Code-CYgrxAwh\\lib\\site-packages\\sklearn\\linear_model\\_sag.py:350: ConvergenceWarning: The max_iter was reached which means the coef_ did not converge\n",
      "  warnings.warn(\n",
      "c:\\Users\\Kevin\\.virtualenvs\\Code-CYgrxAwh\\lib\\site-packages\\sklearn\\linear_model\\_sag.py:350: ConvergenceWarning: The max_iter was reached which means the coef_ did not converge\n",
      "  warnings.warn(\n"
     ]
    },
    {
     "name": "stdout",
     "output_type": "stream",
     "text": [
      "[CV 3/5] END l1_ratio=0.4, max_iter=10, penalty=elasticnet, solver=saga;, score=0.719 total time=   0.1s\n",
      "[CV 4/5] END l1_ratio=0.4, max_iter=10, penalty=elasticnet, solver=saga;, score=0.729 total time=   0.1s\n"
     ]
    },
    {
     "name": "stderr",
     "output_type": "stream",
     "text": [
      "c:\\Users\\Kevin\\.virtualenvs\\Code-CYgrxAwh\\lib\\site-packages\\sklearn\\linear_model\\_sag.py:350: ConvergenceWarning: The max_iter was reached which means the coef_ did not converge\n",
      "  warnings.warn(\n"
     ]
    },
    {
     "name": "stdout",
     "output_type": "stream",
     "text": [
      "[CV 5/5] END l1_ratio=0.4, max_iter=10, penalty=elasticnet, solver=saga;, score=0.728 total time=   0.1s\n",
      "[CV 1/5] END l1_ratio=0.4, max_iter=100, penalty=elasticnet, solver=saga;, score=0.731 total time=   0.3s\n",
      "[CV 2/5] END l1_ratio=0.4, max_iter=100, penalty=elasticnet, solver=saga;, score=0.720 total time=   0.1s\n",
      "[CV 3/5] END l1_ratio=0.4, max_iter=100, penalty=elasticnet, solver=saga;, score=0.719 total time=   0.2s\n",
      "[CV 4/5] END l1_ratio=0.4, max_iter=100, penalty=elasticnet, solver=saga;, score=0.729 total time=   0.2s\n",
      "[CV 5/5] END l1_ratio=0.4, max_iter=100, penalty=elasticnet, solver=saga;, score=0.728 total time=   0.1s\n",
      "[CV 1/5] END l1_ratio=0.5, max_iter=10, penalty=elasticnet, solver=saga;, score=0.730 total time=   0.1s\n"
     ]
    },
    {
     "name": "stderr",
     "output_type": "stream",
     "text": [
      "c:\\Users\\Kevin\\.virtualenvs\\Code-CYgrxAwh\\lib\\site-packages\\sklearn\\linear_model\\_sag.py:350: ConvergenceWarning: The max_iter was reached which means the coef_ did not converge\n",
      "  warnings.warn(\n",
      "c:\\Users\\Kevin\\.virtualenvs\\Code-CYgrxAwh\\lib\\site-packages\\sklearn\\linear_model\\_sag.py:350: ConvergenceWarning: The max_iter was reached which means the coef_ did not converge\n",
      "  warnings.warn(\n"
     ]
    },
    {
     "name": "stdout",
     "output_type": "stream",
     "text": [
      "[CV 2/5] END l1_ratio=0.5, max_iter=10, penalty=elasticnet, solver=saga;, score=0.720 total time=   0.1s\n"
     ]
    },
    {
     "name": "stderr",
     "output_type": "stream",
     "text": [
      "c:\\Users\\Kevin\\.virtualenvs\\Code-CYgrxAwh\\lib\\site-packages\\sklearn\\linear_model\\_sag.py:350: ConvergenceWarning: The max_iter was reached which means the coef_ did not converge\n",
      "  warnings.warn(\n",
      "c:\\Users\\Kevin\\.virtualenvs\\Code-CYgrxAwh\\lib\\site-packages\\sklearn\\linear_model\\_sag.py:350: ConvergenceWarning: The max_iter was reached which means the coef_ did not converge\n",
      "  warnings.warn(\n"
     ]
    },
    {
     "name": "stdout",
     "output_type": "stream",
     "text": [
      "[CV 3/5] END l1_ratio=0.5, max_iter=10, penalty=elasticnet, solver=saga;, score=0.719 total time=   0.1s\n",
      "[CV 4/5] END l1_ratio=0.5, max_iter=10, penalty=elasticnet, solver=saga;, score=0.729 total time=   0.1s\n"
     ]
    },
    {
     "name": "stderr",
     "output_type": "stream",
     "text": [
      "c:\\Users\\Kevin\\.virtualenvs\\Code-CYgrxAwh\\lib\\site-packages\\sklearn\\linear_model\\_sag.py:350: ConvergenceWarning: The max_iter was reached which means the coef_ did not converge\n",
      "  warnings.warn(\n"
     ]
    },
    {
     "name": "stdout",
     "output_type": "stream",
     "text": [
      "[CV 5/5] END l1_ratio=0.5, max_iter=10, penalty=elasticnet, solver=saga;, score=0.728 total time=   0.1s\n",
      "[CV 1/5] END l1_ratio=0.5, max_iter=100, penalty=elasticnet, solver=saga;, score=0.731 total time=   0.1s\n",
      "[CV 2/5] END l1_ratio=0.5, max_iter=100, penalty=elasticnet, solver=saga;, score=0.720 total time=   0.2s\n",
      "[CV 3/5] END l1_ratio=0.5, max_iter=100, penalty=elasticnet, solver=saga;, score=0.719 total time=   0.1s\n",
      "[CV 4/5] END l1_ratio=0.5, max_iter=100, penalty=elasticnet, solver=saga;, score=0.729 total time=   0.2s\n",
      "[CV 5/5] END l1_ratio=0.5, max_iter=100, penalty=elasticnet, solver=saga;, score=0.728 total time=   0.2s\n",
      "[CV 1/5] END l1_ratio=0.6, max_iter=10, penalty=elasticnet, solver=saga;, score=0.731 total time=   0.1s\n"
     ]
    },
    {
     "name": "stderr",
     "output_type": "stream",
     "text": [
      "c:\\Users\\Kevin\\.virtualenvs\\Code-CYgrxAwh\\lib\\site-packages\\sklearn\\linear_model\\_sag.py:350: ConvergenceWarning: The max_iter was reached which means the coef_ did not converge\n",
      "  warnings.warn(\n",
      "c:\\Users\\Kevin\\.virtualenvs\\Code-CYgrxAwh\\lib\\site-packages\\sklearn\\linear_model\\_sag.py:350: ConvergenceWarning: The max_iter was reached which means the coef_ did not converge\n",
      "  warnings.warn(\n",
      "c:\\Users\\Kevin\\.virtualenvs\\Code-CYgrxAwh\\lib\\site-packages\\sklearn\\linear_model\\_sag.py:350: ConvergenceWarning: The max_iter was reached which means the coef_ did not converge\n",
      "  warnings.warn(\n"
     ]
    },
    {
     "name": "stdout",
     "output_type": "stream",
     "text": [
      "[CV 2/5] END l1_ratio=0.6, max_iter=10, penalty=elasticnet, solver=saga;, score=0.720 total time=   0.1s\n",
      "[CV 3/5] END l1_ratio=0.6, max_iter=10, penalty=elasticnet, solver=saga;, score=0.719 total time=   0.1s\n"
     ]
    },
    {
     "name": "stderr",
     "output_type": "stream",
     "text": [
      "c:\\Users\\Kevin\\.virtualenvs\\Code-CYgrxAwh\\lib\\site-packages\\sklearn\\linear_model\\_sag.py:350: ConvergenceWarning: The max_iter was reached which means the coef_ did not converge\n",
      "  warnings.warn(\n",
      "c:\\Users\\Kevin\\.virtualenvs\\Code-CYgrxAwh\\lib\\site-packages\\sklearn\\linear_model\\_sag.py:350: ConvergenceWarning: The max_iter was reached which means the coef_ did not converge\n",
      "  warnings.warn(\n"
     ]
    },
    {
     "name": "stdout",
     "output_type": "stream",
     "text": [
      "[CV 4/5] END l1_ratio=0.6, max_iter=10, penalty=elasticnet, solver=saga;, score=0.729 total time=   0.1s\n",
      "[CV 5/5] END l1_ratio=0.6, max_iter=10, penalty=elasticnet, solver=saga;, score=0.727 total time=   0.1s\n",
      "[CV 1/5] END l1_ratio=0.6, max_iter=100, penalty=elasticnet, solver=saga;, score=0.731 total time=   0.2s\n",
      "[CV 2/5] END l1_ratio=0.6, max_iter=100, penalty=elasticnet, solver=saga;, score=0.720 total time=   0.2s\n",
      "[CV 3/5] END l1_ratio=0.6, max_iter=100, penalty=elasticnet, solver=saga;, score=0.719 total time=   0.1s\n",
      "[CV 4/5] END l1_ratio=0.6, max_iter=100, penalty=elasticnet, solver=saga;, score=0.729 total time=   0.1s\n",
      "[CV 5/5] END l1_ratio=0.6, max_iter=100, penalty=elasticnet, solver=saga;, score=0.728 total time=   0.1s\n",
      "[CV 1/5] END l1_ratio=0.7, max_iter=10, penalty=elasticnet, solver=saga;, score=0.730 total time=   0.1s\n"
     ]
    },
    {
     "name": "stderr",
     "output_type": "stream",
     "text": [
      "c:\\Users\\Kevin\\.virtualenvs\\Code-CYgrxAwh\\lib\\site-packages\\sklearn\\linear_model\\_sag.py:350: ConvergenceWarning: The max_iter was reached which means the coef_ did not converge\n",
      "  warnings.warn(\n",
      "c:\\Users\\Kevin\\.virtualenvs\\Code-CYgrxAwh\\lib\\site-packages\\sklearn\\linear_model\\_sag.py:350: ConvergenceWarning: The max_iter was reached which means the coef_ did not converge\n",
      "  warnings.warn(\n"
     ]
    },
    {
     "name": "stdout",
     "output_type": "stream",
     "text": [
      "[CV 2/5] END l1_ratio=0.7, max_iter=10, penalty=elasticnet, solver=saga;, score=0.719 total time=   0.1s\n"
     ]
    },
    {
     "name": "stderr",
     "output_type": "stream",
     "text": [
      "c:\\Users\\Kevin\\.virtualenvs\\Code-CYgrxAwh\\lib\\site-packages\\sklearn\\linear_model\\_sag.py:350: ConvergenceWarning: The max_iter was reached which means the coef_ did not converge\n",
      "  warnings.warn(\n",
      "c:\\Users\\Kevin\\.virtualenvs\\Code-CYgrxAwh\\lib\\site-packages\\sklearn\\linear_model\\_sag.py:350: ConvergenceWarning: The max_iter was reached which means the coef_ did not converge\n",
      "  warnings.warn(\n"
     ]
    },
    {
     "name": "stdout",
     "output_type": "stream",
     "text": [
      "[CV 3/5] END l1_ratio=0.7, max_iter=10, penalty=elasticnet, solver=saga;, score=0.718 total time=   0.1s\n",
      "[CV 4/5] END l1_ratio=0.7, max_iter=10, penalty=elasticnet, solver=saga;, score=0.729 total time=   0.1s\n"
     ]
    },
    {
     "name": "stderr",
     "output_type": "stream",
     "text": [
      "c:\\Users\\Kevin\\.virtualenvs\\Code-CYgrxAwh\\lib\\site-packages\\sklearn\\linear_model\\_sag.py:350: ConvergenceWarning: The max_iter was reached which means the coef_ did not converge\n",
      "  warnings.warn(\n"
     ]
    },
    {
     "name": "stdout",
     "output_type": "stream",
     "text": [
      "[CV 5/5] END l1_ratio=0.7, max_iter=10, penalty=elasticnet, solver=saga;, score=0.728 total time=   0.1s\n",
      "[CV 1/5] END l1_ratio=0.7, max_iter=100, penalty=elasticnet, solver=saga;, score=0.731 total time=   0.1s\n",
      "[CV 2/5] END l1_ratio=0.7, max_iter=100, penalty=elasticnet, solver=saga;, score=0.720 total time=   0.2s\n",
      "[CV 3/5] END l1_ratio=0.7, max_iter=100, penalty=elasticnet, solver=saga;, score=0.719 total time=   0.2s\n",
      "[CV 4/5] END l1_ratio=0.7, max_iter=100, penalty=elasticnet, solver=saga;, score=0.729 total time=   0.2s\n",
      "[CV 5/5] END l1_ratio=0.7, max_iter=100, penalty=elasticnet, solver=saga;, score=0.728 total time=   0.2s\n",
      "[CV 1/5] END l1_ratio=0.8, max_iter=10, penalty=elasticnet, solver=saga;, score=0.731 total time=   0.0s\n"
     ]
    },
    {
     "name": "stderr",
     "output_type": "stream",
     "text": [
      "c:\\Users\\Kevin\\.virtualenvs\\Code-CYgrxAwh\\lib\\site-packages\\sklearn\\linear_model\\_sag.py:350: ConvergenceWarning: The max_iter was reached which means the coef_ did not converge\n",
      "  warnings.warn(\n",
      "c:\\Users\\Kevin\\.virtualenvs\\Code-CYgrxAwh\\lib\\site-packages\\sklearn\\linear_model\\_sag.py:350: ConvergenceWarning: The max_iter was reached which means the coef_ did not converge\n",
      "  warnings.warn(\n",
      "c:\\Users\\Kevin\\.virtualenvs\\Code-CYgrxAwh\\lib\\site-packages\\sklearn\\linear_model\\_sag.py:350: ConvergenceWarning: The max_iter was reached which means the coef_ did not converge\n",
      "  warnings.warn(\n"
     ]
    },
    {
     "name": "stdout",
     "output_type": "stream",
     "text": [
      "[CV 2/5] END l1_ratio=0.8, max_iter=10, penalty=elasticnet, solver=saga;, score=0.719 total time=   0.1s\n",
      "[CV 3/5] END l1_ratio=0.8, max_iter=10, penalty=elasticnet, solver=saga;, score=0.719 total time=   0.1s\n"
     ]
    },
    {
     "name": "stderr",
     "output_type": "stream",
     "text": [
      "c:\\Users\\Kevin\\.virtualenvs\\Code-CYgrxAwh\\lib\\site-packages\\sklearn\\linear_model\\_sag.py:350: ConvergenceWarning: The max_iter was reached which means the coef_ did not converge\n",
      "  warnings.warn(\n"
     ]
    },
    {
     "name": "stdout",
     "output_type": "stream",
     "text": [
      "[CV 4/5] END l1_ratio=0.8, max_iter=10, penalty=elasticnet, solver=saga;, score=0.729 total time=   0.1s\n"
     ]
    },
    {
     "name": "stderr",
     "output_type": "stream",
     "text": [
      "c:\\Users\\Kevin\\.virtualenvs\\Code-CYgrxAwh\\lib\\site-packages\\sklearn\\linear_model\\_sag.py:350: ConvergenceWarning: The max_iter was reached which means the coef_ did not converge\n",
      "  warnings.warn(\n"
     ]
    },
    {
     "name": "stdout",
     "output_type": "stream",
     "text": [
      "[CV 5/5] END l1_ratio=0.8, max_iter=10, penalty=elasticnet, solver=saga;, score=0.728 total time=   0.2s\n",
      "[CV 1/5] END l1_ratio=0.8, max_iter=100, penalty=elasticnet, solver=saga;, score=0.731 total time=   0.2s\n",
      "[CV 2/5] END l1_ratio=0.8, max_iter=100, penalty=elasticnet, solver=saga;, score=0.720 total time=   0.2s\n",
      "[CV 3/5] END l1_ratio=0.8, max_iter=100, penalty=elasticnet, solver=saga;, score=0.719 total time=   0.2s\n",
      "[CV 4/5] END l1_ratio=0.8, max_iter=100, penalty=elasticnet, solver=saga;, score=0.729 total time=   0.2s\n",
      "[CV 5/5] END l1_ratio=0.8, max_iter=100, penalty=elasticnet, solver=saga;, score=0.728 total time=   0.1s\n",
      "[CV 1/5] END l1_ratio=0.9, max_iter=10, penalty=elasticnet, solver=saga;, score=0.730 total time=   0.1s\n"
     ]
    },
    {
     "name": "stderr",
     "output_type": "stream",
     "text": [
      "c:\\Users\\Kevin\\.virtualenvs\\Code-CYgrxAwh\\lib\\site-packages\\sklearn\\linear_model\\_sag.py:350: ConvergenceWarning: The max_iter was reached which means the coef_ did not converge\n",
      "  warnings.warn(\n",
      "c:\\Users\\Kevin\\.virtualenvs\\Code-CYgrxAwh\\lib\\site-packages\\sklearn\\linear_model\\_sag.py:350: ConvergenceWarning: The max_iter was reached which means the coef_ did not converge\n",
      "  warnings.warn(\n"
     ]
    },
    {
     "name": "stdout",
     "output_type": "stream",
     "text": [
      "[CV 2/5] END l1_ratio=0.9, max_iter=10, penalty=elasticnet, solver=saga;, score=0.719 total time=   0.1s\n"
     ]
    },
    {
     "name": "stderr",
     "output_type": "stream",
     "text": [
      "c:\\Users\\Kevin\\.virtualenvs\\Code-CYgrxAwh\\lib\\site-packages\\sklearn\\linear_model\\_sag.py:350: ConvergenceWarning: The max_iter was reached which means the coef_ did not converge\n",
      "  warnings.warn(\n",
      "c:\\Users\\Kevin\\.virtualenvs\\Code-CYgrxAwh\\lib\\site-packages\\sklearn\\linear_model\\_sag.py:350: ConvergenceWarning: The max_iter was reached which means the coef_ did not converge\n",
      "  warnings.warn(\n"
     ]
    },
    {
     "name": "stdout",
     "output_type": "stream",
     "text": [
      "[CV 3/5] END l1_ratio=0.9, max_iter=10, penalty=elasticnet, solver=saga;, score=0.719 total time=   0.1s\n",
      "[CV 4/5] END l1_ratio=0.9, max_iter=10, penalty=elasticnet, solver=saga;, score=0.729 total time=   0.1s\n"
     ]
    },
    {
     "name": "stderr",
     "output_type": "stream",
     "text": [
      "c:\\Users\\Kevin\\.virtualenvs\\Code-CYgrxAwh\\lib\\site-packages\\sklearn\\linear_model\\_sag.py:350: ConvergenceWarning: The max_iter was reached which means the coef_ did not converge\n",
      "  warnings.warn(\n"
     ]
    },
    {
     "name": "stdout",
     "output_type": "stream",
     "text": [
      "[CV 5/5] END l1_ratio=0.9, max_iter=10, penalty=elasticnet, solver=saga;, score=0.728 total time=   0.1s\n",
      "[CV 1/5] END l1_ratio=0.9, max_iter=100, penalty=elasticnet, solver=saga;, score=0.731 total time=   0.1s\n",
      "[CV 2/5] END l1_ratio=0.9, max_iter=100, penalty=elasticnet, solver=saga;, score=0.720 total time=   0.2s\n",
      "[CV 3/5] END l1_ratio=0.9, max_iter=100, penalty=elasticnet, solver=saga;, score=0.719 total time=   0.1s\n",
      "[CV 4/5] END l1_ratio=0.9, max_iter=100, penalty=elasticnet, solver=saga;, score=0.729 total time=   0.2s\n",
      "[CV 5/5] END l1_ratio=0.9, max_iter=100, penalty=elasticnet, solver=saga;, score=0.728 total time=   0.2s\n",
      "[CV 1/5] END l1_ratio=1.0, max_iter=10, penalty=elasticnet, solver=saga;, score=0.730 total time=   0.1s\n"
     ]
    },
    {
     "name": "stderr",
     "output_type": "stream",
     "text": [
      "c:\\Users\\Kevin\\.virtualenvs\\Code-CYgrxAwh\\lib\\site-packages\\sklearn\\linear_model\\_sag.py:350: ConvergenceWarning: The max_iter was reached which means the coef_ did not converge\n",
      "  warnings.warn(\n",
      "c:\\Users\\Kevin\\.virtualenvs\\Code-CYgrxAwh\\lib\\site-packages\\sklearn\\linear_model\\_sag.py:350: ConvergenceWarning: The max_iter was reached which means the coef_ did not converge\n",
      "  warnings.warn(\n"
     ]
    },
    {
     "name": "stdout",
     "output_type": "stream",
     "text": [
      "[CV 2/5] END l1_ratio=1.0, max_iter=10, penalty=elasticnet, solver=saga;, score=0.719 total time=   0.1s\n",
      "[CV 3/5] END l1_ratio=1.0, max_iter=10, penalty=elasticnet, solver=saga;, score=0.719 total time=   0.1s\n"
     ]
    },
    {
     "name": "stderr",
     "output_type": "stream",
     "text": [
      "c:\\Users\\Kevin\\.virtualenvs\\Code-CYgrxAwh\\lib\\site-packages\\sklearn\\linear_model\\_sag.py:350: ConvergenceWarning: The max_iter was reached which means the coef_ did not converge\n",
      "  warnings.warn(\n",
      "c:\\Users\\Kevin\\.virtualenvs\\Code-CYgrxAwh\\lib\\site-packages\\sklearn\\linear_model\\_sag.py:350: ConvergenceWarning: The max_iter was reached which means the coef_ did not converge\n",
      "  warnings.warn(\n"
     ]
    },
    {
     "name": "stdout",
     "output_type": "stream",
     "text": [
      "[CV 4/5] END l1_ratio=1.0, max_iter=10, penalty=elasticnet, solver=saga;, score=0.729 total time=   0.1s\n"
     ]
    },
    {
     "name": "stderr",
     "output_type": "stream",
     "text": [
      "c:\\Users\\Kevin\\.virtualenvs\\Code-CYgrxAwh\\lib\\site-packages\\sklearn\\linear_model\\_sag.py:350: ConvergenceWarning: The max_iter was reached which means the coef_ did not converge\n",
      "  warnings.warn(\n"
     ]
    },
    {
     "name": "stdout",
     "output_type": "stream",
     "text": [
      "[CV 5/5] END l1_ratio=1.0, max_iter=10, penalty=elasticnet, solver=saga;, score=0.728 total time=   0.1s\n",
      "[CV 1/5] END l1_ratio=1.0, max_iter=100, penalty=elasticnet, solver=saga;, score=0.731 total time=   0.5s\n",
      "[CV 2/5] END l1_ratio=1.0, max_iter=100, penalty=elasticnet, solver=saga;, score=0.720 total time=   0.1s\n",
      "[CV 3/5] END l1_ratio=1.0, max_iter=100, penalty=elasticnet, solver=saga;, score=0.719 total time=   0.2s\n",
      "[CV 4/5] END l1_ratio=1.0, max_iter=100, penalty=elasticnet, solver=saga;, score=0.729 total time=   0.2s\n",
      "[CV 5/5] END l1_ratio=1.0, max_iter=100, penalty=elasticnet, solver=saga;, score=0.728 total time=   0.3s\n"
     ]
    },
    {
     "data": {
      "text/html": [
       "<div>\n",
       "<style scoped>\n",
       "    .dataframe tbody tr th:only-of-type {\n",
       "        vertical-align: middle;\n",
       "    }\n",
       "\n",
       "    .dataframe tbody tr th {\n",
       "        vertical-align: top;\n",
       "    }\n",
       "\n",
       "    .dataframe thead th {\n",
       "        text-align: right;\n",
       "    }\n",
       "</style>\n",
       "<table border=\"1\" class=\"dataframe\">\n",
       "  <thead>\n",
       "    <tr style=\"text-align: right;\">\n",
       "      <th></th>\n",
       "      <th>Dataset</th>\n",
       "      <th>Scaling</th>\n",
       "      <th>Model</th>\n",
       "      <th>Hyper params</th>\n",
       "      <th>Accuracy</th>\n",
       "    </tr>\n",
       "  </thead>\n",
       "  <tbody>\n",
       "    <tr>\n",
       "      <th>0</th>\n",
       "      <td>df1</td>\n",
       "      <td>minmax</td>\n",
       "      <td>LogisticRegression</td>\n",
       "      <td>{'l1_ratio': 0.4, 'max_iter': 10, 'penalty': '...</td>\n",
       "      <td>0.705352</td>\n",
       "    </tr>\n",
       "    <tr>\n",
       "      <th>1</th>\n",
       "      <td>df1</td>\n",
       "      <td>standard</td>\n",
       "      <td>LogisticRegression</td>\n",
       "      <td>{'l1_ratio': 0.0, 'max_iter': 10, 'penalty': '...</td>\n",
       "      <td>0.705205</td>\n",
       "    </tr>\n",
       "    <tr>\n",
       "      <th>2</th>\n",
       "      <td>df2</td>\n",
       "      <td>minmax</td>\n",
       "      <td>LogisticRegression</td>\n",
       "      <td>{'l1_ratio': 1.0, 'max_iter': 10, 'penalty': '...</td>\n",
       "      <td>0.503519</td>\n",
       "    </tr>\n",
       "    <tr>\n",
       "      <th>3</th>\n",
       "      <td>df2</td>\n",
       "      <td>standard</td>\n",
       "      <td>LogisticRegression</td>\n",
       "      <td>{'l1_ratio': 0.4, 'max_iter': 100, 'penalty': ...</td>\n",
       "      <td>0.503372</td>\n",
       "    </tr>\n",
       "  </tbody>\n",
       "</table>\n",
       "</div>"
      ],
      "text/plain": [
       "  Dataset   Scaling               Model  \\\n",
       "0     df1    minmax  LogisticRegression   \n",
       "1     df1  standard  LogisticRegression   \n",
       "2     df2    minmax  LogisticRegression   \n",
       "3     df2  standard  LogisticRegression   \n",
       "\n",
       "                                        Hyper params  Accuracy  \n",
       "0  {'l1_ratio': 0.4, 'max_iter': 10, 'penalty': '...  0.705352  \n",
       "1  {'l1_ratio': 0.0, 'max_iter': 10, 'penalty': '...  0.705205  \n",
       "2  {'l1_ratio': 1.0, 'max_iter': 10, 'penalty': '...  0.503519  \n",
       "3  {'l1_ratio': 0.4, 'max_iter': 100, 'penalty': ...  0.503372  "
      ]
     },
     "execution_count": 14,
     "metadata": {},
     "output_type": "execute_result"
    }
   ],
   "source": [
    "import warnings\n",
    "warnings.filterwarnings('ignore')\n",
    "\n",
    "model_metrics = pd.DataFrame(columns=['Dataset', 'Scaling', 'Model', 'Hyper params', 'Accuracy'])\n",
    "model_metrics\n",
    "\n",
    "for dataset_name, dataset in datasets.items():\n",
    "    \n",
    "    # Loop through and use the minmax and standard scaler\n",
    "    for scaler_name in ['minmax', 'standard']:\n",
    "        \n",
    "        # Scale the data\n",
    "        scaled_x_train, scaled_x_val = Helper.scaler(scaler_name, dataset['x_train'], dataset['x_val'])\n",
    "\n",
    "        # loop through all models. data = dict with model object and parameter info\n",
    "        for model_name, data in model_data.items():\n",
    "            \n",
    "            # Search # find the best hyperparamters\n",
    "            GS = GridSearchCV(\n",
    "                estimator = data['model'],\n",
    "                param_grid = data['search space'],\n",
    "                #n_jobs=2,\n",
    "                scoring = 'accuracy',\n",
    "                cv = 5,\n",
    "                verbose = 3\n",
    "            )\n",
    "            \n",
    "            GS.fit(scaled_x_train, dataset['y_train'])\n",
    "            \n",
    "            val_pred = GS.predict(scaled_x_val)\n",
    "            \n",
    "            score = accuracy_score(dataset['y_val'], val_pred)\n",
    "            \n",
    "            model_metrics.loc[len(model_metrics.index)] = [\n",
    "                dataset_name,\n",
    "                scaler_name,\n",
    "                model_name,\n",
    "                GS.best_params_,\n",
    "                score\n",
    "            ]\n",
    "            \n",
    "\n",
    "model_metrics"
   ]
  },
  {
   "cell_type": "code",
   "execution_count": null,
   "metadata": {},
   "outputs": [],
   "source": [
    "# använda GridSearchCV() och välja lämplig evalueringsmetric (accurancy)\n",
    "# gör prediction på valideringsdata\n",
    "# beräkna och spara evaluation score för ditt valda metric\n",
    "# checka bästa parametrarna för respektive modell"
   ]
  },
  {
   "cell_type": "code",
   "execution_count": null,
   "metadata": {},
   "outputs": [
    {
     "name": "stderr",
     "output_type": "stream",
     "text": [
      "c:\\Users\\Kevin\\.virtualenvs\\Code-CYgrxAwh\\lib\\site-packages\\sklearn\\base.py:413: UserWarning: X has feature names, but DecisionTreeClassifier was fitted without feature names\n",
      "  warnings.warn(\n"
     ]
    }
   ],
   "source": [
    "clf = DecisionTreeClassifier()\n",
    "clf.fit(df1_x_train, df1_y_train)\n",
    "y_pred = clf.predict(df1_x_test)\n",
    "\n",
    "\n",
    "\n",
    "\n",
    "# print(classification_report(df1_y_test, y_pred))\n",
    "# cm = confusion_matrix(df1_y_test, y_pred)\n",
    "# ConfusionMatrixDisplay(cm).plot();\n"
   ]
  }
 ],
 "metadata": {
  "kernelspec": {
   "display_name": "Code-CYgrxAwh",
   "language": "python",
   "name": "python3"
  },
  "language_info": {
   "codemirror_mode": {
    "name": "ipython",
    "version": 3
   },
   "file_extension": ".py",
   "mimetype": "text/x-python",
   "name": "python",
   "nbconvert_exporter": "python",
   "pygments_lexer": "ipython3",
   "version": "3.9.13"
  },
  "orig_nbformat": 4,
  "vscode": {
   "interpreter": {
    "hash": "d154d3528bab554518fce4b6bb47c23f2c1c42d729e7fb7463b0619040c8c50c"
   }
  }
 },
 "nbformat": 4,
 "nbformat_minor": 2
}
